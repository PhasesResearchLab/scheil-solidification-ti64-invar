{
 "cells": [
  {
   "cell_type": "code",
   "execution_count": 1,
   "metadata": {},
   "outputs": [],
   "source": [
    "import os\n",
    "import json\n",
    "import copy\n",
    "from glob import glob\n",
    "import matplotlib.pyplot as plt\n",
    "import numpy as np\n",
    "from pycalphad import calculate, equilibrium, Database, variables as v\n",
    "from pycalphad.core.utils import filter_phases\n",
    "from pycalphad.plot.utils import phase_legend\n",
    "from scheil import simulate_scheil_solidification, simulate_equilibrium_solidification, SolidificationResult\n",
    "from scheil.utils import order_disorder_dict, order_disorder_eq_phases\n",
    "# local helpers.py file\n",
    "# monkey patches pycalphad variables with weights, should be imported *after* pycalphad\n",
    "from helpers import sample_phase_points, W_to_X, comp_interp "
   ]
  },
  {
   "cell_type": "markdown",
   "metadata": {},
   "source": [
    "Load the database file for this system"
   ]
  },
  {
   "cell_type": "code",
   "execution_count": 2,
   "metadata": {},
   "outputs": [],
   "source": [
    "dbf = Database('Fe-Ni-Ti_DeKeyzer.tdb')\n",
    "comps = ['FE', 'NI', 'TI', 'VA']\n",
    "phases = list(dbf.phases.keys())"
   ]
  },
  {
   "cell_type": "code",
   "execution_count": 3,
   "metadata": {},
   "outputs": [],
   "source": [
    "# Compute a map from ordered to disorderd phases, to determine equilibrium solidification phase amounts.\n",
    "ord_disord_map = order_disorder_dict(dbf, comps, phases)"
   ]
  },
  {
   "cell_type": "markdown",
   "metadata": {},
   "source": [
    "## Add points near the convex hull manually\n",
    "\n",
    "In this system, the phases are modeled with many sublattices. Sampling over the single phase energy surfaces to find and sample phase constitutions around equilibrium composition sets can greatly increase the speed and accuracy of the solver during the solidification simulations.\n",
    "\n",
    "Here, several temperatures are sampled."
   ]
  },
  {
   "cell_type": "code",
   "execution_count": 4,
   "metadata": {},
   "outputs": [
    {
     "name": "stdout",
     "output_type": "stream",
     "text": [
      "A3: T= 1400 "
     ]
    },
    {
     "name": "stderr",
     "output_type": "stream",
     "text": [
      "/Users/brandon/Projects/pycalphad/pycalphad/core/lower_convex_hull.py:136: RuntimeWarning: invalid value encountered in double_scalars\n",
      "  result_array_GM_values[it.multi_index] = new_energy / molesum\n"
     ]
    },
    {
     "name": "stdout",
     "output_type": "stream",
     "text": [
      "1660 - 17930 points\n",
      "BCC2: T= 1400 1660 - 126277 points\n",
      "C14: T= 1400 1660 - 372806 points\n",
      "FCC4: T= 1400 1660 - 3261286 points\n",
      "LIQUID: T= 1400 1660 - 17932 points\n",
      "NI3TI: T= 1400 1660 - 52942 points\n",
      "NITI2: T= 1400 1660 - 56376 points\n"
     ]
    }
   ],
   "source": [
    "TEMPERATURES = [1400, 1660]\n",
    "pts_dict = {}\n",
    "active_phases = ['A3', 'BCC2', 'FCC4', 'NI3TI', 'NITI2', 'LIQUID', 'C14']\n",
    "for phase_name in filter_phases(dbf, list(map(v.Species, comps)), phases):\n",
    "    print(phase_name, end=': T= ')\n",
    "    phase_pts = []\n",
    "    for T in TEMPERATURES:\n",
    "        print(T, end=' ')\n",
    "        phase_pts.append(sample_phase_points(dbf, comps, phase_name, {v.T: T, v.P: 101325, v.N: 1, v.X('FE'): (0, 1.01, 0.1), v.X('NI'): (0, 1.01, 0.1)}, 500, 100))\n",
    "    pts_dict[phase_name] = np.concatenate(phase_pts)\n",
    "    print(f'- {pts_dict[phase_name].shape[0]} points')"
   ]
  },
  {
   "cell_type": "markdown",
   "metadata": {},
   "source": [
    "# Individual layers\n",
    "\n",
    "Note that in all simulations, the point dictionary will be copied. This means that each simulation will not be affected by others regardless of the number of times/order of the simulations. At the same time, the added points won't be able to accumulate through the simulations. They will be reproducible.\n",
    "\n",
    "Common parameters for all simulations."
   ]
  },
  {
   "cell_type": "code",
   "execution_count": 5,
   "metadata": {},
   "outputs": [],
   "source": [
    "RESULTS_DIR = os.path.join('results')\n",
    "if not os.path.exists(RESULTS_DIR):\n",
    "    os.mkdir(RESULTS_DIR)\n",
    "LAYERS_DIR = os.path.join(RESULTS_DIR, 'layers')\n",
    "if not os.path.exists(LAYERS_DIR):\n",
    "    os.mkdir(LAYERS_DIR)"
   ]
  },
  {
   "cell_type": "code",
   "execution_count": 6,
   "metadata": {},
   "outputs": [],
   "source": [
    "step_temperature = 10.0\n",
    "verbose = True"
   ]
  },
  {
   "cell_type": "markdown",
   "metadata": {},
   "source": [
    "## CP Ti\n",
    "\n",
    "### Layer 24"
   ]
  },
  {
   "cell_type": "code",
   "execution_count": 7,
   "metadata": {},
   "outputs": [
    {
     "name": "stdout",
     "output_type": "stream",
     "text": [
      "building callables... done\n",
      "Adding points to LIQUID. T=1620.000, X_NI=0.05, X_TI=0.86, ΔT=10.000, NL: 1.000, NP(LIQUID)=1.000 \n",
      "Adding points to LIQUID. T=1610.000, X_NI=0.05, X_TI=0.86, ΔT=10.000, NL: 1.000, NP(LIQUID)=1.000 \n",
      "Adding points to LIQUID. T=1600.000, X_NI=0.05, X_TI=0.86, ΔT=10.000, NL: 1.000, NP(LIQUID)=1.000 \n",
      "Adding points to LIQUID. Adding points to BCC2. New phases seen: {'A2'}. T=1590.000, X_NI=0.05, X_TI=0.86, ΔT=10.000, NL: 0.852, NP(LIQUID)=0.852 NP(A2)=0.148 \n",
      "Adding points to LIQUID. Adding points to BCC2. T=1580.000, X_NI=0.06, X_TI=0.84, ΔT=10.000, NL: 0.814, NP(LIQUID)=0.955 NP(A2)=0.045 \n",
      "Adding points to LIQUID. Adding points to BCC2. T=1570.000, X_NI=0.06, X_TI=0.84, ΔT=10.000, NL: 0.778, NP(LIQUID)=0.956 NP(A2)=0.044 \n",
      "Adding points to LIQUID. Adding points to BCC2. T=1560.000, X_NI=0.06, X_TI=0.84, ΔT=10.000, NL: 0.744, NP(LIQUID)=0.956 NP(A2)=0.044 \n",
      "Adding points to LIQUID. Adding points to BCC2. T=1550.000, X_NI=0.06, X_TI=0.83, ΔT=10.000, NL: 0.712, NP(LIQUID)=0.957 NP(A2)=0.043 \n",
      "Adding points to LIQUID. Adding points to BCC2. T=1540.000, X_NI=0.06, X_TI=0.83, ΔT=10.000, NL: 0.681, NP(LIQUID)=0.957 NP(A2)=0.043 \n",
      "Adding points to LIQUID. Adding points to BCC2. T=1530.000, X_NI=0.07, X_TI=0.83, ΔT=10.000, NL: 0.652, NP(LIQUID)=0.957 NP(A2)=0.043 \n",
      "Adding points to LIQUID. Adding points to BCC2. T=1520.000, X_NI=0.07, X_TI=0.82, ΔT=10.000, NL: 0.624, NP(LIQUID)=0.958 NP(A2)=0.042 \n",
      "Adding points to LIQUID. Adding points to BCC2. T=1510.000, X_NI=0.07, X_TI=0.82, ΔT=10.000, NL: 0.598, NP(LIQUID)=0.958 NP(A2)=0.042 \n",
      "Adding points to LIQUID. Adding points to BCC2. T=1500.000, X_NI=0.07, X_TI=0.82, ΔT=10.000, NL: 0.573, NP(LIQUID)=0.958 NP(A2)=0.042 \n",
      "Adding points to LIQUID. Adding points to BCC2. T=1490.000, X_NI=0.07, X_TI=0.81, ΔT=10.000, NL: 0.549, NP(LIQUID)=0.958 NP(A2)=0.042 \n",
      "Adding points to LIQUID. Adding points to BCC2. T=1480.000, X_NI=0.07, X_TI=0.81, ΔT=10.000, NL: 0.526, NP(LIQUID)=0.958 NP(A2)=0.042 \n",
      "Adding points to LIQUID. Adding points to BCC2. T=1470.000, X_NI=0.08, X_TI=0.81, ΔT=10.000, NL: 0.504, NP(LIQUID)=0.958 NP(A2)=0.042 \n",
      "Adding points to LIQUID. Adding points to BCC2. T=1460.000, X_NI=0.08, X_TI=0.80, ΔT=10.000, NL: 0.483, NP(LIQUID)=0.958 NP(A2)=0.042 \n",
      "Adding points to LIQUID. Adding points to BCC2. T=1450.000, X_NI=0.08, X_TI=0.80, ΔT=10.000, NL: 0.463, NP(LIQUID)=0.958 NP(A2)=0.042 \n",
      "Adding points to LIQUID. Adding points to BCC2. T=1440.000, X_NI=0.08, X_TI=0.80, ΔT=10.000, NL: 0.444, NP(LIQUID)=0.958 NP(A2)=0.042 \n",
      "Adding points to LIQUID. Adding points to BCC2. T=1430.000, X_NI=0.09, X_TI=0.79, ΔT=10.000, NL: 0.425, NP(LIQUID)=0.958 NP(A2)=0.042 \n",
      "Adding points to LIQUID. Adding points to BCC2. T=1420.000, X_NI=0.09, X_TI=0.79, ΔT=10.000, NL: 0.407, NP(LIQUID)=0.958 NP(A2)=0.042 \n",
      "Adding points to LIQUID. Adding points to BCC2. T=1410.000, X_NI=0.09, X_TI=0.79, ΔT=10.000, NL: 0.390, NP(LIQUID)=0.958 NP(A2)=0.042 \n",
      "Adding points to LIQUID. Adding points to BCC2. T=1400.000, X_NI=0.09, X_TI=0.78, ΔT=10.000, NL: 0.373, NP(LIQUID)=0.957 NP(A2)=0.043 \n",
      "Adding points to LIQUID. Adding points to BCC2. T=1390.000, X_NI=0.10, X_TI=0.78, ΔT=10.000, NL: 0.357, NP(LIQUID)=0.957 NP(A2)=0.043 \n",
      "Adding points to LIQUID. Adding points to BCC2. T=1380.000, X_NI=0.10, X_TI=0.78, ΔT=10.000, NL: 0.342, NP(LIQUID)=0.957 NP(A2)=0.043 \n",
      "Adding points to LIQUID. Adding points to BCC2. T=1370.000, X_NI=0.10, X_TI=0.77, ΔT=10.000, NL: 0.327, NP(LIQUID)=0.957 NP(A2)=0.043 \n",
      "Adding points to LIQUID. Adding points to BCC2. T=1360.000, X_NI=0.10, X_TI=0.77, ΔT=10.000, NL: 0.313, NP(LIQUID)=0.956 NP(A2)=0.044 \n",
      "Adding points to LIQUID. Adding points to BCC2. T=1350.000, X_NI=0.11, X_TI=0.76, ΔT=10.000, NL: 0.299, NP(LIQUID)=0.956 NP(A2)=0.044 \n",
      "Adding points to LIQUID. Adding points to BCC2. T=1340.000, X_NI=0.11, X_TI=0.76, ΔT=10.000, NL: 0.286, NP(LIQUID)=0.956 NP(A2)=0.044 \n",
      "Adding points to LIQUID. Adding points to BCC2. T=1330.000, X_NI=0.11, X_TI=0.76, ΔT=10.000, NL: 0.273, NP(LIQUID)=0.955 NP(A2)=0.045 \n",
      "Adding points to LIQUID. Adding points to BCC2. T=1320.000, X_NI=0.12, X_TI=0.75, ΔT=10.000, NL: 0.261, NP(LIQUID)=0.955 NP(A2)=0.045 \n",
      "Adding points to LIQUID. Adding points to BCC2. T=1310.000, X_NI=0.12, X_TI=0.75, ΔT=10.000, NL: 0.249, NP(LIQUID)=0.955 NP(A2)=0.045 \n",
      "Adding points to LIQUID. Adding points to BCC2. T=1300.000, X_NI=0.12, X_TI=0.75, ΔT=10.000, NL: 0.237, NP(LIQUID)=0.954 NP(A2)=0.046 \n",
      "Adding points to BCC2. Adding points to LIQUID. T=1290.000, X_NI=0.13, X_TI=0.74, ΔT=10.000, NL: 0.226, NP(LIQUID)=0.954 NP(A2)=0.046 \n",
      "Adding points to BCC2. Adding points to NITI2. Adding points to LIQUID. New phases seen: {'NITI2'}. T=1280.000, X_NI=0.13, X_TI=0.74, ΔT=10.000, NL: 0.093, NP(LIQUID)=0.286 NP(A2)=0.318 NP(NITI2)=0.396 \n",
      "Adding points to NITI2. Adding points to LIQUID. Adding points to BCC2. T=1270.000, X_NI=0.15, X_TI=0.74, ΔT=10.000, NL: 0.038, NP(LIQUID)=0.281 NP(A2)=0.307 NP(NITI2)=0.411 \n",
      "Adding points to NITI2. Adding points to LIQUID. Adding points to BCC2. T=1260.000, X_NI=0.17, X_TI=0.74, ΔT=10.000, NL: 0.016, NP(LIQUID)=0.307 NP(A2)=0.285 NP(NITI2)=0.407 \n",
      "Adding points to NITI2. Adding points to LIQUID. Adding points to BCC2. T=1250.000, X_NI=0.19, X_TI=0.74, ΔT=10.000, NL: 0.006, NP(LIQUID)=0.280 NP(A2)=0.286 NP(NITI2)=0.435 \n",
      "Adding points to NITI2. Adding points to LIQUID. Adding points to BCC2. T=1240.000, X_NI=0.21, X_TI=0.74, ΔT=10.000, NL: 0.002, NP(LIQUID)=0.166 NP(A2)=0.318 NP(NITI2)=0.516 \n",
      "Adding points to NITI2. Adding points to BCC2. No liquid phase found at T=1230.000, X_NI=0.22, X_TI=0.75. (Found {'A2', 'NITI2'}) Stepping back and reducing step size.\n",
      "Adding points to NITI2. Adding points to LIQUID. Adding points to BCC2. T=1240.000, X_NI=0.22, X_TI=0.75, ΔT=8.333, NL: 0.002, NP(LIQUID)=1.000 NP(A2)=0.000 NP(NITI2)=0.000 \n",
      "Adding points to NITI2. Adding points to LIQUID. Adding points to BCC2. T=1231.667, X_NI=0.22, X_TI=0.75, ΔT=8.333, NL: 6.28E-04, NP(LIQUID)=0.107 NP(A2)=0.330 NP(NITI2)=0.563 \n",
      "Adding points to NITI2. Adding points to BCC2. No liquid phase found at T=1223.333, X_NI=0.23, X_TI=0.75. (Found {'A2', 'NITI2'}) Stepping back and reducing step size.\n",
      "Adding points to LIQUID. Adding points to NITI2. T=1231.667, X_NI=0.23, X_TI=0.75, ΔT=6.944, NL: 6.28E-04, NP(LIQUID)=1.000 NP(NITI2)=0.000 \n",
      "Adding points to NITI2. Adding points to BCC2. No liquid phase found at T=1224.722, X_NI=0.23, X_TI=0.75. (Found {'A2', 'NITI2'}) Stepping back and reducing step size.\n",
      "Adding points to LIQUID. Adding points to BCC2. Adding points to NITI2. T=1231.667, X_NI=0.23, X_TI=0.75, ΔT=5.787, NL: 6.28E-04, NP(LIQUID)=1.000 NP(A2)=0.000 NP(NITI2)=0.000 \n",
      "Adding points to BCC2. Adding points to NITI2. Adding points to LIQUID. T=1225.880, X_NI=0.23, X_TI=0.75, ΔT=5.787, NL: 1.99E-04, NP(LIQUID)=0.150 NP(A2)=0.308 NP(NITI2)=0.542 \n",
      "Adding points to NITI2. Adding points to BCC2. No liquid phase found at T=1220.093, X_NI=0.24, X_TI=0.75. (Found {'A2', 'NITI2'}) Stepping back and reducing step size.\n",
      "Adding points to LIQUID. Adding points to NITI2. T=1225.880, X_NI=0.24, X_TI=0.75, ΔT=4.823, NL: 1.99E-04, NP(LIQUID)=1.000 NP(NITI2)=0.000 \n",
      "Adding points to NITI2. Adding points to BCC2. No liquid phase found at T=1221.057, X_NI=0.24, X_TI=0.75. (Found {'A2', 'NITI2'}) Stepping back and reducing step size.\n",
      "Adding points to LIQUID. Adding points to BCC2. T=1225.880, X_NI=0.24, X_TI=0.75, ΔT=4.019, NL: 1.99E-04, NP(LIQUID)=1.000 NP(A2)=0.000 \n",
      "Adding points to NITI2. Adding points to LIQUID. Adding points to BCC2. T=1221.861, X_NI=0.24, X_TI=0.75, ΔT=4.019, NL: 6.14E-05, NP(LIQUID)=0.138 NP(A2)=0.307 NP(NITI2)=0.555 Liquid fraction below criterion 0.0001 . Stopping at X_NI=0.24, X_TI=0.75\n",
      "<SolidificationResult: scheil T=(1620.0 -> 1221.9) (A2, NITI2)>\n",
      "(A2: 0.8928), (NITI2: 0.1072)\n"
     ]
    }
   ],
   "source": [
    "composition = {v.W('NI'): 0.060, v.W('TI'): 0.834}\n",
    "composition = W_to_X(composition, dbf, comps)\n",
    "start_temperature = 1620\n",
    "res = simulate_scheil_solidification(dbf, comps, phases, composition, start_temperature=start_temperature, step_temperature=step_temperature, verbose=verbose, eq_kwargs={'calc_opts': {'points': copy.deepcopy(pts_dict)}})\n",
    "print(res)\n",
    "with open(os.path.join(LAYERS_DIR, 'CPTi-L24.json'), 'w') as fp:\n",
    "    json.dump(res.to_dict(), fp)\n",
    "print(\", \".join([f\"({ph}: {vals[-1]:0.4f})\" for ph, vals in res.cum_phase_amounts.items() if not np.isclose(vals[-1], 0)]))"
   ]
  },
  {
   "cell_type": "code",
   "execution_count": 8,
   "metadata": {},
   "outputs": [
    {
     "name": "stdout",
     "output_type": "stream",
     "text": [
      "building callables... done\n",
      "T=\n",
      "1620 1610.0 1600.0 1590.0 1580.0 1570.0 1560.0 1550.0 1540.0 1530.0 1520.0 1510.0 1500.0 1490.0 1480.0 1470.0 1460.0 1450.0 1440.0 1430.0 1420.0 1410.0 1400.0 1390.0 1380.0 1370.0 1360.0 1350.0 1340.0 Found phases {'BCC2'}. Starting binary search between T=(1340.0, 1350.0) Finshed binary search at T=1346.953125 with phases={'BCC2'} and NP=[1.]\n",
      "(A2: 1.0000)\n"
     ]
    }
   ],
   "source": [
    "eq_sol = simulate_equilibrium_solidification(dbf, comps, phases, composition, start_temperature=start_temperature, step_temperature=step_temperature, verbose=verbose, eq_kwargs={'calc_opts': {'points': copy.deepcopy(pts_dict)}})\n",
    "eq_res = equilibrium(dbf, comps, phases, {v.P: 101325, v.N: 1.0, v.T: eq_sol.temperatures[-1], **composition})\n",
    "print(\", \".join([f\"({ph}: {val:0.4f})\" for ph, val in zip(order_disorder_eq_phases(eq_res, ord_disord_map), eq_res.NP.values.squeeze()) if ph != '']))"
   ]
  },
  {
   "cell_type": "markdown",
   "metadata": {},
   "source": [
    "### Layer 32"
   ]
  },
  {
   "cell_type": "code",
   "execution_count": 9,
   "metadata": {},
   "outputs": [
    {
     "name": "stdout",
     "output_type": "stream",
     "text": [
      "building callables... done\n",
      "Adding points to LIQUID. T=1600.000, X_NI=0.15, X_TI=0.58, ΔT=10.000, NL: 1.000, NP(LIQUID)=1.000 \n",
      "Adding points to LIQUID. T=1590.000, X_NI=0.15, X_TI=0.58, ΔT=10.000, NL: 1.000, NP(LIQUID)=1.000 \n",
      "Adding points to LIQUID. T=1580.000, X_NI=0.15, X_TI=0.58, ΔT=10.000, NL: 1.000, NP(LIQUID)=1.000 \n",
      "Adding points to LIQUID. T=1570.000, X_NI=0.15, X_TI=0.58, ΔT=10.000, NL: 1.000, NP(LIQUID)=1.000 \n",
      "Adding points to LIQUID. T=1560.000, X_NI=0.15, X_TI=0.58, ΔT=10.000, NL: 1.000, NP(LIQUID)=1.000 \n",
      "Adding points to LIQUID. T=1550.000, X_NI=0.15, X_TI=0.58, ΔT=10.000, NL: 1.000, NP(LIQUID)=1.000 \n",
      "Adding points to LIQUID. T=1540.000, X_NI=0.15, X_TI=0.58, ΔT=10.000, NL: 1.000, NP(LIQUID)=1.000 \n",
      "Adding points to LIQUID. T=1530.000, X_NI=0.15, X_TI=0.58, ΔT=10.000, NL: 1.000, NP(LIQUID)=1.000 \n",
      "Adding points to LIQUID. Adding points to BCC2. New phases seen: {'BCC2'}. T=1520.000, X_NI=0.15, X_TI=0.58, ΔT=10.000, NL: 0.827, NP(LIQUID)=0.827 NP(BCC2)=0.173 \n",
      "Adding points to LIQUID. Adding points to BCC2. T=1510.000, X_NI=0.15, X_TI=0.59, ΔT=10.000, NL: 0.744, NP(LIQUID)=0.900 NP(BCC2)=0.100 \n",
      "Adding points to LIQUID. Adding points to BCC2. T=1500.000, X_NI=0.15, X_TI=0.60, ΔT=10.000, NL: 0.680, NP(LIQUID)=0.914 NP(BCC2)=0.086 \n",
      "Adding points to BCC2. Adding points to LIQUID. T=1490.000, X_NI=0.15, X_TI=0.61, ΔT=10.000, NL: 0.629, NP(LIQUID)=0.925 NP(BCC2)=0.075 \n",
      "Adding points to BCC2. Adding points to LIQUID. T=1480.000, X_NI=0.15, X_TI=0.62, ΔT=10.000, NL: 0.587, NP(LIQUID)=0.933 NP(BCC2)=0.067 \n",
      "Adding points to BCC2. Adding points to LIQUID. T=1470.000, X_NI=0.15, X_TI=0.62, ΔT=10.000, NL: 0.552, NP(LIQUID)=0.940 NP(BCC2)=0.060 \n",
      "Adding points to LIQUID. Adding points to BCC2. T=1460.000, X_NI=0.15, X_TI=0.63, ΔT=10.000, NL: 0.522, NP(LIQUID)=0.946 NP(BCC2)=0.054 \n",
      "Adding points to LIQUID. Adding points to BCC2. T=1450.000, X_NI=0.15, X_TI=0.64, ΔT=10.000, NL: 0.496, NP(LIQUID)=0.950 NP(BCC2)=0.050 \n",
      "Adding points to LIQUID. Adding points to BCC2. T=1440.000, X_NI=0.15, X_TI=0.64, ΔT=10.000, NL: 0.474, NP(LIQUID)=0.954 NP(BCC2)=0.046 \n",
      "Adding points to LIQUID. Adding points to BCC2. T=1430.000, X_NI=0.15, X_TI=0.65, ΔT=10.000, NL: 0.453, NP(LIQUID)=0.958 NP(BCC2)=0.042 \n",
      "Adding points to LIQUID. Adding points to BCC2. T=1420.000, X_NI=0.15, X_TI=0.66, ΔT=10.000, NL: 0.435, NP(LIQUID)=0.960 NP(BCC2)=0.040 \n",
      "Adding points to LIQUID. Adding points to BCC2. T=1410.000, X_NI=0.15, X_TI=0.66, ΔT=10.000, NL: 0.419, NP(LIQUID)=0.963 NP(BCC2)=0.037 \n",
      "Adding points to LIQUID. Adding points to BCC2. T=1400.000, X_NI=0.15, X_TI=0.67, ΔT=10.000, NL: 0.405, NP(LIQUID)=0.965 NP(BCC2)=0.035 \n",
      "Adding points to BCC2. Adding points to LIQUID. T=1390.000, X_NI=0.14, X_TI=0.67, ΔT=10.000, NL: 0.391, NP(LIQUID)=0.967 NP(BCC2)=0.033 \n",
      "Adding points to BCC2. Adding points to LIQUID. T=1380.000, X_NI=0.14, X_TI=0.68, ΔT=10.000, NL: 0.379, NP(LIQUID)=0.969 NP(BCC2)=0.031 \n",
      "Adding points to BCC2. Adding points to LIQUID. T=1370.000, X_NI=0.14, X_TI=0.68, ΔT=10.000, NL: 0.368, NP(LIQUID)=0.970 NP(BCC2)=0.030 \n",
      "Adding points to BCC2. Adding points to LIQUID. T=1360.000, X_NI=0.14, X_TI=0.69, ΔT=10.000, NL: 0.357, NP(LIQUID)=0.972 NP(BCC2)=0.028 \n",
      "Adding points to BCC2. Adding points to LIQUID. T=1350.000, X_NI=0.14, X_TI=0.69, ΔT=10.000, NL: 0.348, NP(LIQUID)=0.973 NP(BCC2)=0.027 \n",
      "Adding points to BCC2. Adding points to LIQUID. T=1340.000, X_NI=0.14, X_TI=0.70, ΔT=10.000, NL: 0.339, NP(LIQUID)=0.974 NP(BCC2)=0.026 \n",
      "Adding points to BCC2. Adding points to LIQUID. T=1330.000, X_NI=0.14, X_TI=0.70, ΔT=10.000, NL: 0.330, NP(LIQUID)=0.975 NP(BCC2)=0.025 \n",
      "Adding points to BCC2. Adding points to LIQUID. T=1320.000, X_NI=0.14, X_TI=0.70, ΔT=10.000, NL: 0.322, NP(LIQUID)=0.976 NP(BCC2)=0.024 \n",
      "Adding points to NITI2. Adding points to LIQUID. New phases seen: {'NITI2'}. T=1310.000, X_NI=0.14, X_TI=0.71, ΔT=10.000, NL: 0.267, NP(LIQUID)=0.828 NP(NITI2)=0.172 \n",
      "Adding points to NITI2. Adding points to LIQUID. T=1300.000, X_NI=0.14, X_TI=0.72, ΔT=10.000, NL: 0.220, NP(LIQUID)=0.825 NP(NITI2)=0.175 \n",
      "Adding points to LIQUID. Adding points to NITI2. T=1290.000, X_NI=0.14, X_TI=0.73, ΔT=10.000, NL: 0.191, NP(LIQUID)=0.867 NP(NITI2)=0.133 \n",
      "Adding points to LIQUID. Adding points to NITI2. T=1280.000, X_NI=0.13, X_TI=0.74, ΔT=10.000, NL: 0.170, NP(LIQUID)=0.892 NP(NITI2)=0.108 \n",
      "Adding points to NITI2. Adding points to LIQUID. T=1270.000, X_NI=0.13, X_TI=0.75, ΔT=10.000, NL: 0.155, NP(LIQUID)=0.910 NP(NITI2)=0.090 \n",
      "Adding points to NITI2. Adding points to BCC2. New phases seen: {'A2'}. No liquid phase found at T=1260.000, X_NI=0.13, X_TI=0.75. (Found {'A2', 'NITI2'}) Stepping back and reducing step size.\n",
      "Adding points to BCC2. Adding points to NITI2. No liquid phase found at T=1270.000, X_NI=0.13, X_TI=0.75. (Found {'A2', 'NITI2'}) Stepping back and reducing step size.\n",
      "Adding points to BCC2. Adding points to NITI2. Adding points to LIQUID. T=1278.333, X_NI=0.13, X_TI=0.75, ΔT=6.944, NL: 0.084, NP(LIQUID)=0.476 NP(A2)=0.313 NP(NITI2)=0.210 \n",
      "Adding points to NITI2. Adding points to LIQUID. Adding points to BCC2. T=1271.389, X_NI=0.15, X_TI=0.74, ΔT=6.944, NL: 0.047, NP(LIQUID)=0.504 NP(A2)=0.213 NP(NITI2)=0.283 \n",
      "Adding points to NITI2. Adding points to LIQUID. Adding points to BCC2. T=1264.444, X_NI=0.17, X_TI=0.74, ΔT=6.944, NL: 0.027, NP(LIQUID)=0.523 NP(A2)=0.200 NP(NITI2)=0.277 \n",
      "Adding points to NITI2. Adding points to LIQUID. Adding points to BCC2. T=1257.500, X_NI=0.18, X_TI=0.74, ΔT=6.944, NL: 0.016, NP(LIQUID)=0.526 NP(A2)=0.194 NP(NITI2)=0.280 \n",
      "Adding points to NITI2. Adding points to LIQUID. Adding points to BCC2. T=1250.556, X_NI=0.19, X_TI=0.74, ΔT=6.944, NL: 0.009, NP(LIQUID)=0.510 NP(A2)=0.195 NP(NITI2)=0.295 \n",
      "Adding points to NITI2. Adding points to LIQUID. Adding points to BCC2. T=1243.611, X_NI=0.21, X_TI=0.74, ΔT=6.944, NL: 0.005, NP(LIQUID)=0.468 NP(A2)=0.206 NP(NITI2)=0.326 \n",
      "Adding points to NITI2. Adding points to LIQUID. Adding points to BCC2. T=1236.667, X_NI=0.22, X_TI=0.75, ΔT=6.944, NL: 0.002, NP(LIQUID)=0.380 NP(A2)=0.234 NP(NITI2)=0.386 \n",
      "Adding points to NITI2. Adding points to LIQUID. Adding points to BCC2. T=1229.722, X_NI=0.23, X_TI=0.75, ΔT=6.944, NL: 7.81E-04, NP(LIQUID)=0.191 NP(A2)=0.297 NP(NITI2)=0.512 \n",
      "Adding points to NITI2. Adding points to BCC2. No liquid phase found at T=1222.778, X_NI=0.24, X_TI=0.75. (Found {'A2', 'NITI2'}) Stepping back and reducing step size.\n",
      "Adding points to LIQUID. Adding points to NITI2. T=1229.722, X_NI=0.24, X_TI=0.75, ΔT=5.787, NL: 7.81E-04, NP(LIQUID)=1.000 NP(NITI2)=0.000 \n",
      "Adding points to NITI2. Adding points to BCC2. No liquid phase found at T=1223.935, X_NI=0.24, X_TI=0.75. (Found {'A2', 'NITI2'}) Stepping back and reducing step size.\n",
      "Adding points to NITI2. Adding points to LIQUID. Adding points to BCC2. T=1229.722, X_NI=0.24, X_TI=0.75, ΔT=4.823, NL: 7.81E-04, NP(LIQUID)=1.000 NP(A2)=0.000 NP(NITI2)=0.000 \n",
      "Adding points to BCC2. Adding points to NITI2. Adding points to LIQUID. T=1224.900, X_NI=0.24, X_TI=0.75, ΔT=4.823, NL: 2.91E-04, NP(LIQUID)=0.238 NP(A2)=0.275 NP(NITI2)=0.487 \n",
      "Adding points to NITI2. Adding points to BCC2. No liquid phase found at T=1220.077, X_NI=0.24, X_TI=0.75. (Found {'A2', 'NITI2'}) Stepping back and reducing step size.\n",
      "Adding points to LIQUID. Adding points to NITI2. T=1224.900, X_NI=0.24, X_TI=0.75, ΔT=4.019, NL: 2.91E-04, NP(LIQUID)=1.000 NP(NITI2)=0.000 \n",
      "Adding points to NITI2. Adding points to LIQUID. Adding points to BCC2. T=1220.881, X_NI=0.24, X_TI=0.75, ΔT=4.019, NL: 6.88E-05, NP(LIQUID)=0.014 NP(A2)=0.350 NP(NITI2)=0.636 Liquid fraction below criterion 0.0001 . Stopping at X_NI=0.24, X_TI=0.75\n",
      "<SolidificationResult: scheil T=(1600.0 -> 1220.9) (A2, BCC2, NITI2)>\n",
      "(A2: 0.0884), (BCC2: 0.6776), (NITI2: 0.2339)\n"
     ]
    }
   ],
   "source": [
    "composition = {v.W('NI'): 0.165, v.W('TI'): 0.533}\n",
    "composition = W_to_X(composition, dbf, comps)\n",
    "start_temperature = 1600\n",
    "res = simulate_scheil_solidification(dbf, comps, phases, composition, start_temperature=start_temperature, step_temperature=step_temperature, verbose=verbose, eq_kwargs={'calc_opts': {'points': copy.deepcopy(pts_dict)}})\n",
    "print(res)\n",
    "with open(os.path.join(LAYERS_DIR, 'CPTi-L32.json'), 'w') as fp:\n",
    "    json.dump(res.to_dict(), fp)\n",
    "print(\", \".join([f\"({ph}: {vals[-1]:0.4f})\" for ph, vals in res.cum_phase_amounts.items() if not np.isclose(vals[-1], 0)]))"
   ]
  },
  {
   "cell_type": "code",
   "execution_count": 10,
   "metadata": {},
   "outputs": [
    {
     "name": "stdout",
     "output_type": "stream",
     "text": [
      "building callables... done\n",
      "T=\n",
      "1600 1590.0 1580.0 1570.0 1560.0 1550.0 1540.0 1530.0 1520.0 1510.0 1500.0 1490.0 1480.0 1470.0 1460.0 1450.0 1440.0 1430.0 1420.0 1410.0 1400.0 1390.0 1380.0 1370.0 1360.0 1350.0 1340.0 1330.0 1320.0 1310.0 Found phases {'BCC2', 'NITI2'}. Starting binary search between T=(1310.0, 1320.0) Finshed binary search at T=1316.5625 with phases={'BCC2', 'NITI2'} and NP=[0.2916987 0.7083013]\n",
      "(NITI2: 0.2917), (BCC2: 0.7083)\n"
     ]
    }
   ],
   "source": [
    "eq_sol = simulate_equilibrium_solidification(dbf, comps, phases, composition, start_temperature=start_temperature, step_temperature=step_temperature, verbose=verbose, eq_kwargs={'calc_opts': {'points': copy.deepcopy(pts_dict)}})\n",
    "eq_res = equilibrium(dbf, comps, phases, {v.P: 101325, v.N: 1.0, v.T: eq_sol.temperatures[-1], **composition})\n",
    "print(\", \".join([f\"({ph}: {val:0.4f})\" for ph, val in zip(order_disorder_eq_phases(eq_res, ord_disord_map), eq_res.NP.values.squeeze()) if ph != '']))"
   ]
  },
  {
   "cell_type": "markdown",
   "metadata": {},
   "source": [
    "## Ti-6Al-4V\n",
    "\n",
    "### Layer 26"
   ]
  },
  {
   "cell_type": "code",
   "execution_count": 11,
   "metadata": {},
   "outputs": [
    {
     "name": "stdout",
     "output_type": "stream",
     "text": [
      "building callables... done\n",
      "Adding points to LIQUID. T=1400.000, X_NI=0.11, X_TI=0.69, ΔT=10.000, NL: 1.000, NP(LIQUID)=1.000 \n",
      "Adding points to LIQUID. T=1390.000, X_NI=0.11, X_TI=0.69, ΔT=10.000, NL: 1.000, NP(LIQUID)=1.000 \n",
      "Adding points to LIQUID. T=1380.000, X_NI=0.11, X_TI=0.69, ΔT=10.000, NL: 1.000, NP(LIQUID)=1.000 \n",
      "Adding points to BCC2. Adding points to LIQUID. New phases seen: {'BCC2'}. T=1370.000, X_NI=0.11, X_TI=0.69, ΔT=10.000, NL: 0.944, NP(LIQUID)=0.944 NP(BCC2)=0.056 \n",
      "Adding points to BCC2. Adding points to LIQUID. T=1360.000, X_NI=0.11, X_TI=0.69, ΔT=10.000, NL: 0.918, NP(LIQUID)=0.973 NP(BCC2)=0.027 \n",
      "Adding points to BCC2. Adding points to LIQUID. T=1350.000, X_NI=0.11, X_TI=0.70, ΔT=10.000, NL: 0.894, NP(LIQUID)=0.974 NP(BCC2)=0.026 \n",
      "Adding points to BCC2. Adding points to LIQUID. T=1340.000, X_NI=0.11, X_TI=0.70, ΔT=10.000, NL: 0.871, NP(LIQUID)=0.975 NP(BCC2)=0.025 \n",
      "Adding points to BCC2. Adding points to LIQUID. T=1330.000, X_NI=0.11, X_TI=0.71, ΔT=10.000, NL: 0.850, NP(LIQUID)=0.976 NP(BCC2)=0.024 \n",
      "Adding points to LIQUID. Adding points to BCC2. T=1320.000, X_NI=0.11, X_TI=0.71, ΔT=10.000, NL: 0.830, NP(LIQUID)=0.976 NP(BCC2)=0.024 \n",
      "Adding points to NITI2. Adding points to LIQUID. New phases seen: {'NITI2'}. T=1310.000, X_NI=0.11, X_TI=0.72, ΔT=10.000, NL: 0.700, NP(LIQUID)=0.844 NP(NITI2)=0.156 \n",
      "Adding points to NITI2. Adding points to LIQUID. T=1300.000, X_NI=0.10, X_TI=0.73, ΔT=10.000, NL: 0.602, NP(LIQUID)=0.859 NP(NITI2)=0.141 \n",
      "Adding points to NITI2. Adding points to LIQUID. T=1290.000, X_NI=0.10, X_TI=0.74, ΔT=10.000, NL: 0.535, NP(LIQUID)=0.889 NP(NITI2)=0.111 \n",
      "Adding points to NITI2. Adding points to LIQUID. T=1280.000, X_NI=0.10, X_TI=0.74, ΔT=10.000, NL: 0.485, NP(LIQUID)=0.908 NP(NITI2)=0.092 \n",
      "Adding points to NITI2. Adding points to BCC2. New phases seen: {'A2'}. No liquid phase found at T=1270.000, X_NI=0.10, X_TI=0.75. (Found {'A2', 'NITI2'}) Stepping back and reducing step size.\n",
      "Adding points to NITI2. Adding points to BCC2. No liquid phase found at T=1280.000, X_NI=0.10, X_TI=0.75. (Found {'A2', 'NITI2'}) Stepping back and reducing step size.\n",
      "Adding points to NITI2. Adding points to LIQUID. Adding points to BCC2. T=1288.333, X_NI=0.10, X_TI=0.75, ΔT=6.944, NL: 0.149, NP(LIQUID)=0.117 NP(A2)=0.506 NP(NITI2)=0.377 \n",
      "Adding points to BCC2. Adding points to NITI2. Adding points to LIQUID. T=1281.389, X_NI=0.13, X_TI=0.74, ΔT=6.944, NL: 0.078, NP(LIQUID)=0.447 NP(A2)=0.246 NP(NITI2)=0.307 \n",
      "Adding points to BCC2. Adding points to NITI2. Adding points to LIQUID. T=1274.444, X_NI=0.15, X_TI=0.74, ΔT=6.944, NL: 0.043, NP(LIQUID)=0.491 NP(A2)=0.221 NP(NITI2)=0.288 \n",
      "Adding points to NITI2. Adding points to LIQUID. Adding points to BCC2. T=1267.500, X_NI=0.16, X_TI=0.74, ΔT=6.944, NL: 0.025, NP(LIQUID)=0.517 NP(A2)=0.205 NP(NITI2)=0.278 \n",
      "Adding points to NITI2. Adding points to LIQUID. Adding points to BCC2. T=1260.556, X_NI=0.18, X_TI=0.74, ΔT=6.944, NL: 0.014, NP(LIQUID)=0.527 NP(A2)=0.196 NP(NITI2)=0.277 \n",
      "Adding points to NITI2. Adding points to LIQUID. Adding points to BCC2. T=1253.611, X_NI=0.19, X_TI=0.74, ΔT=6.944, NL: 0.008, NP(LIQUID)=0.520 NP(A2)=0.193 NP(NITI2)=0.287 \n",
      "Adding points to NITI2. Adding points to LIQUID. Adding points to BCC2. T=1246.667, X_NI=0.20, X_TI=0.74, ΔT=6.944, NL: 0.005, NP(LIQUID)=0.491 NP(A2)=0.200 NP(NITI2)=0.310 \n",
      "Adding points to NITI2. Adding points to LIQUID. Adding points to BCC2. T=1239.722, X_NI=0.21, X_TI=0.74, ΔT=6.944, NL: 0.002, NP(LIQUID)=0.427 NP(A2)=0.219 NP(NITI2)=0.355 \n",
      "Adding points to NITI2. Adding points to LIQUID. Adding points to BCC2. T=1232.778, X_NI=0.22, X_TI=0.75, ΔT=6.944, NL: 9.50E-04, NP(LIQUID)=0.294 NP(A2)=0.262 NP(NITI2)=0.444 \n",
      "Adding points to NITI2. Adding points to BCC2. No liquid phase found at T=1225.833, X_NI=0.23, X_TI=0.75. (Found {'A2', 'NITI2'}) Stepping back and reducing step size.\n",
      "Adding points to NITI2. Adding points to LIQUID. Adding points to BCC2. T=1232.778, X_NI=0.23, X_TI=0.75, ΔT=5.787, NL: 9.50E-04, NP(LIQUID)=1.000 NP(A2)=0.000 NP(NITI2)=0.000 \n",
      "Adding points to NITI2. Adding points to LIQUID. Adding points to BCC2. T=1226.991, X_NI=0.23, X_TI=0.75, ΔT=5.787, NL: 3.39E-04, NP(LIQUID)=0.214 NP(A2)=0.286 NP(NITI2)=0.500 \n",
      "Adding points to NITI2. Adding points to BCC2. No liquid phase found at T=1221.204, X_NI=0.24, X_TI=0.75. (Found {'A2', 'NITI2'}) Stepping back and reducing step size.\n",
      "Adding points to LIQUID. Adding points to NITI2. T=1226.991, X_NI=0.24, X_TI=0.75, ΔT=4.823, NL: 3.39E-04, NP(LIQUID)=1.000 NP(NITI2)=0.000 \n",
      "Adding points to NITI2. Adding points to BCC2. No liquid phase found at T=1222.168, X_NI=0.24, X_TI=0.75. (Found {'A2', 'NITI2'}) Stepping back and reducing step size.\n",
      "Adding points to LIQUID. Adding points to BCC2. T=1226.991, X_NI=0.24, X_TI=0.75, ΔT=4.019, NL: 3.39E-04, NP(LIQUID)=1.000 NP(A2)=0.000 \n",
      "Adding points to NITI2. Adding points to LIQUID. Adding points to BCC2. T=1222.972, X_NI=0.24, X_TI=0.75, ΔT=4.019, NL: 1.27E-04, NP(LIQUID)=0.242 NP(A2)=0.271 NP(NITI2)=0.487 \n",
      "Adding points to NITI2. Adding points to BCC2. No liquid phase found at T=1218.953, X_NI=0.24, X_TI=0.75. (Found {'A2', 'NITI2'}) Stepping back and reducing step size.\n",
      "Adding points to LIQUID. Adding points to NITI2. T=1222.972, X_NI=0.24, X_TI=0.75, ΔT=3.349, NL: 1.27E-04, NP(LIQUID)=1.000 NP(NITI2)=0.000 \n",
      "Adding points to NITI2. Adding points to BCC2. No liquid phase found at T=1219.623, X_NI=0.24, X_TI=0.75. (Found {'A2', 'NITI2'}) Stepping back and reducing step size.\n",
      "Adding points to LIQUID. Adding points to BCC2. Adding points to NITI2. T=1222.972, X_NI=0.24, X_TI=0.75, ΔT=2.791, NL: 1.27E-04, NP(LIQUID)=1.000 NP(A2)=0.000 NP(NITI2)=0.000 \n",
      "Adding points to BCC2. Adding points to NITI2. Adding points to LIQUID. T=1220.181, X_NI=0.24, X_TI=0.75, ΔT=2.791, NL: 4.71E-05, NP(LIQUID)=0.240 NP(A2)=0.269 NP(NITI2)=0.491 Liquid fraction below criterion 0.0001 . Stopping at X_NI=0.24, X_TI=0.75\n",
      "<SolidificationResult: scheil T=(1400.0 -> 1220.2) (A2, BCC2, NITI2)>\n",
      "(A2: 0.3197), (BCC2: 0.1699), (NITI2: 0.5104)\n"
     ]
    }
   ],
   "source": [
    "composition = {v.W('NI'): 0.127, v.W('TI'): 0.647}\n",
    "composition = W_to_X(composition, dbf, comps)\n",
    "start_temperature = 1400\n",
    "res = simulate_scheil_solidification(dbf, comps, phases, composition, start_temperature=start_temperature, step_temperature=step_temperature, verbose=verbose, eq_kwargs={'calc_opts': {'points': copy.deepcopy(pts_dict)}})\n",
    "print(res)\n",
    "with open(os.path.join(LAYERS_DIR, 'Ti64-L26.json'), 'w') as fp:\n",
    "    json.dump(res.to_dict(), fp)\n",
    "print(\", \".join([f\"({ph}: {vals[-1]:0.4f})\" for ph, vals in res.cum_phase_amounts.items() if not np.isclose(vals[-1], 0)]))"
   ]
  },
  {
   "cell_type": "code",
   "execution_count": 12,
   "metadata": {},
   "outputs": [
    {
     "name": "stdout",
     "output_type": "stream",
     "text": [
      "building callables... done\n",
      "T=\n",
      "1400 1390.0 1380.0 1370.0 1360.0 1350.0 1340.0 1330.0 1320.0 1310.0 1300.0 1290.0 1280.0 1270.0 Found phases {'BCC2', 'NITI2'}. Starting binary search between T=(1270.0, 1280.0) Finshed binary search at T=1279.921875 with phases={'BCC2', 'NITI2'} and NP=[0.87226742 0.12773258]\n",
      "(A2: 0.1277), (NITI2: 0.8723)\n"
     ]
    }
   ],
   "source": [
    "eq_sol = simulate_equilibrium_solidification(dbf, comps, phases, composition, start_temperature=start_temperature, step_temperature=step_temperature, verbose=verbose, eq_kwargs={'calc_opts': {'points': copy.deepcopy(pts_dict)}})\n",
    "eq_res = equilibrium(dbf, comps, phases, {v.P: 101325, v.N: 1.0, v.T: eq_sol.temperatures[-1], **composition})\n",
    "print(\", \".join([f\"({ph}: {val:0.4f})\" for ph, val in zip(order_disorder_eq_phases(eq_res, ord_disord_map), eq_res.NP.values.squeeze()) if ph != '']))"
   ]
  },
  {
   "cell_type": "markdown",
   "metadata": {},
   "source": [
    "### Layer 33"
   ]
  },
  {
   "cell_type": "code",
   "execution_count": 13,
   "metadata": {},
   "outputs": [
    {
     "name": "stdout",
     "output_type": "stream",
     "text": [
      "building callables... done\n",
      "Adding points to LIQUID. T=1700.000, X_NI=0.23, X_TI=0.37, ΔT=10.000, NL: 1.000, NP(LIQUID)=1.000 \n",
      "Adding points to LIQUID. T=1690.000, X_NI=0.23, X_TI=0.37, ΔT=10.000, NL: 1.000, NP(LIQUID)=1.000 \n",
      "Adding points to C14. Adding points to LIQUID. New phases seen: {'C14'}. T=1680.000, X_NI=0.23, X_TI=0.37, ΔT=10.000, NL: 0.564, NP(LIQUID)=0.564 NP(C14)=0.436 \n",
      "Adding points to C14. Adding points to LIQUID. T=1670.000, X_NI=0.26, X_TI=0.39, ΔT=10.000, NL: 0.505, NP(LIQUID)=0.895 NP(C14)=0.105 \n",
      "Adding points to C14. Adding points to LIQUID. T=1660.000, X_NI=0.26, X_TI=0.40, ΔT=10.000, NL: 0.460, NP(LIQUID)=0.912 NP(C14)=0.088 \n",
      "Adding points to C14. Adding points to LIQUID. T=1650.000, X_NI=0.27, X_TI=0.40, ΔT=10.000, NL: 0.426, NP(LIQUID)=0.925 NP(C14)=0.075 \n",
      "Adding points to C14. Adding points to LIQUID. T=1640.000, X_NI=0.27, X_TI=0.41, ΔT=10.000, NL: 0.398, NP(LIQUID)=0.935 NP(C14)=0.065 \n",
      "Adding points to C14. Adding points to LIQUID. T=1630.000, X_NI=0.28, X_TI=0.42, ΔT=10.000, NL: 0.375, NP(LIQUID)=0.942 NP(C14)=0.058 \n",
      "Adding points to C14. Adding points to LIQUID. T=1620.000, X_NI=0.29, X_TI=0.42, ΔT=10.000, NL: 0.356, NP(LIQUID)=0.948 NP(C14)=0.052 \n",
      "Adding points to C14. Adding points to LIQUID. T=1610.000, X_NI=0.29, X_TI=0.42, ΔT=10.000, NL: 0.339, NP(LIQUID)=0.953 NP(C14)=0.047 \n",
      "Adding points to C14. Adding points to LIQUID. T=1600.000, X_NI=0.29, X_TI=0.43, ΔT=10.000, NL: 0.325, NP(LIQUID)=0.958 NP(C14)=0.042 \n",
      "Adding points to C14. Adding points to LIQUID. T=1590.000, X_NI=0.30, X_TI=0.43, ΔT=10.000, NL: 0.312, NP(LIQUID)=0.961 NP(C14)=0.039 \n",
      "Adding points to C14. Adding points to LIQUID. T=1580.000, X_NI=0.30, X_TI=0.44, ΔT=10.000, NL: 0.301, NP(LIQUID)=0.964 NP(C14)=0.036 \n",
      "Adding points to C14. Adding points to LIQUID. T=1570.000, X_NI=0.31, X_TI=0.44, ΔT=10.000, NL: 0.291, NP(LIQUID)=0.967 NP(C14)=0.033 \n",
      "Adding points to C14. Adding points to LIQUID. T=1560.000, X_NI=0.31, X_TI=0.44, ΔT=10.000, NL: 0.282, NP(LIQUID)=0.969 NP(C14)=0.031 \n",
      "Adding points to C14. Adding points to LIQUID. T=1550.000, X_NI=0.31, X_TI=0.45, ΔT=10.000, NL: 0.274, NP(LIQUID)=0.971 NP(C14)=0.029 \n",
      "Adding points to C14. Adding points to LIQUID. T=1540.000, X_NI=0.32, X_TI=0.45, ΔT=10.000, NL: 0.267, NP(LIQUID)=0.973 NP(C14)=0.027 \n",
      "Adding points to C14. Adding points to LIQUID. T=1530.000, X_NI=0.32, X_TI=0.45, ΔT=10.000, NL: 0.260, NP(LIQUID)=0.975 NP(C14)=0.025 \n",
      "Adding points to C14. Adding points to BCC2. New phases seen: {'BCC2'}. No liquid phase found at T=1520.000, X_NI=0.32, X_TI=0.46. (Found {'BCC2', 'C14'}) Stepping back and reducing step size.\n",
      "Adding points to C14. Adding points to LIQUID. Adding points to BCC2. T=1530.000, X_NI=0.32, X_TI=0.46, ΔT=8.333, NL: 0.086, NP(LIQUID)=0.319 NP(BCC2)=0.661 NP(C14)=0.020 \n",
      "Adding points to C14. Adding points to LIQUID. Adding points to BCC2. T=1521.667, X_NI=0.36, X_TI=0.44, ΔT=8.333, NL: 0.059, NP(LIQUID)=0.676 NP(BCC2)=0.293 NP(C14)=0.031 \n",
      "Adding points to C14. Adding points to LIQUID. Adding points to BCC2. T=1513.333, X_NI=0.38, X_TI=0.43, ΔT=8.333, NL: 0.044, NP(LIQUID)=0.735 NP(BCC2)=0.235 NP(C14)=0.030 \n",
      "Adding points to C14. Adding points to LIQUID. Adding points to BCC2. T=1505.000, X_NI=0.40, X_TI=0.42, ΔT=8.333, NL: 0.035, NP(LIQUID)=0.779 NP(BCC2)=0.193 NP(C14)=0.028 \n",
      "Adding points to C14. Adding points to LIQUID. Adding points to BCC2. T=1496.667, X_NI=0.41, X_TI=0.42, ΔT=8.333, NL: 0.028, NP(LIQUID)=0.812 NP(BCC2)=0.162 NP(C14)=0.026 \n",
      "Adding points to C14. Adding points to LIQUID. Adding points to BCC2. T=1488.333, X_NI=0.43, X_TI=0.41, ΔT=8.333, NL: 0.024, NP(LIQUID)=0.838 NP(BCC2)=0.139 NP(C14)=0.024 \n",
      "Adding points to C14. Adding points to LIQUID. Adding points to BCC2. T=1480.000, X_NI=0.44, X_TI=0.41, ΔT=8.333, NL: 0.020, NP(LIQUID)=0.857 NP(BCC2)=0.121 NP(C14)=0.022 \n",
      "Adding points to C14. Adding points to LIQUID. Adding points to BCC2. T=1471.667, X_NI=0.45, X_TI=0.40, ΔT=8.333, NL: 0.018, NP(LIQUID)=0.873 NP(BCC2)=0.107 NP(C14)=0.020 \n",
      "Adding points to BCC2. Adding points to C14. Adding points to LIQUID. T=1463.333, X_NI=0.46, X_TI=0.40, ΔT=8.333, NL: 0.016, NP(LIQUID)=0.886 NP(BCC2)=0.096 NP(C14)=0.018 \n",
      "Adding points to BCC2. Adding points to C14. Adding points to LIQUID. T=1455.000, X_NI=0.47, X_TI=0.39, ΔT=8.333, NL: 0.014, NP(LIQUID)=0.896 NP(BCC2)=0.087 NP(C14)=0.017 \n",
      "Adding points to BCC2. Adding points to C14. Adding points to LIQUID. T=1446.667, X_NI=0.48, X_TI=0.39, ΔT=8.333, NL: 0.013, NP(LIQUID)=0.905 NP(BCC2)=0.080 NP(C14)=0.015 \n",
      "Adding points to C14. Adding points to LIQUID. Adding points to BCC2. T=1438.333, X_NI=0.49, X_TI=0.38, ΔT=8.333, NL: 0.012, NP(LIQUID)=0.912 NP(BCC2)=0.073 NP(C14)=0.014 \n",
      "Adding points to LIQUID. Adding points to BCC2. Adding points to C14. T=1430.000, X_NI=0.49, X_TI=0.38, ΔT=8.333, NL: 0.011, NP(LIQUID)=0.919 NP(BCC2)=0.068 NP(C14)=0.013 \n",
      "Adding points to C14. Adding points to LIQUID. Adding points to BCC2. T=1421.667, X_NI=0.50, X_TI=0.38, ΔT=8.333, NL: 0.010, NP(LIQUID)=0.924 NP(BCC2)=0.064 NP(C14)=0.012 \n",
      "Adding points to LIQUID. Adding points to BCC2. Adding points to C14. T=1413.333, X_NI=0.51, X_TI=0.37, ΔT=8.333, NL: 0.009, NP(LIQUID)=0.929 NP(BCC2)=0.060 NP(C14)=0.011 \n",
      "Adding points to C14. Adding points to LIQUID. Adding points to BCC2. T=1405.000, X_NI=0.51, X_TI=0.37, ΔT=8.333, NL: 0.009, NP(LIQUID)=0.933 NP(BCC2)=0.057 NP(C14)=0.011 \n",
      "Adding points to C14. Adding points to LIQUID. Adding points to BCC2. T=1396.667, X_NI=0.52, X_TI=0.36, ΔT=8.333, NL: 0.008, NP(LIQUID)=0.936 NP(BCC2)=0.054 NP(C14)=0.010 \n",
      "Adding points to C14. Adding points to LIQUID. Adding points to BCC2. T=1388.333, X_NI=0.53, X_TI=0.36, ΔT=8.333, NL: 0.008, NP(LIQUID)=0.940 NP(BCC2)=0.051 NP(C14)=0.009 \n",
      "Adding points to C14. Adding points to LIQUID. Adding points to BCC2. T=1380.000, X_NI=0.53, X_TI=0.36, ΔT=8.333, NL: 0.007, NP(LIQUID)=0.943 NP(BCC2)=0.049 NP(C14)=0.009 \n",
      "Adding points to NI3TI. Adding points to BCC2. Adding points to C14. New phases seen: {'NI3TI'}. No liquid phase found at T=1371.667, X_NI=0.54, X_TI=0.36. (Found {'BCC2', 'NI3TI', 'C14'}) Stepping back and reducing step size.\n",
      "Adding points to LIQUID. T=1380.000, X_NI=0.54, X_TI=0.36, ΔT=6.944, NL: 0.007, NP(LIQUID)=1.000 \n",
      "Adding points to C14. Adding points to NI3TI. Adding points to BCC2. No liquid phase found at T=1373.056, X_NI=0.54, X_TI=0.36. (Found {'C14', 'BCC2', 'NI3TI'}) Stepping back and reducing step size.\n",
      "Adding points to LIQUID. T=1380.000, X_NI=0.54, X_TI=0.36, ΔT=5.787, NL: 0.007, NP(LIQUID)=1.000 \n",
      "Adding points to C14. Adding points to NI3TI. Adding points to BCC2. No liquid phase found at T=1374.213, X_NI=0.54, X_TI=0.36. (Found {'C14', 'BCC2', 'NI3TI'}) Stepping back and reducing step size.\n",
      "Adding points to LIQUID. T=1380.000, X_NI=0.54, X_TI=0.36, ΔT=4.823, NL: 0.007, NP(LIQUID)=1.000 \n",
      "Adding points to C14. Adding points to NI3TI. Adding points to BCC2. No liquid phase found at T=1375.177, X_NI=0.54, X_TI=0.36. (Found {'C14', 'BCC2', 'NI3TI'}) Stepping back and reducing step size.\n",
      "Adding points to BCC2. Adding points to LIQUID. T=1380.000, X_NI=0.54, X_TI=0.36, ΔT=4.019, NL: 0.007, NP(LIQUID)=1.000 NP(BCC2)=0.000 \n",
      "Adding points to C14. Adding points to NI3TI. Adding points to BCC2. No liquid phase found at T=1375.981, X_NI=0.54, X_TI=0.36. (Found {'C14', 'BCC2', 'NI3TI'}) Stepping back and reducing step size.\n",
      "Adding points to LIQUID. T=1380.000, X_NI=0.54, X_TI=0.36, ΔT=3.349, NL: 0.007, NP(LIQUID)=1.000 \n",
      "Adding points to LIQUID. Adding points to BCC2. Adding points to C14. T=1376.651, X_NI=0.54, X_TI=0.36, ΔT=3.349, NL: 0.007, NP(LIQUID)=0.978 NP(BCC2)=0.019 NP(C14)=0.003 \n",
      "Adding points to C14. Adding points to NI3TI. Adding points to BCC2. No liquid phase found at T=1373.302, X_NI=0.54, X_TI=0.35. (Found {'C14', 'BCC2', 'NI3TI'}) Stepping back and reducing step size.\n",
      "Adding points to LIQUID. Adding points to BCC2. T=1376.651, X_NI=0.54, X_TI=0.35, ΔT=2.791, NL: 0.007, NP(LIQUID)=1.000 NP(BCC2)=0.000 \n",
      "Adding points to C14. Adding points to NI3TI. Adding points to BCC2. No liquid phase found at T=1373.860, X_NI=0.54, X_TI=0.35. (Found {'C14', 'BCC2', 'NI3TI'}) Stepping back and reducing step size.\n",
      "Adding points to LIQUID. T=1376.651, X_NI=0.54, X_TI=0.35, ΔT=2.326, NL: 0.007, NP(LIQUID)=1.000 \n",
      "Adding points to C14. Adding points to NI3TI. Adding points to BCC2. No liquid phase found at T=1374.325, X_NI=0.54, X_TI=0.35. (Found {'C14', 'BCC2', 'NI3TI'}) Stepping back and reducing step size.\n",
      "Adding points to LIQUID. T=1376.651, X_NI=0.54, X_TI=0.35, ΔT=1.938, NL: 0.007, NP(LIQUID)=1.000 \n",
      "Adding points to C14. Adding points to NI3TI. Adding points to BCC2. No liquid phase found at T=1374.713, X_NI=0.54, X_TI=0.35. (Found {'C14', 'BCC2', 'NI3TI'}) Maximum step size reduction exceeded. Stopping.\n",
      "<SolidificationResult: scheil T=(1700.0 -> 1374.7) (BCC2, C14, NI3TI)>\n",
      "(BCC2: 0.2476), (C14: 0.7497), (NI3TI: 0.0028)\n"
     ]
    }
   ],
   "source": [
    "composition = {v.W('NI'): 0.249, v.W('TI'): 0.328}\n",
    "composition = W_to_X(composition, dbf, comps)\n",
    "start_temperature = 1700\n",
    "res = simulate_scheil_solidification(dbf, comps, phases, composition, start_temperature=start_temperature, step_temperature=step_temperature, verbose=verbose, eq_kwargs={'calc_opts': {'points': copy.deepcopy(pts_dict)}})\n",
    "print(res)\n",
    "with open(os.path.join(LAYERS_DIR, 'Ti64-L33.json'), 'w') as fp:\n",
    "    json.dump(res.to_dict(), fp)\n",
    "print(\", \".join([f\"({ph}: {vals[-1]:0.4f})\" for ph, vals in res.cum_phase_amounts.items() if not np.isclose(vals[-1], 0)]))"
   ]
  },
  {
   "cell_type": "code",
   "execution_count": 14,
   "metadata": {},
   "outputs": [
    {
     "name": "stdout",
     "output_type": "stream",
     "text": [
      "building callables... done\n",
      "T=\n",
      "1700 1690.0 1680.0 1670.0 1660.0 1650.0 1640.0 1630.0 1620.0 1610.0 1600.0 1590.0 1580.0 1570.0 1560.0 1550.0 1540.0 1530.0 1520.0 Found phases {'BCC2', 'C14'}. Starting binary search between T=(1520.0, 1530.0) Finshed binary search at T=1529.921875 with phases={'BCC2', 'C14'} and NP=[0.78306662 0.21693338]\n",
      "(C14: 0.7704), (LIQUID: 0.2296)\n"
     ]
    }
   ],
   "source": [
    "eq_sol = simulate_equilibrium_solidification(dbf, comps, phases, composition, start_temperature=start_temperature, step_temperature=step_temperature, verbose=verbose, eq_kwargs={'calc_opts': {'points': copy.deepcopy(pts_dict)}})\n",
    "eq_res = equilibrium(dbf, comps, phases, {v.P: 101325, v.N: 1.0, v.T: eq_sol.temperatures[-1], **composition})\n",
    "print(\", \".join([f\"({ph}: {val:0.4f})\" for ph, val in zip(order_disorder_eq_phases(eq_res, ord_disord_map), eq_res.NP.values.squeeze()) if ph != '']))"
   ]
  },
  {
   "cell_type": "markdown",
   "metadata": {},
   "source": [
    "### Layer 35"
   ]
  },
  {
   "cell_type": "code",
   "execution_count": 15,
   "metadata": {},
   "outputs": [
    {
     "name": "stdout",
     "output_type": "stream",
     "text": [
      "building callables... done\n",
      "Adding points to LIQUID. T=1700.000, X_NI=0.26, X_TI=0.27, ΔT=10.000, NL: 1.000, NP(LIQUID)=1.000 \n",
      "Adding points to LIQUID. T=1690.000, X_NI=0.26, X_TI=0.27, ΔT=10.000, NL: 1.000, NP(LIQUID)=1.000 \n",
      "Adding points to LIQUID. T=1680.000, X_NI=0.26, X_TI=0.27, ΔT=10.000, NL: 1.000, NP(LIQUID)=1.000 \n",
      "Adding points to LIQUID. T=1670.000, X_NI=0.26, X_TI=0.27, ΔT=10.000, NL: 1.000, NP(LIQUID)=1.000 \n",
      "Adding points to LIQUID. Adding points to C14. New phases seen: {'C14'}. T=1660.000, X_NI=0.26, X_TI=0.27, ΔT=10.000, NL: 0.801, NP(LIQUID)=0.801 NP(C14)=0.199 \n",
      "Adding points to LIQUID. Adding points to C14. T=1650.000, X_NI=0.28, X_TI=0.26, ΔT=10.000, NL: 0.735, NP(LIQUID)=0.918 NP(C14)=0.082 \n",
      "Adding points to LIQUID. Adding points to C14. T=1640.000, X_NI=0.29, X_TI=0.25, ΔT=10.000, NL: 0.683, NP(LIQUID)=0.928 NP(C14)=0.072 \n",
      "Adding points to LIQUID. Adding points to C14. T=1630.000, X_NI=0.29, X_TI=0.24, ΔT=10.000, NL: 0.639, NP(LIQUID)=0.936 NP(C14)=0.064 \n",
      "Adding points to LIQUID. Adding points to C14. T=1620.000, X_NI=0.30, X_TI=0.24, ΔT=10.000, NL: 0.603, NP(LIQUID)=0.943 NP(C14)=0.057 \n",
      "Adding points to LIQUID. Adding points to C14. T=1610.000, X_NI=0.30, X_TI=0.24, ΔT=10.000, NL: 0.571, NP(LIQUID)=0.948 NP(C14)=0.052 \n",
      "Adding points to LIQUID. Adding points to C14. T=1600.000, X_NI=0.31, X_TI=0.23, ΔT=10.000, NL: 0.544, NP(LIQUID)=0.952 NP(C14)=0.048 \n",
      "Adding points to C14. Adding points to LIQUID. T=1590.000, X_NI=0.31, X_TI=0.23, ΔT=10.000, NL: 0.520, NP(LIQUID)=0.956 NP(C14)=0.044 \n",
      "Adding points to C14. Adding points to LIQUID. T=1580.000, X_NI=0.32, X_TI=0.22, ΔT=10.000, NL: 0.499, NP(LIQUID)=0.959 NP(C14)=0.041 \n",
      "Adding points to C14. Adding points to LIQUID. T=1570.000, X_NI=0.32, X_TI=0.22, ΔT=10.000, NL: 0.480, NP(LIQUID)=0.962 NP(C14)=0.038 \n",
      "Adding points to LIQUID. Adding points to C14. T=1560.000, X_NI=0.33, X_TI=0.22, ΔT=10.000, NL: 0.463, NP(LIQUID)=0.965 NP(C14)=0.035 \n",
      "Adding points to C14. Adding points to LIQUID. T=1550.000, X_NI=0.33, X_TI=0.21, ΔT=10.000, NL: 0.448, NP(LIQUID)=0.967 NP(C14)=0.033 \n",
      "Adding points to LIQUID. Adding points to C14. T=1540.000, X_NI=0.34, X_TI=0.21, ΔT=10.000, NL: 0.434, NP(LIQUID)=0.969 NP(C14)=0.031 \n",
      "Adding points to C14. Adding points to LIQUID. T=1530.000, X_NI=0.34, X_TI=0.21, ΔT=10.000, NL: 0.421, NP(LIQUID)=0.970 NP(C14)=0.030 \n",
      "Adding points to C14. Adding points to LIQUID. T=1520.000, X_NI=0.34, X_TI=0.21, ΔT=10.000, NL: 0.409, NP(LIQUID)=0.972 NP(C14)=0.028 \n",
      "Adding points to LIQUID. Adding points to C14. T=1510.000, X_NI=0.35, X_TI=0.20, ΔT=10.000, NL: 0.398, NP(LIQUID)=0.973 NP(C14)=0.027 \n",
      "Adding points to LIQUID. Adding points to C14. T=1500.000, X_NI=0.35, X_TI=0.20, ΔT=10.000, NL: 0.388, NP(LIQUID)=0.974 NP(C14)=0.026 \n",
      "Adding points to LIQUID. Adding points to C14. T=1490.000, X_NI=0.35, X_TI=0.20, ΔT=10.000, NL: 0.379, NP(LIQUID)=0.976 NP(C14)=0.024 \n",
      "Adding points to LIQUID. Adding points to C14. T=1480.000, X_NI=0.36, X_TI=0.20, ΔT=10.000, NL: 0.370, NP(LIQUID)=0.977 NP(C14)=0.023 \n",
      "Adding points to LIQUID. Adding points to C14. T=1470.000, X_NI=0.36, X_TI=0.19, ΔT=10.000, NL: 0.361, NP(LIQUID)=0.978 NP(C14)=0.022 \n",
      "Adding points to C14. Adding points to LIQUID. T=1460.000, X_NI=0.36, X_TI=0.19, ΔT=10.000, NL: 0.354, NP(LIQUID)=0.978 NP(C14)=0.022 \n",
      "Adding points to LIQUID. Adding points to C14. T=1450.000, X_NI=0.37, X_TI=0.19, ΔT=10.000, NL: 0.346, NP(LIQUID)=0.979 NP(C14)=0.021 \n",
      "Adding points to C14. Adding points to LIQUID. T=1440.000, X_NI=0.37, X_TI=0.19, ΔT=10.000, NL: 0.339, NP(LIQUID)=0.980 NP(C14)=0.020 \n",
      "Adding points to LIQUID. Adding points to C14. T=1430.000, X_NI=0.37, X_TI=0.18, ΔT=10.000, NL: 0.333, NP(LIQUID)=0.981 NP(C14)=0.019 \n",
      "Adding points to C14. Adding points to FCC4. Adding points to LIQUID. New phases seen: {'A1'}. T=1420.000, X_NI=0.38, X_TI=0.18, ΔT=10.000, NL: 0.308, NP(LIQUID)=0.926 NP(A1)=0.045 NP(C14)=0.030 \n",
      "Adding points to C14. Adding points to FCC4. Adding points to LIQUID. T=1410.000, X_NI=0.38, X_TI=0.18, ΔT=10.000, NL: 0.243, NP(LIQUID)=0.779 NP(A1)=0.164 NP(C14)=0.057 \n",
      "Adding points to C14. Adding points to FCC4. Adding points to LIQUID. T=1400.000, X_NI=0.40, X_TI=0.19, ΔT=10.000, NL: 0.193, NP(LIQUID)=0.787 NP(A1)=0.159 NP(C14)=0.054 \n",
      "Adding points to C14. Adding points to FCC4. Adding points to NI3TI. New phases seen: {'NI3TI'}. No liquid phase found at T=1390.000, X_NI=0.42, X_TI=0.19. (Found {'A1', 'C14', 'NI3TI'}) Stepping back and reducing step size.\n",
      "Adding points to LIQUID. Adding points to FCC4. Adding points to C14. T=1400.000, X_NI=0.42, X_TI=0.19, ΔT=8.333, NL: 0.193, NP(LIQUID)=1.000 NP(A1)=0.000 NP(C14)=0.000 \n",
      "Adding points to C14. Adding points to FCC4. Adding points to NI3TI. No liquid phase found at T=1391.667, X_NI=0.42, X_TI=0.19. (Found {'A1', 'C14', 'NI3TI'}) Stepping back and reducing step size.\n",
      "Adding points to LIQUID. Adding points to FCC4. T=1400.000, X_NI=0.42, X_TI=0.19, ΔT=6.944, NL: 0.193, NP(LIQUID)=1.000 NP(A1)=0.000 \n",
      "Adding points to C14. Adding points to FCC4. Adding points to NI3TI. No liquid phase found at T=1393.056, X_NI=0.42, X_TI=0.19. (Found {'A1', 'C14', 'NI3TI'}) Stepping back and reducing step size.\n",
      "Adding points to LIQUID. Adding points to FCC4. Adding points to C14. T=1400.000, X_NI=0.42, X_TI=0.19, ΔT=5.787, NL: 0.193, NP(LIQUID)=1.000 NP(A1)=0.000 NP(C14)=0.000 \n",
      "Adding points to C14. Adding points to FCC4. Adding points to NI3TI. No liquid phase found at T=1394.213, X_NI=0.42, X_TI=0.19. (Found {'A1', 'C14', 'NI3TI'}) Stepping back and reducing step size.\n",
      "Adding points to C14. Adding points to LIQUID. T=1400.000, X_NI=0.42, X_TI=0.19, ΔT=4.823, NL: 0.193, NP(LIQUID)=1.000 NP(C14)=0.000 \n",
      "Adding points to C14. Adding points to FCC4. Adding points to NI3TI. No liquid phase found at T=1395.177, X_NI=0.42, X_TI=0.19. (Found {'A1', 'C14', 'NI3TI'}) Stepping back and reducing step size.\n",
      "Adding points to LIQUID. Adding points to FCC4. T=1400.000, X_NI=0.42, X_TI=0.19, ΔT=4.019, NL: 0.193, NP(LIQUID)=1.000 NP(A1)=0.000 \n",
      "Adding points to C14. Adding points to FCC4. Adding points to LIQUID. T=1395.981, X_NI=0.42, X_TI=0.19, ΔT=4.019, NL: 0.178, NP(LIQUID)=0.917 NP(A1)=0.062 NP(C14)=0.021 \n",
      "Adding points to C14. Adding points to FCC4. Adding points to NI3TI. No liquid phase found at T=1391.962, X_NI=0.42, X_TI=0.19. (Found {'A1', 'C14', 'NI3TI'}) Stepping back and reducing step size.\n",
      "Adding points to LIQUID. T=1395.981, X_NI=0.42, X_TI=0.19, ΔT=3.349, NL: 0.178, NP(LIQUID)=1.000 \n",
      "Adding points to C14. Adding points to FCC4. Adding points to NI3TI. No liquid phase found at T=1392.632, X_NI=0.42, X_TI=0.19. (Found {'A1', 'C14', 'NI3TI'}) Stepping back and reducing step size.\n",
      "Adding points to FCC4. Adding points to C14. Adding points to LIQUID. T=1395.981, X_NI=0.42, X_TI=0.19, ΔT=2.791, NL: 0.178, NP(LIQUID)=1.000 NP(A1)=0.000 NP(C14)=0.000 \n",
      "Adding points to C14. Adding points to FCC4. Adding points to NI3TI. No liquid phase found at T=1393.190, X_NI=0.42, X_TI=0.19. (Found {'A1', 'C14', 'NI3TI'}) Stepping back and reducing step size.\n",
      "Adding points to LIQUID. T=1395.981, X_NI=0.42, X_TI=0.19, ΔT=2.326, NL: 0.178, NP(LIQUID)=1.000 \n",
      "Adding points to C14. Adding points to FCC4. Adding points to NI3TI. No liquid phase found at T=1393.656, X_NI=0.42, X_TI=0.19. (Found {'A1', 'C14', 'NI3TI'}) Stepping back and reducing step size.\n",
      "Adding points to LIQUID. T=1395.981, X_NI=0.42, X_TI=0.19, ΔT=1.938, NL: 0.178, NP(LIQUID)=1.000 \n",
      "Adding points to C14. Adding points to FCC4. Adding points to NI3TI. No liquid phase found at T=1394.043, X_NI=0.42, X_TI=0.19. (Found {'A1', 'C14', 'NI3TI'}) Maximum step size reduction exceeded. Stopping.\n",
      "<SolidificationResult: scheil T=(1700.0 -> 1394.0) (A1, C14, NI3TI)>\n",
      "(A1: 0.2104), (C14: 0.7311), (NI3TI: 0.0585)\n"
     ]
    }
   ],
   "source": [
    "composition = {v.W('NI'): 0.285, v.W('TI'): 0.235}\n",
    "composition = W_to_X(composition, dbf, comps)\n",
    "start_temperature = 1700\n",
    "res = simulate_scheil_solidification(dbf, comps, phases, composition, start_temperature=start_temperature, step_temperature=step_temperature, verbose=verbose, eq_kwargs={'calc_opts': {'points': copy.deepcopy(pts_dict)}})\n",
    "print(res)\n",
    "with open(os.path.join(LAYERS_DIR, 'Ti64-L35.json'), 'w') as fp:\n",
    "    json.dump(res.to_dict(), fp)\n",
    "print(\", \".join([f\"({ph}: {vals[-1]:0.4f})\" for ph, vals in res.cum_phase_amounts.items() if not np.isclose(vals[-1], 0)]))"
   ]
  },
  {
   "cell_type": "code",
   "execution_count": 16,
   "metadata": {},
   "outputs": [
    {
     "name": "stdout",
     "output_type": "stream",
     "text": [
      "building callables... done\n",
      "T=\n",
      "1700 1690.0 1680.0 1670.0 1660.0 1650.0 1640.0 1630.0 1620.0 1610.0 1600.0 1590.0 1580.0 1570.0 1560.0 1550.0 1540.0 1530.0 1520.0 1510.0 1500.0 1490.0 1480.0 1470.0 1460.0 1450.0 1440.0 1430.0 1420.0 1410.0 1400.0 1390.0 Found phases {'C14', 'FCC4', 'NI3TI'}. Starting binary search between T=(1390.0, 1400.0) Finshed binary search at T=1395.78125 with phases={'C14', 'FCC4', 'NI3TI'} and NP=[0.14882837 0.0027515  0.84842012]\n",
      "(LIQUID: 0.1841), (C14: 0.8159)\n"
     ]
    }
   ],
   "source": [
    "eq_sol = simulate_equilibrium_solidification(dbf, comps, phases, composition, start_temperature=start_temperature, step_temperature=step_temperature, verbose=verbose, eq_kwargs={'calc_opts': {'points': copy.deepcopy(pts_dict)}})\n",
    "eq_res = equilibrium(dbf, comps, phases, {v.P: 101325, v.N: 1.0, v.T: eq_sol.temperatures[-1], **composition})\n",
    "print(\", \".join([f\"({ph}: {val:0.4f})\" for ph, val in zip(order_disorder_eq_phases(eq_res, ord_disord_map), eq_res.NP.values.squeeze()) if ph != '']))"
   ]
  },
  {
   "cell_type": "markdown",
   "metadata": {},
   "source": [
    "#### Visualizations\n",
    "\n",
    "##### Phase fractions through solidification"
   ]
  },
  {
   "cell_type": "code",
   "execution_count": 17,
   "metadata": {},
   "outputs": [
    {
     "data": {
      "text/plain": [
       "Text(0, 0.5, 'Phase Fraction')"
      ]
     },
     "execution_count": 17,
     "metadata": {},
     "output_type": "execute_result"
    },
    {
     "data": {
      "image/png": "[encoded data removed]",
      "text/plain": [
       "<Figure size 432x288 with 1 Axes>"
      ]
     },
     "metadata": {
      "needs_background": "light"
     },
     "output_type": "display_data"
    }
   ],
   "source": [
    "for phase_name, amounts in res.cum_phase_amounts.items():\n",
    "    if amounts[-1] > 0:  # If the total phase fraction is non-zero\n",
    "        plt.plot(res.temperatures, amounts, label=phase_name)\n",
    "plt.legend()\n",
    "plt.xlabel('Temperature (K)')\n",
    "plt.ylabel('Phase Fraction')"
   ]
  },
  {
   "cell_type": "markdown",
   "metadata": {},
   "source": [
    "##### Solidification path"
   ]
  },
  {
   "cell_type": "code",
   "execution_count": 18,
   "metadata": {},
   "outputs": [
    {
     "data": {
      "text/plain": [
       "<matplotlib.legend.Legend at 0x11c679128>"
      ]
     },
     "execution_count": 18,
     "metadata": {},
     "output_type": "execute_result"
    },
    {
     "data": {
      "image/png": "[encoded data removed]",
      "text/plain": [
       "<Figure size 576x432 with 1 Axes>"
      ]
     },
     "metadata": {
      "needs_background": "light"
     },
     "output_type": "display_data"
    }
   ],
   "source": [
    "fig = plt.figure(figsize=(8,6))\n",
    "ax = fig.gca(projection='triangular')\n",
    "ax.plot(res.x_liquid['NI'], res.x_liquid['TI'])\n",
    "ax.scatter([res.x_liquid['NI'][0]], [res.x_liquid['TI'][0]], label='Start', zorder=10)\n",
    "ax.scatter([res.x_liquid['NI'][-2]], [res.x_liquid['TI'][-2]], label='End', zorder=10)\n",
    "ax.set_xlabel('X(NI)', size=15)\n",
    "ax.set_ylabel('X(TI)', rotation=60, labelpad=-80, size=15)\n",
    "ax.set_title('Solidification Path', size=20)\n",
    "ax.legend()"
   ]
  },
  {
   "cell_type": "markdown",
   "metadata": {},
   "source": [
    "### Layer 45"
   ]
  },
  {
   "cell_type": "code",
   "execution_count": 19,
   "metadata": {},
   "outputs": [
    {
     "name": "stdout",
     "output_type": "stream",
     "text": [
      "building callables... done\n",
      "Adding points to LIQUID. T=1540.000, X_NI=0.31, X_TI=0.14, ΔT=10.000, NL: 1.000, NP(LIQUID)=1.000 \n",
      "Adding points to LIQUID. T=1530.000, X_NI=0.31, X_TI=0.14, ΔT=10.000, NL: 1.000, NP(LIQUID)=1.000 \n",
      "Adding points to LIQUID. T=1520.000, X_NI=0.31, X_TI=0.14, ΔT=10.000, NL: 1.000, NP(LIQUID)=1.000 \n",
      "Adding points to LIQUID. T=1510.000, X_NI=0.31, X_TI=0.14, ΔT=10.000, NL: 1.000, NP(LIQUID)=1.000 \n",
      "Adding points to LIQUID. Adding points to FCC4. New phases seen: {'A1'}. T=1500.000, X_NI=0.31, X_TI=0.14, ΔT=10.000, NL: 0.924, NP(LIQUID)=0.924 NP(A1)=0.076 \n",
      "Adding points to LIQUID. Adding points to FCC4. T=1490.000, X_NI=0.32, X_TI=0.14, ΔT=10.000, NL: 0.839, NP(LIQUID)=0.907 NP(A1)=0.093 \n",
      "Adding points to LIQUID. Adding points to FCC4. T=1480.000, X_NI=0.32, X_TI=0.15, ΔT=10.000, NL: 0.763, NP(LIQUID)=0.910 NP(A1)=0.090 \n",
      "Adding points to LIQUID. Adding points to FCC4. T=1470.000, X_NI=0.33, X_TI=0.15, ΔT=10.000, NL: 0.696, NP(LIQUID)=0.912 NP(A1)=0.088 \n",
      "Adding points to FCC4. Adding points to LIQUID. T=1460.000, X_NI=0.33, X_TI=0.16, ΔT=10.000, NL: 0.637, NP(LIQUID)=0.915 NP(A1)=0.085 \n",
      "Adding points to FCC4. Adding points to LIQUID. T=1450.000, X_NI=0.34, X_TI=0.16, ΔT=10.000, NL: 0.584, NP(LIQUID)=0.917 NP(A1)=0.083 \n",
      "Adding points to FCC4. Adding points to LIQUID. Adding points to C14. New phases seen: {'C14'}. T=1440.000, X_NI=0.34, X_TI=0.17, ΔT=10.000, NL: 0.516, NP(LIQUID)=0.883 NP(A1)=0.103 NP(C14)=0.014 \n",
      "Adding points to FCC4. Adding points to LIQUID. Adding points to C14. T=1430.000, X_NI=0.35, X_TI=0.17, ΔT=10.000, NL: 0.396, NP(LIQUID)=0.754 NP(A1)=0.179 NP(C14)=0.066 \n",
      "Adding points to C14. Adding points to FCC4. Adding points to LIQUID. T=1420.000, X_NI=0.37, X_TI=0.18, ΔT=10.000, NL: 0.308, NP(LIQUID)=0.768 NP(A1)=0.171 NP(C14)=0.061 \n",
      "Adding points to C14. Adding points to FCC4. Adding points to LIQUID. T=1410.000, X_NI=0.38, X_TI=0.18, ΔT=10.000, NL: 0.243, NP(LIQUID)=0.779 NP(A1)=0.164 NP(C14)=0.057 \n",
      "Adding points to C14. Adding points to FCC4. Adding points to LIQUID. T=1400.000, X_NI=0.40, X_TI=0.19, ΔT=10.000, NL: 0.193, NP(LIQUID)=0.787 NP(A1)=0.159 NP(C14)=0.054 \n",
      "Adding points to C14. Adding points to FCC4. Adding points to NI3TI. New phases seen: {'NI3TI'}. No liquid phase found at T=1390.000, X_NI=0.42, X_TI=0.19. (Found {'A1', 'C14', 'NI3TI'}) Stepping back and reducing step size.\n",
      "Adding points to LIQUID. Adding points to FCC4. Adding points to C14. T=1400.000, X_NI=0.42, X_TI=0.19, ΔT=8.333, NL: 0.193, NP(LIQUID)=1.000 NP(A1)=0.000 NP(C14)=0.000 \n",
      "Adding points to C14. Adding points to FCC4. Adding points to NI3TI. No liquid phase found at T=1391.667, X_NI=0.42, X_TI=0.19. (Found {'A1', 'C14', 'NI3TI'}) Stepping back and reducing step size.\n",
      "Adding points to LIQUID. Adding points to FCC4. T=1400.000, X_NI=0.42, X_TI=0.19, ΔT=6.944, NL: 0.193, NP(LIQUID)=1.000 NP(A1)=0.000 \n",
      "Adding points to C14. Adding points to FCC4. Adding points to NI3TI. No liquid phase found at T=1393.056, X_NI=0.42, X_TI=0.19. (Found {'A1', 'C14', 'NI3TI'}) Stepping back and reducing step size.\n",
      "Adding points to C14. Adding points to LIQUID. T=1400.000, X_NI=0.42, X_TI=0.19, ΔT=5.787, NL: 0.193, NP(LIQUID)=1.000 NP(C14)=0.000 \n",
      "Adding points to C14. Adding points to FCC4. Adding points to NI3TI. No liquid phase found at T=1394.213, X_NI=0.42, X_TI=0.19. (Found {'A1', 'C14', 'NI3TI'}) Stepping back and reducing step size.\n",
      "Adding points to LIQUID. T=1400.000, X_NI=0.42, X_TI=0.19, ΔT=4.823, NL: 0.193, NP(LIQUID)=1.000 \n",
      "Adding points to C14. Adding points to FCC4. Adding points to NI3TI. No liquid phase found at T=1395.177, X_NI=0.42, X_TI=0.19. (Found {'A1', 'C14', 'NI3TI'}) Stepping back and reducing step size.\n",
      "Adding points to LIQUID. Adding points to FCC4. T=1400.000, X_NI=0.42, X_TI=0.19, ΔT=4.019, NL: 0.193, NP(LIQUID)=1.000 NP(A1)=0.000 \n",
      "Adding points to C14. Adding points to FCC4. Adding points to LIQUID. T=1395.981, X_NI=0.42, X_TI=0.19, ΔT=4.019, NL: 0.177, NP(LIQUID)=0.917 NP(A1)=0.062 NP(C14)=0.021 \n",
      "Adding points to C14. Adding points to FCC4. Adding points to NI3TI. No liquid phase found at T=1391.962, X_NI=0.42, X_TI=0.19. (Found {'A1', 'C14', 'NI3TI'}) Stepping back and reducing step size.\n",
      "Adding points to LIQUID. Adding points to NI3TI. Adding points to C14. T=1395.981, X_NI=0.42, X_TI=0.19, ΔT=3.349, NL: 0.177, NP(LIQUID)=1.000 NP(C14)=0.000 NP(NI3TI)=0.000 \n",
      "Adding points to C14. Adding points to FCC4. Adding points to NI3TI. No liquid phase found at T=1392.632, X_NI=0.42, X_TI=0.19. (Found {'A1', 'C14', 'NI3TI'}) Stepping back and reducing step size.\n",
      "Adding points to LIQUID. Adding points to FCC4. T=1395.981, X_NI=0.42, X_TI=0.19, ΔT=2.791, NL: 0.177, NP(LIQUID)=1.000 NP(A1)=0.000 \n",
      "Adding points to C14. Adding points to FCC4. Adding points to NI3TI. No liquid phase found at T=1393.190, X_NI=0.42, X_TI=0.19. (Found {'A1', 'C14', 'NI3TI'}) Stepping back and reducing step size.\n",
      "Adding points to LIQUID. T=1395.981, X_NI=0.42, X_TI=0.19, ΔT=2.326, NL: 0.177, NP(LIQUID)=1.000 \n",
      "Adding points to C14. Adding points to FCC4. Adding points to NI3TI. No liquid phase found at T=1393.656, X_NI=0.42, X_TI=0.19. (Found {'A1', 'C14', 'NI3TI'}) Stepping back and reducing step size.\n",
      "Adding points to LIQUID. T=1395.981, X_NI=0.42, X_TI=0.19, ΔT=1.938, NL: 0.177, NP(LIQUID)=1.000 \n",
      "Adding points to C14. Adding points to FCC4. Adding points to NI3TI. No liquid phase found at T=1394.043, X_NI=0.42, X_TI=0.19. (Found {'A1', 'C14', 'NI3TI'}) Maximum step size reduction exceeded. Stopping.\n",
      "<SolidificationResult: scheil T=(1540.0 -> 1394.0) (A1, C14, NI3TI)>\n",
      "(A1: 0.8318), (C14: 0.1098), (NI3TI: 0.0585)\n"
     ]
    }
   ],
   "source": [
    "composition = {v.W('NI'): 0.332, v.W('TI'): 0.120}\n",
    "composition = W_to_X(composition, dbf, comps)\n",
    "start_temperature = 1540\n",
    "res = simulate_scheil_solidification(dbf, comps, phases, composition, start_temperature=start_temperature, step_temperature=step_temperature, verbose=verbose, eq_kwargs={'calc_opts': {'points': copy.deepcopy(pts_dict)}})\n",
    "print(res)\n",
    "with open(os.path.join(LAYERS_DIR, 'Ti64-L45.json'), 'w') as fp:\n",
    "    json.dump(res.to_dict(), fp)\n",
    "print(\", \".join([f\"({ph}: {vals[-1]:0.4f})\" for ph, vals in res.cum_phase_amounts.items() if not np.isclose(vals[-1], 0)]))"
   ]
  },
  {
   "cell_type": "code",
   "execution_count": 20,
   "metadata": {},
   "outputs": [
    {
     "name": "stdout",
     "output_type": "stream",
     "text": [
      "building callables... done\n",
      "T=\n",
      "1540 1530.0 1520.0 1510.0 1500.0 1490.0 1480.0 1470.0 1460.0 1450.0 1440.0 1430.0 1420.0 Found phases {'FCC4', 'C14'}. Starting binary search between T=(1420.0, 1430.0) Finshed binary search at T=1424.6875 with phases={'FCC4', 'C14'} and NP=[0.88074365 0.11925635]\n",
      "1420.0 Found phases {'FCC4', 'C14'}. Starting binary search between T=(1420.0, 1430.0) Finshed binary search at T=1424.6875 with phases={'FCC4', 'C14'} and NP=[0.88074365 0.11925635]\n",
      "(LIQUID: 1.0000)\n"
     ]
    }
   ],
   "source": [
    "eq_sol = simulate_equilibrium_solidification(dbf, comps, phases, composition, start_temperature=start_temperature, step_temperature=step_temperature, verbose=verbose, eq_kwargs={'calc_opts': {'points': copy.deepcopy(pts_dict)}})\n",
    "eq_res = equilibrium(dbf, comps, phases, {v.P: 101325, v.N: 1.0, v.T: eq_sol.temperatures[-1], **composition})\n",
    "print(\", \".join([f\"({ph}: {val:0.4f})\" for ph, val in zip(order_disorder_eq_phases(eq_res, ord_disord_map), eq_res.NP.values.squeeze()) if ph != '']))"
   ]
  },
  {
   "cell_type": "markdown",
   "metadata": {},
   "source": [
    "# Gradient Path Solidification\n",
    "## Path construction\n",
    "\n",
    "Build a composition path from pure Ti to Invar-36 (Fe-36 wt% Ni). Weight fractions are converted to mole fractions (as used by pycalphad).\n",
    "\n",
    "Scheil-Gulliver and equilibrium solidification simulations will loop over this linear path."
   ]
  },
  {
   "cell_type": "code",
   "execution_count": 21,
   "metadata": {},
   "outputs": [
    {
     "name": "stdout",
     "output_type": "stream",
     "text": [
      "Start: X_NI=0.000-X_TI=0.999\n",
      "End  : X_NI=0.349-X_TI=0.000\n"
     ]
    }
   ],
   "source": [
    "start = {v.W('NI'): 0.0, v.W('TI'): 1.0} # pure Ti\n",
    "end = {v.W('NI'): 0.36, v.W('TI'): 0.0}  # Invar-36\n",
    "def fmt_comps(comp_conds):\n",
    "    return '-'.join([f'{c}={val:0.3f}' for c, val in comp_conds.items()])\n",
    "\n",
    "all_comps = []  # mole fraction\n",
    "for mix in np.linspace(1e-3, 1, 50):\n",
    "    all_comps.append(W_to_X(comp_interp(start, end, mix), dbf, comps))\n",
    "\n",
    "# Note, compositions here are in mole fraction, but input were mass fraction.\n",
    "print(f\"Start: {fmt_comps(all_comps[0])}\")\n",
    "print(f\"End  : {fmt_comps(all_comps[-1])}\")"
   ]
  },
  {
   "cell_type": "markdown",
   "metadata": {},
   "source": [
    "## Scheil-Gulliver\n",
    "### Settings\n",
    "\n",
    "Save the results in a local results directory and set the main controlling.\n",
    "\n",
    "The start temperature should be the highest temperature that is pure liquid along the whole path. Titanium has a melting point of about 1940 K, so 2000 K is chosen."
   ]
  },
  {
   "cell_type": "code",
   "execution_count": 22,
   "metadata": {},
   "outputs": [],
   "source": [
    "RESULTS_DIR = os.path.join('results')\n",
    "if not os.path.exists(RESULTS_DIR):\n",
    "    os.mkdir(RESULTS_DIR)\n",
    "PATH_DIR = os.path.join(RESULTS_DIR, 'scheil-path')\n",
    "if not os.path.exists(PATH_DIR):\n",
    "    os.mkdir(PATH_DIR)\n",
    "START_TEMPERATURE = 2000.0  # global start temperature\n",
    "STEP_TEMPERATURE = 10.0  # temperature step size\n",
    "VERBOSE = False"
   ]
  },
  {
   "cell_type": "markdown",
   "metadata": {},
   "source": [
    "### Simulations\n",
    "\n",
    "Typically each simulation on the path finishes in ~7 minutes on average for a 2015 MacBook Pro with an Intel i7 processor.\n",
    "50 compositions gives a total time of about 6 hours."
   ]
  },
  {
   "cell_type": "code",
   "execution_count": 23,
   "metadata": {},
   "outputs": [
    {
     "name": "stdout",
     "output_type": "stream",
     "text": [
      "X_NI=0.000-X_TI=0.999  ==  A1: 0.0000, A2: 0.9999, A3: 0.0000, BCC2: 0.0000, C14: 0.0000, FCC4: 0.0000, NI3TI: 0.0000, NITI2: 0.0000, \n",
      "X_NI=0.006-X_TI=0.982  ==  A1: 0.0000, A2: 0.9935, A3: 0.0000, BCC2: 0.0000, C14: 0.0000, FCC4: 0.0000, NI3TI: 0.0000, NITI2: 0.0065, \n",
      "X_NI=0.012-X_TI=0.965  ==  A1: 0.0000, A2: 0.9848, A3: 0.0000, BCC2: 0.0000, C14: 0.0000, FCC4: 0.0000, NI3TI: 0.0000, NITI2: 0.0152, \n",
      "X_NI=0.018-X_TI=0.947  ==  A1: 0.0000, A2: 0.9742, A3: 0.0000, BCC2: 0.0000, C14: 0.0000, FCC4: 0.0000, NI3TI: 0.0000, NITI2: 0.0258, \n",
      "X_NI=0.025-X_TI=0.930  ==  A1: 0.0000, A2: 0.9630, A3: 0.0000, BCC2: 0.0000, C14: 0.0000, FCC4: 0.0000, NI3TI: 0.0000, NITI2: 0.0370, \n",
      "X_NI=0.031-X_TI=0.912  ==  A1: 0.0000, A2: 0.9481, A3: 0.0000, BCC2: 0.0000, C14: 0.0000, FCC4: 0.0000, NI3TI: 0.0000, NITI2: 0.0519, \n",
      "X_NI=0.037-X_TI=0.894  ==  A1: 0.0000, A2: 0.9318, A3: 0.0000, BCC2: 0.0000, C14: 0.0000, FCC4: 0.0000, NI3TI: 0.0000, NITI2: 0.0682, \n",
      "X_NI=0.043-X_TI=0.876  ==  A1: 0.0000, A2: 0.9139, A3: 0.0000, BCC2: 0.0000, C14: 0.0000, FCC4: 0.0000, NI3TI: 0.0000, NITI2: 0.0861, \n",
      "X_NI=0.049-X_TI=0.858  ==  A1: 0.0000, A2: 0.8947, A3: 0.0000, BCC2: 0.0000, C14: 0.0000, FCC4: 0.0000, NI3TI: 0.0000, NITI2: 0.1053, \n",
      "X_NI=0.056-X_TI=0.840  ==  A1: 0.0000, A2: 0.8702, A3: 0.0000, BCC2: 0.0000, C14: 0.0000, FCC4: 0.0000, NI3TI: 0.0000, NITI2: 0.1298, \n",
      "X_NI=0.062-X_TI=0.822  ==  A1: 0.0000, A2: 0.8380, A3: 0.0000, BCC2: 0.0000, C14: 0.0000, FCC4: 0.0000, NI3TI: 0.0000, NITI2: 0.1620, \n",
      "X_NI=0.069-X_TI=0.803  ==  A1: 0.0000, A2: 0.8012, A3: 0.0000, BCC2: 0.0000, C14: 0.0000, FCC4: 0.0000, NI3TI: 0.0000, NITI2: 0.1988, \n",
      "X_NI=0.075-X_TI=0.785  ==  A1: 0.0000, A2: 0.7602, A3: 0.0000, BCC2: 0.0000, C14: 0.0000, FCC4: 0.0000, NI3TI: 0.0000, NITI2: 0.2398, \n",
      "X_NI=0.082-X_TI=0.766  ==  A1: 0.0000, A2: 0.7172, A3: 0.0000, BCC2: 0.0000, C14: 0.0000, FCC4: 0.0000, NI3TI: 0.0000, NITI2: 0.2828, \n",
      "X_NI=0.088-X_TI=0.747  ==  A1: 0.0000, A2: 0.6367, A3: 0.0000, BCC2: 0.0000, C14: 0.0000, FCC4: 0.0000, NI3TI: 0.0000, NITI2: 0.3633, \n",
      "X_NI=0.095-X_TI=0.728  ==  A1: 0.0000, A2: 0.5238, A3: 0.0000, BCC2: 0.0000, C14: 0.0000, FCC4: 0.0000, NI3TI: 0.0000, NITI2: 0.4762, \n",
      "X_NI=0.101-X_TI=0.709  ==  A1: 0.0000, A2: 0.4092, A3: 0.0000, BCC2: 0.0475, C14: 0.0000, FCC4: 0.0000, NI3TI: 0.0000, NITI2: 0.5432, \n",
      "X_NI=0.108-X_TI=0.690  ==  A1: 0.0000, A2: 0.3587, A3: 0.0000, BCC2: 0.1443, C14: 0.0000, FCC4: 0.0000, NI3TI: 0.0000, NITI2: 0.4970, \n",
      "X_NI=0.115-X_TI=0.671  ==  A1: 0.0000, A2: 0.3060, A3: 0.0000, BCC2: 0.2388, C14: 0.0000, FCC4: 0.0000, NI3TI: 0.0000, NITI2: 0.4552, \n",
      "X_NI=0.121-X_TI=0.652  ==  A1: 0.0000, A2: 0.2498, A3: 0.0000, BCC2: 0.3317, C14: 0.0000, FCC4: 0.0000, NI3TI: 0.0000, NITI2: 0.4185, \n",
      "X_NI=0.128-X_TI=0.632  ==  A1: 0.0000, A2: 0.2018, A3: 0.0000, BCC2: 0.4231, C14: 0.0000, FCC4: 0.0000, NI3TI: 0.0000, NITI2: 0.3751, \n",
      "X_NI=0.135-X_TI=0.612  ==  A1: 0.0000, A2: 0.1612, A3: 0.0000, BCC2: 0.5131, C14: 0.0000, FCC4: 0.0000, NI3TI: 0.0000, NITI2: 0.3257, \n",
      "X_NI=0.142-X_TI=0.592  ==  A1: 0.0000, A2: 0.1247, A3: 0.0000, BCC2: 0.6016, C14: 0.0000, FCC4: 0.0000, NI3TI: 0.0000, NITI2: 0.2737, \n",
      "X_NI=0.149-X_TI=0.572  ==  A1: 0.0000, A2: 0.0882, A3: 0.0000, BCC2: 0.6889, C14: 0.0000, FCC4: 0.0000, NI3TI: 0.0000, NITI2: 0.2229, \n",
      "X_NI=0.156-X_TI=0.552  ==  A1: 0.0000, A2: 0.0589, A3: 0.0000, BCC2: 0.7721, C14: 0.0000, FCC4: 0.0000, NI3TI: 0.0000, NITI2: 0.1690, \n",
      "X_NI=0.163-X_TI=0.532  ==  A1: 0.0000, A2: 0.0335, A3: 0.0000, BCC2: 0.8525, C14: 0.0000, FCC4: 0.0000, NI3TI: 0.0000, NITI2: 0.1140, \n",
      "X_NI=0.170-X_TI=0.512  ==  A1: 0.0000, A2: 0.0143, A3: 0.0000, BCC2: 0.9257, C14: 0.0000, FCC4: 0.0000, NI3TI: 0.0000, NITI2: 0.0600, \n",
      "X_NI=0.177-X_TI=0.491  ==  A1: 0.0000, A2: 0.0012, A3: 0.0000, BCC2: 0.9928, C14: 0.0000, FCC4: 0.0000, NI3TI: 0.0000, NITI2: 0.0059, \n",
      "X_NI=0.185-X_TI=0.471  ==  A1: 0.0000, A2: 0.0001, A3: 0.0000, BCC2: 0.9020, C14: 0.0967, FCC4: 0.0000, NI3TI: 0.0000, NITI2: 0.0012, \n",
      "X_NI=0.192-X_TI=0.450  ==  A1: 0.0000, A2: 0.0000, A3: 0.0000, BCC2: 0.7788, C14: 0.2212, FCC4: 0.0000, NI3TI: 0.0000, NITI2: 0.0000, \n",
      "X_NI=0.199-X_TI=0.429  ==  A1: 0.0000, A2: 0.0000, A3: 0.0000, BCC2: 0.6524, C14: 0.3475, FCC4: 0.0000, NI3TI: 0.0001, NITI2: 0.0000, \n",
      "X_NI=0.207-X_TI=0.408  ==  A1: 0.0000, A2: 0.0000, A3: 0.0000, BCC2: 0.5115, C14: 0.4883, FCC4: 0.0000, NI3TI: 0.0002, NITI2: 0.0000, \n",
      "X_NI=0.214-X_TI=0.386  ==  A1: 0.0000, A2: 0.0000, A3: 0.0000, BCC2: 0.3762, C14: 0.6226, FCC4: 0.0000, NI3TI: 0.0011, NITI2: 0.0000, \n",
      "X_NI=0.221-X_TI=0.365  ==  A1: 0.0000, A2: 0.0000, A3: 0.0000, BCC2: 0.2377, C14: 0.7593, FCC4: 0.0000, NI3TI: 0.0029, NITI2: 0.0000, \n",
      "X_NI=0.229-X_TI=0.343  ==  A1: 0.0000, A2: 0.0000, A3: 0.0000, BCC2: 0.1065, C14: 0.8852, FCC4: 0.0000, NI3TI: 0.0082, NITI2: 0.0000, \n",
      "X_NI=0.236-X_TI=0.322  ==  A1: 0.0000, A2: 0.0000, A3: 0.0000, BCC2: 0.0000, C14: 0.9470, FCC4: 0.0000, NI3TI: 0.0530, NITI2: 0.0000, \n",
      "X_NI=0.244-X_TI=0.300  ==  A1: 0.0743, A2: 0.0000, A3: 0.0000, BCC2: 0.0000, C14: 0.8670, FCC4: 0.0000, NI3TI: 0.0588, NITI2: 0.0000, \n",
      "X_NI=0.252-X_TI=0.278  ==  A1: 0.1690, A2: 0.0000, A3: 0.0000, BCC2: 0.0000, C14: 0.7826, FCC4: 0.0000, NI3TI: 0.0484, NITI2: 0.0000, \n",
      "X_NI=0.260-X_TI=0.256  ==  A1: 0.2647, A2: 0.0000, A3: 0.0000, BCC2: 0.0000, C14: 0.6889, FCC4: 0.0000, NI3TI: 0.0464, NITI2: 0.0000, \n",
      "X_NI=0.267-X_TI=0.233  ==  A1: 0.3668, A2: 0.0000, A3: 0.0000, BCC2: 0.0000, C14: 0.5868, FCC4: 0.0000, NI3TI: 0.0464, NITI2: 0.0000, \n",
      "X_NI=0.275-X_TI=0.211  ==  A1: 0.4756, A2: 0.0000, A3: 0.0000, BCC2: 0.0000, C14: 0.4773, FCC4: 0.0000, NI3TI: 0.0472, NITI2: 0.0000, \n",
      "X_NI=0.283-X_TI=0.188  ==  A1: 0.5948, A2: 0.0000, A3: 0.0000, BCC2: 0.0000, C14: 0.3574, FCC4: 0.0000, NI3TI: 0.0478, NITI2: 0.0000, \n",
      "X_NI=0.291-X_TI=0.165  ==  A1: 0.7259, A2: 0.0000, A3: 0.0000, BCC2: 0.0000, C14: 0.2259, FCC4: 0.0000, NI3TI: 0.0482, NITI2: 0.0000, \n",
      "X_NI=0.299-X_TI=0.142  ==  A1: 0.8219, A2: 0.0000, A3: 0.0000, BCC2: 0.0000, C14: 0.1299, FCC4: 0.0000, NI3TI: 0.0482, NITI2: 0.0000, \n",
      "X_NI=0.307-X_TI=0.119  ==  A1: 0.8880, A2: 0.0000, A3: 0.0000, BCC2: 0.0000, C14: 0.0672, FCC4: 0.0000, NI3TI: 0.0449, NITI2: 0.0000, \n",
      "X_NI=0.315-X_TI=0.095  ==  A1: 0.9332, A2: 0.0000, A3: 0.0000, BCC2: 0.0000, C14: 0.0293, FCC4: 0.0000, NI3TI: 0.0376, NITI2: 0.0000, \n",
      "X_NI=0.324-X_TI=0.072  ==  A1: 0.9649, A2: 0.0000, A3: 0.0000, BCC2: 0.0000, C14: 0.0092, FCC4: 0.0000, NI3TI: 0.0259, NITI2: 0.0000, \n",
      "X_NI=0.332-X_TI=0.048  ==  A1: 0.9877, A2: 0.0000, A3: 0.0000, BCC2: 0.0000, C14: 0.0016, FCC4: 0.0000, NI3TI: 0.0107, NITI2: 0.0000, \n",
      "X_NI=0.340-X_TI=0.024  ==  A1: 0.9981, A2: 0.0000, A3: 0.0000, BCC2: 0.0000, C14: 0.0001, FCC4: 0.0000, NI3TI: 0.0018, NITI2: 0.0000, \n",
      "X_NI=0.349-X_TI=0.000  ==  A1: 1.0000, A2: 0.0000, A3: 0.0000, BCC2: 0.0000, C14: 0.0000, FCC4: 0.0000, NI3TI: 0.0000, NITI2: 0.0000, \n"
     ]
    }
   ],
   "source": [
    "prefix = 'Fe-Ni-Ti_path'  # file name prefix\n",
    "# copy points at first for reproducibilty, but use along the whole path for speed and accuracy\n",
    "path_pts = copy.deepcopy(pts_dict)\n",
    "for i, composition in enumerate(all_comps):\n",
    "    formatted_name = fmt_comps(composition)\n",
    "    print(formatted_name, end='  ==  ')\n",
    "    res = simulate_scheil_solidification(dbf, comps, phases, composition, start_temperature=START_TEMPERATURE, adaptive=True, step_temperature=STEP_TEMPERATURE, verbose=VERBOSE, eq_kwargs={'calc_opts': {'points': path_pts}})\n",
    "    for ph, amnts in res.cum_phase_amounts.items():\n",
    "        print(f'{ph}: {amnts[-1]:0.4f}', end=', ')\n",
    "    print()\n",
    "    with open(os.path.join(PATH_DIR, f'{prefix}_i={i:03d}_{formatted_name}.json'), 'w') as fp:\n",
    "        json.dump(res.to_dict(), fp)"
   ]
  },
  {
   "cell_type": "markdown",
   "metadata": {},
   "source": [
    "### Plotting\n",
    "Load the data for the path from the results directory and create a dictionary mapping a phase to the fractions along the path."
   ]
  },
  {
   "cell_type": "code",
   "execution_count": 24,
   "metadata": {},
   "outputs": [],
   "source": [
    "MIN_PHASE_FRACTION = 1e-6\n",
    "solid_phases = [ph for ph in phases if ph != 'LIQUID']\n",
    "phase_fractions = {ph: [] for ph in solid_phases if ph != solid_phases}\n",
    "for filename in sorted(glob(os.path.join(f'{PATH_DIR}', '*'))):\n",
    "    with open(filename) as fp:\n",
    "        data = json.load(fp)\n",
    "    sol_res = SolidificationResult.from_dict(data)\n",
    "    for ph in solid_phases:\n",
    "        phase_fractions[ph].append(sol_res.cum_phase_amounts[ph][-1])\n",
    "# Only include phases that have *some* amount greater than MIN_PHASE_FRACTION\n",
    "phase_fractions = {ph: np.array(fracs) for ph, fracs in phase_fractions.items() if np.max(fracs) > MIN_PHASE_FRACTION}"
   ]
  },
  {
   "cell_type": "markdown",
   "metadata": {},
   "source": [
    "Manually set the line styles and coloring."
   ]
  },
  {
   "cell_type": "code",
   "execution_count": 25,
   "metadata": {},
   "outputs": [],
   "source": [
    "LINE_STYLES = {\n",
    "    'A1': 'dotted',\n",
    "    'A2': (0, (3, 5, 1, 5)),\n",
    "    'A3': (0, (3, 10, 1, 10)),\n",
    "    'BCC2': (0, (5, 5)),\n",
    "    'C14': 'dashed',\n",
    "    'FCC4': (0, (5, 10)),\n",
    "    'NI3TI': 'solid',\n",
    "    'NITI2': 'dashdot'\n",
    "}\n",
    "COLORS = {\n",
    "    'A1': '#000000',\n",
    "    'A2': '#000075',\n",
    "    'A3': '#808000',\n",
    "    'BCC2': '#911eb4',\n",
    "    'C14': '#f58231',\n",
    "    'FCC4': '#800000',\n",
    "    'NI3TI': '#3cb44b',\n",
    "    'NITI2': '#9A6324'\n",
    "}"
   ]
  },
  {
   "cell_type": "markdown",
   "metadata": {},
   "source": [
    "Plot the phase fractions."
   ]
  },
  {
   "cell_type": "code",
   "execution_count": 26,
   "metadata": {},
   "outputs": [
    {
     "data": {
      "image/png": "[encoded data removed]",
      "text/plain": [
       "<Figure size 432x288 with 1 Axes>"
      ]
     },
     "metadata": {
      "needs_background": "light"
     },
     "output_type": "display_data"
    }
   ],
   "source": [
    "path_xs = np.linspace(0, 1, list(phase_fractions.values())[0].size) # plotting along the fraction of Invar\n",
    "fig = plt.figure()\n",
    "ax = fig.gca()\n",
    "for ph, fracs in phase_fractions.items():\n",
    "    ax.plot(path_xs, fracs, color=COLORS[ph], ls=LINE_STYLES[ph], label=ph)\n",
    "\n",
    "\n",
    "ax.set_xlabel('Fraction Invar', fontsize=14)\n",
    "ax.set_ylabel('Phase Fraction\\nScheil Solidification', fontsize=14)\n",
    "ax.legend(loc=(1.02,0.2), handlelength=4)\n",
    "ax.set_xlim(0, 1)\n",
    "ax.set_ylim(-0.01, 1.01)\n",
    "fig.savefig(os.path.join(RESULTS_DIR, 'scheil-gulliver-path-solidification.tiff'), bbox_inches='tight')"
   ]
  },
  {
   "cell_type": "markdown",
   "metadata": {},
   "source": [
    "## Calculating equilibrium solidification phase fraction \n",
    "\n",
    "### Settings\n",
    "\n",
    "Since the phase fractions we are interested in plotting are at the end of the simulations and the equilibrium solidification simulations do a binary search at the end, we don't need as fine of a step size."
   ]
  },
  {
   "cell_type": "code",
   "execution_count": 27,
   "metadata": {},
   "outputs": [],
   "source": [
    "RESULTS_DIR = os.path.join('results')\n",
    "if not os.path.exists(RESULTS_DIR):\n",
    "    os.mkdir(RESULTS_DIR)\n",
    "PATH_DIR = os.path.join(RESULTS_DIR, 'eq-path')\n",
    "if not os.path.exists(PATH_DIR):\n",
    "    os.mkdir(PATH_DIR)\n",
    "START_TEMPERATURE = 2000.0  # global start temperature\n",
    "STEP_TEMPERATURE = 20.0  # temperature step size\n",
    "VERBOSE = False"
   ]
  },
  {
   "cell_type": "markdown",
   "metadata": {},
   "source": [
    "### Simulations\n",
    "\n",
    "Typically each simulation on the path finishes in ~4 minutes on average for a 2015 MacBook Pro with an Intel i7 processor."
   ]
  },
  {
   "cell_type": "code",
   "execution_count": 28,
   "metadata": {},
   "outputs": [
    {
     "name": "stdout",
     "output_type": "stream",
     "text": [
      "X_NI=0.000-X_TI=0.999  ==  A1: 0.0000, A2: 1.0000, A3: 0.0000, BCC2: 0.0000, C14: 0.0000, FCC4: 0.0000, NI3TI: 0.0000, NITI2: 0.0000, \n",
      "X_NI=0.006-X_TI=0.982  ==  A1: 0.0000, A2: 1.0000, A3: 0.0000, BCC2: 0.0000, C14: 0.0000, FCC4: 0.0000, NI3TI: 0.0000, NITI2: 0.0000, \n",
      "X_NI=0.012-X_TI=0.965  ==  A1: 0.0000, A2: 1.0000, A3: 0.0000, BCC2: 0.0000, C14: 0.0000, FCC4: 0.0000, NI3TI: 0.0000, NITI2: 0.0000, \n",
      "X_NI=0.018-X_TI=0.947  ==  A1: 0.0000, A2: 1.0000, A3: 0.0000, BCC2: 0.0000, C14: 0.0000, FCC4: 0.0000, NI3TI: 0.0000, NITI2: 0.0000, \n",
      "X_NI=0.025-X_TI=0.930  ==  A1: 0.0000, A2: 1.0000, A3: 0.0000, BCC2: 0.0000, C14: 0.0000, FCC4: 0.0000, NI3TI: 0.0000, NITI2: 0.0000, \n",
      "X_NI=0.031-X_TI=0.912  ==  A1: 0.0000, A2: 1.0000, A3: 0.0000, BCC2: 0.0000, C14: 0.0000, FCC4: 0.0000, NI3TI: 0.0000, NITI2: 0.0000, \n",
      "X_NI=0.037-X_TI=0.894  ==  A1: 0.0000, A2: 1.0000, A3: 0.0000, BCC2: 0.0000, C14: 0.0000, FCC4: 0.0000, NI3TI: 0.0000, NITI2: 0.0000, \n",
      "X_NI=0.043-X_TI=0.876  ==  A1: 0.0000, A2: 1.0000, A3: 0.0000, BCC2: 0.0000, C14: 0.0000, FCC4: 0.0000, NI3TI: 0.0000, NITI2: 0.0000, \n",
      "X_NI=0.049-X_TI=0.858  ==  A1: 0.0000, A2: 1.0000, A3: 0.0000, BCC2: 0.0000, C14: 0.0000, FCC4: 0.0000, NI3TI: 0.0000, NITI2: 0.0000, \n",
      "X_NI=0.056-X_TI=0.840  ==  A1: 0.0000, A2: 1.0000, A3: 0.0000, BCC2: 0.0000, C14: 0.0000, FCC4: 0.0000, NI3TI: 0.0000, NITI2: 0.0000, \n",
      "X_NI=0.062-X_TI=0.822  ==  A1: 0.0000, A2: 0.9503, A3: 0.0000, BCC2: 0.0000, C14: 0.0000, FCC4: 0.0000, NI3TI: 0.0000, NITI2: 0.0497, \n",
      "X_NI=0.069-X_TI=0.803  ==  A1: 0.0000, A2: 0.8626, A3: 0.0000, BCC2: 0.0000, C14: 0.0000, FCC4: 0.0000, NI3TI: 0.0000, NITI2: 0.1374, \n",
      "X_NI=0.075-X_TI=0.785  ==  A1: 0.0000, A2: 0.7660, A3: 0.0000, BCC2: 0.0000, C14: 0.0000, FCC4: 0.0000, NI3TI: 0.0000, NITI2: 0.2340, \n",
      "X_NI=0.082-X_TI=0.766  ==  A1: 0.0000, A2: 0.6610, A3: 0.0000, BCC2: 0.0000, C14: 0.0000, FCC4: 0.0000, NI3TI: 0.0000, NITI2: 0.3390, \n",
      "X_NI=0.088-X_TI=0.747  ==  A1: 0.0000, A2: 0.5481, A3: 0.0000, BCC2: 0.0000, C14: 0.0000, FCC4: 0.0000, NI3TI: 0.0000, NITI2: 0.4519, \n",
      "X_NI=0.095-X_TI=0.728  ==  A1: 0.0000, A2: 0.4279, A3: 0.0000, BCC2: 0.0000, C14: 0.0000, FCC4: 0.0000, NI3TI: 0.0000, NITI2: 0.5721, \n",
      "X_NI=0.101-X_TI=0.709  ==  A1: 0.0000, A2: 0.3012, A3: 0.0000, BCC2: 0.0000, C14: 0.0000, FCC4: 0.0000, NI3TI: 0.0000, NITI2: 0.6988, \n",
      "X_NI=0.108-X_TI=0.690  ==  A1: 0.0000, A2: 0.1687, A3: 0.0000, BCC2: 0.0000, C14: 0.0000, FCC4: 0.0000, NI3TI: 0.0000, NITI2: 0.8313, \n",
      "X_NI=0.115-X_TI=0.671  ==  A1: 0.0000, A2: 0.0310, A3: 0.0000, BCC2: 0.0000, C14: 0.0000, FCC4: 0.0000, NI3TI: 0.0000, NITI2: 0.9690, \n",
      "X_NI=0.121-X_TI=0.652  ==  A1: 0.0000, A2: 0.0000, A3: 0.0000, BCC2: 0.1171, C14: 0.0000, FCC4: 0.0000, NI3TI: 0.0000, NITI2: 0.8829, \n",
      "X_NI=0.128-X_TI=0.632  ==  A1: 0.0000, A2: 0.0000, A3: 0.0000, BCC2: 0.2689, C14: 0.0000, FCC4: 0.0000, NI3TI: 0.0000, NITI2: 0.7311, \n",
      "X_NI=0.135-X_TI=0.612  ==  A1: 0.0000, A2: 0.0000, A3: 0.0000, BCC2: 0.4216, C14: 0.0000, FCC4: 0.0000, NI3TI: 0.0000, NITI2: 0.5784, \n",
      "X_NI=0.142-X_TI=0.592  ==  A1: 0.0000, A2: 0.0000, A3: 0.0000, BCC2: 0.5751, C14: 0.0000, FCC4: 0.0000, NI3TI: 0.0000, NITI2: 0.4249, \n",
      "X_NI=0.149-X_TI=0.572  ==  A1: 0.0000, A2: 0.0000, A3: 0.0000, BCC2: 0.7295, C14: 0.0000, FCC4: 0.0000, NI3TI: 0.0000, NITI2: 0.2705, \n",
      "X_NI=0.156-X_TI=0.552  ==  A1: 0.0000, A2: 0.0000, A3: 0.0000, BCC2: 0.8847, C14: 0.0000, FCC4: 0.0000, NI3TI: 0.0000, NITI2: 0.1153, \n",
      "X_NI=0.163-X_TI=0.532  ==  A1: 0.0000, A2: 0.0000, A3: 0.0000, BCC2: 1.0000, C14: 0.0000, FCC4: 0.0000, NI3TI: 0.0000, NITI2: 0.0000, \n",
      "X_NI=0.170-X_TI=0.512  ==  A1: 0.0000, A2: 0.0000, A3: 0.0000, BCC2: 1.0000, C14: 0.0000, FCC4: 0.0000, NI3TI: 0.0000, NITI2: 0.0000, \n",
      "X_NI=0.177-X_TI=0.491  ==  A1: 0.0000, A2: 0.0000, A3: 0.0000, BCC2: 1.0000, C14: 0.0000, FCC4: 0.0000, NI3TI: 0.0000, NITI2: 0.0000, \n",
      "X_NI=0.185-X_TI=0.471  ==  A1: 0.0000, A2: 0.0000, A3: 0.0000, BCC2: 0.9407, C14: 0.0593, FCC4: 0.0000, NI3TI: 0.0000, NITI2: 0.0000, \n",
      "X_NI=0.192-X_TI=0.450  ==  A1: 0.0000, A2: 0.0000, A3: 0.0000, BCC2: 0.7937, C14: 0.2063, FCC4: 0.0000, NI3TI: 0.0000, NITI2: 0.0000, \n",
      "X_NI=0.199-X_TI=0.429  ==  A1: 0.0000, A2: 0.0000, A3: 0.0000, BCC2: 0.6459, C14: 0.3541, FCC4: 0.0000, NI3TI: 0.0000, NITI2: 0.0000, \n",
      "X_NI=0.207-X_TI=0.408  ==  A1: 0.0000, A2: 0.0000, A3: 0.0000, BCC2: 0.4972, C14: 0.5028, FCC4: 0.0000, NI3TI: 0.0000, NITI2: 0.0000, \n",
      "X_NI=0.214-X_TI=0.386  ==  A1: 0.0000, A2: 0.0000, A3: 0.0000, BCC2: 0.3477, C14: 0.6523, FCC4: 0.0000, NI3TI: 0.0000, NITI2: 0.0000, \n",
      "X_NI=0.221-X_TI=0.365  ==  A1: 0.0000, A2: 0.0000, A3: 0.0000, BCC2: 0.1972, C14: 0.8028, FCC4: 0.0000, NI3TI: 0.0000, NITI2: 0.0000, \n",
      "X_NI=0.229-X_TI=0.343  ==  A1: 0.0000, A2: 0.0000, A3: 0.0000, BCC2: 0.0449, C14: 0.9551, FCC4: 0.0000, NI3TI: 0.0000, NITI2: 0.0000, \n",
      "X_NI=0.236-X_TI=0.322  ==  A1: 0.0000, A2: 0.0000, A3: 0.0000, BCC2: 0.0000, C14: 1.0000, FCC4: 0.0000, NI3TI: 0.0000, NITI2: 0.0000, \n",
      "X_NI=0.244-X_TI=0.300  ==  A1: 0.0000, A2: 0.0000, A3: 0.0000, BCC2: 0.0000, C14: 1.0000, FCC4: 0.0000, NI3TI: 0.0000, NITI2: 0.0000, \n",
      "X_NI=0.252-X_TI=0.278  ==  A1: 0.0808, A2: 0.0000, A3: 0.0000, BCC2: 0.0000, C14: 0.9192, FCC4: 0.0000, NI3TI: 0.0000, NITI2: 0.0000, \n",
      "X_NI=0.260-X_TI=0.256  ==  A1: 0.2060, A2: 0.0000, A3: 0.0000, BCC2: 0.0000, C14: 0.7940, FCC4: 0.0000, NI3TI: 0.0000, NITI2: 0.0000, \n",
      "X_NI=0.267-X_TI=0.233  ==  A1: 0.3326, A2: 0.0000, A3: 0.0000, BCC2: 0.0000, C14: 0.6674, FCC4: 0.0000, NI3TI: 0.0000, NITI2: 0.0000, \n",
      "X_NI=0.275-X_TI=0.211  ==  A1: 0.4604, A2: 0.0000, A3: 0.0000, BCC2: 0.0000, C14: 0.5396, FCC4: 0.0000, NI3TI: 0.0000, NITI2: 0.0000, \n",
      "X_NI=0.283-X_TI=0.188  ==  A1: 0.5893, A2: 0.0000, A3: 0.0000, BCC2: 0.0000, C14: 0.4107, FCC4: 0.0000, NI3TI: 0.0000, NITI2: 0.0000, \n",
      "X_NI=0.291-X_TI=0.165  ==  A1: 0.7192, A2: 0.0000, A3: 0.0000, BCC2: 0.0000, C14: 0.2808, FCC4: 0.0000, NI3TI: 0.0000, NITI2: 0.0000, \n",
      "X_NI=0.299-X_TI=0.142  ==  A1: 0.8502, A2: 0.0000, A3: 0.0000, BCC2: 0.0000, C14: 0.1498, FCC4: 0.0000, NI3TI: 0.0000, NITI2: 0.0000, \n",
      "X_NI=0.307-X_TI=0.119  ==  A1: 0.9822, A2: 0.0000, A3: 0.0000, BCC2: 0.0000, C14: 0.0178, FCC4: 0.0000, NI3TI: 0.0000, NITI2: 0.0000, \n",
      "X_NI=0.315-X_TI=0.095  ==  A1: 1.0000, A2: 0.0000, A3: 0.0000, BCC2: 0.0000, C14: 0.0000, FCC4: 0.0000, NI3TI: 0.0000, NITI2: 0.0000, \n",
      "X_NI=0.324-X_TI=0.072  ==  A1: 1.0000, A2: 0.0000, A3: 0.0000, BCC2: 0.0000, C14: 0.0000, FCC4: 0.0000, NI3TI: 0.0000, NITI2: 0.0000, \n",
      "X_NI=0.332-X_TI=0.048  ==  A1: 1.0000, A2: 0.0000, A3: 0.0000, BCC2: 0.0000, C14: 0.0000, FCC4: 0.0000, NI3TI: 0.0000, NITI2: 0.0000, \n",
      "X_NI=0.340-X_TI=0.024  ==  A1: 1.0000, A2: 0.0000, A3: 0.0000, BCC2: 0.0000, C14: 0.0000, FCC4: 0.0000, NI3TI: 0.0000, NITI2: 0.0000, \n",
      "X_NI=0.349-X_TI=0.000  ==  A1: 1.0000, A2: 0.0000, A3: 0.0000, BCC2: 0.0000, C14: 0.0000, FCC4: 0.0000, NI3TI: 0.0000, NITI2: 0.0000, \n"
     ]
    }
   ],
   "source": [
    "prefix = 'Fe-Ni-Ti_path'\n",
    "# copy points at first for reproducibilty, but use along the whole path for speed\n",
    "path_pts = copy.deepcopy(pts_dict)\n",
    "for i, composition in enumerate(all_comps):\n",
    "    formatted_name = fmt_comps(composition)\n",
    "    print(formatted_name, end='  ==  ')\n",
    "    res = simulate_equilibrium_solidification(dbf, comps, phases, composition, start_temperature=START_TEMPERATURE, adaptive=True, step_temperature=STEP_TEMPERATURE, verbose=VERBOSE, eq_kwargs={'calc_opts': {'points': path_pts}})\n",
    "    for ph, amnts in res.cum_phase_amounts.items():\n",
    "        print(f'{ph}: {amnts[-1]:0.4f}', end=', ')\n",
    "    print()\n",
    "    with open(os.path.join(PATH_DIR, f'{prefix}_i={i:03d}_{formatted_name}.json'), 'w') as fp:\n",
    "        json.dump(res.to_dict(), fp)"
   ]
  },
  {
   "cell_type": "code",
   "execution_count": 29,
   "metadata": {},
   "outputs": [],
   "source": [
    "MIN_PHASE_FRACTION = 1e-6\n",
    "solid_phases = [ph for ph in phases if ph != 'LIQUID']\n",
    "phase_fractions = {ph: [] for ph in solid_phases if ph != solid_phases}\n",
    "for filename in sorted(glob(os.path.join(f'{PATH_DIR}', '*'))):\n",
    "    with open(filename) as fp:\n",
    "        data = json.load(fp)\n",
    "    sol_res = SolidificationResult.from_dict(data)\n",
    "    for ph in solid_phases:\n",
    "        phase_fractions[ph].append(sol_res.cum_phase_amounts[ph][-1])\n",
    "# Only include phases that have *some* amount greater than MIN_PHASE_FRACTION\n",
    "phase_fractions = {ph: np.array(fracs) for ph, fracs in phase_fractions.items() if np.max(fracs) > MIN_PHASE_FRACTION}"
   ]
  },
  {
   "cell_type": "code",
   "execution_count": 30,
   "metadata": {},
   "outputs": [],
   "source": [
    "# Same styles and colors as in the Scheil-Gulliver path plot\n",
    "LINE_STYLES = {\n",
    "    'A1': 'dotted',\n",
    "    'A2': (0, (3, 5, 1, 5)),\n",
    "    'A3': (0, (3, 10, 1, 10)),\n",
    "    'BCC2': (0, (5, 5)),\n",
    "    'C14': 'dashed',\n",
    "    'FCC4': (0, (5, 10)),\n",
    "    'NI3TI': 'solid',\n",
    "    'NITI2': 'dashdot'\n",
    "}\n",
    "COLORS = {\n",
    "    'A1': '#000000',\n",
    "    'A2': '#000075',\n",
    "    'A3': '#808000',\n",
    "    'BCC2': '#911eb4',\n",
    "    'C14': '#f58231',\n",
    "    'FCC4': '#800000',\n",
    "    'NI3TI': '#3cb44b',\n",
    "    'NITI2': '#9A6324'\n",
    "}"
   ]
  },
  {
   "cell_type": "code",
   "execution_count": 31,
   "metadata": {},
   "outputs": [
    {
     "data": {
      "image/png": "[encoded data removed]",
      "text/plain": [
       "<Figure size 432x288 with 1 Axes>"
      ]
     },
     "metadata": {
      "needs_background": "light"
     },
     "output_type": "display_data"
    }
   ],
   "source": [
    "path_xs = np.linspace(0, 1, list(phase_fractions.values())[0].size) # plotting along the fraction of Invar\n",
    "fig = plt.figure()\n",
    "ax = fig.gca()\n",
    "for ph, fracs in phase_fractions.items():\n",
    "    ax.plot(path_xs, fracs, color=COLORS[ph], ls=LINE_STYLES[ph], label=ph)\n",
    "\n",
    "\n",
    "ax.set_xlabel('Fraction Invar', fontsize=14)\n",
    "ax.set_ylabel('Phase Fraction\\nEquilibrium Solidification', fontsize=14)\n",
    "ax.legend(loc=(1.02,0.2), handlelength=4)\n",
    "ax.set_xlim(0, 1)\n",
    "ax.set_ylim(-0.01, 1.01)\n",
    "fig.savefig(os.path.join(RESULTS_DIR, 'eq-path-solidification.tiff'), bbox_inches='tight')"
   ]
  },
  {
   "cell_type": "code",
   "execution_count": null,
   "metadata": {},
   "outputs": [],
   "source": []
  }
 ],
 "metadata": {
  "kernelspec": {
   "display_name": "Python [conda env:calphad-dev-2]",
   "language": "python",
   "name": "conda-env-calphad-dev-2-py"
  },
  "language_info": {
   "codemirror_mode": {
    "name": "ipython",
    "version": 3
   },
   "file_extension": ".py",
   "mimetype": "text/x-python",
   "name": "python",
   "nbconvert_exporter": "python",
   "pygments_lexer": "ipython3",
   "version": "3.7.3"
  }
 },
 "nbformat": 4,
 "nbformat_minor": 4
}
