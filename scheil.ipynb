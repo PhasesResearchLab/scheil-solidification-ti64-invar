{
 "cells": [
  {
   "cell_type": "code",
   "execution_count": 1,
   "metadata": {},
   "outputs": [],
   "source": [
    "import os\n",
    "import json\n",
    "import copy\n",
    "from glob import glob\n",
    "import matplotlib.pyplot as plt\n",
    "import numpy as np\n",
    "from pycalphad import calculate, equilibrium, Database, variables as v\n",
    "from pycalphad.core.utils import filter_phases\n",
    "from pycalphad.plot.utils import phase_legend\n",
    "from scheil import simulate_scheil_solidification, simulate_equilibrium_solidification, SolidificationResult\n",
    "from scheil.utils import order_disorder_dict, order_disorder_eq_phases\n",
    "# local helpers.py file\n",
    "# monkey patches pycalphad variables with weights, should be imported *after* pycalphad\n",
    "from helpers import sample_phase_points, W_to_X, comp_interp "
   ]
  },
  {
   "cell_type": "markdown",
   "metadata": {},
   "source": [
    "Load the database file for this system"
   ]
  },
  {
   "cell_type": "code",
   "execution_count": 2,
   "metadata": {},
   "outputs": [],
   "source": [
    "dbf = Database('Fe-Ni-Ti_DeKeyzer_modified.tdb')\n",
    "comps = ['FE', 'NI', 'TI', 'VA']\n",
    "phases = list(dbf.phases.keys())"
   ]
  },
  {
   "cell_type": "code",
   "execution_count": 3,
   "metadata": {},
   "outputs": [],
   "source": [
    "# Compute a map from ordered to disorderd phases, to determine equilibrium solidification phase amounts.\n",
    "ord_disord_map = order_disorder_dict(dbf, comps, phases)"
   ]
  },
  {
   "cell_type": "markdown",
   "metadata": {},
   "source": [
    "## Add points near the convex hull manually\n",
    "\n",
    "In this system, the phases are modeled with many sublattices. Sampling over the single phase energy surfaces to find and sample phase constitutions around equilibrium composition sets can greatly increase the speed and accuracy of the solver during the solidification simulations.\n",
    "\n",
    "Here, several temperatures are sampled."
   ]
  },
  {
   "cell_type": "code",
   "execution_count": 4,
   "metadata": {},
   "outputs": [
    {
     "name": "stdout",
     "output_type": "stream",
     "text": [
      "A3: T= 1400 "
     ]
    },
    {
     "name": "stderr",
     "output_type": "stream",
     "text": [
      "/Users/brandon/Projects/pycalphad/pycalphad/core/lower_convex_hull.py:136: RuntimeWarning: invalid value encountered in double_scalars\n",
      "  result_array_GM_values[it.multi_index] = new_energy / molesum\n"
     ]
    },
    {
     "name": "stdout",
     "output_type": "stream",
     "text": [
      "1660 - 17930 points\n",
      "BCC2: T= 1400 1660 - 126277 points\n",
      "C14: T= 1400 1660 - 372806 points\n",
      "FCC4: T= 1400 1660 - 3261286 points\n",
      "LIQUID: T= 1400 1660 - 17932 points\n",
      "NI3TI: T= 1400 1660 - 52942 points\n",
      "NITI2: T= 1400 1660 - 56376 points\n"
     ]
    }
   ],
   "source": [
    "TEMPERATURES = [1400, 1660]\n",
    "pts_dict = {}\n",
    "active_phases = ['A3', 'BCC2', 'FCC4', 'NI3TI', 'NITI2', 'LIQUID', 'C14']\n",
    "for phase_name in filter_phases(dbf, list(map(v.Species, comps)), phases):\n",
    "    print(phase_name, end=': T= ')\n",
    "    phase_pts = []\n",
    "    for T in TEMPERATURES:\n",
    "        print(T, end=' ')\n",
    "        phase_pts.append(sample_phase_points(dbf, comps, phase_name, {v.T: T, v.P: 101325, v.N: 1, v.X('FE'): (0, 1.01, 0.1), v.X('NI'): (0, 1.01, 0.1)}, 500, 100))\n",
    "    pts_dict[phase_name] = np.concatenate(phase_pts)\n",
    "    print(f'- {pts_dict[phase_name].shape[0]} points')"
   ]
  },
  {
   "cell_type": "markdown",
   "metadata": {},
   "source": [
    "# Individual layers\n",
    "\n",
    "Note that in all simulations, the point dictionary will be copied. This means that each simulation will not be affected by others regardless of the number of times/order of the simulations. At the same time, the added points won't be able to accumulate through the simulations. They will be reproducible.\n",
    "\n",
    "Common parameters for all simulations."
   ]
  },
  {
   "cell_type": "code",
   "execution_count": 127,
   "metadata": {},
   "outputs": [],
   "source": [
    "RESULTS_DIR = os.path.join('results')\n",
    "if not os.path.exists(RESULTS_DIR):\n",
    "    os.mkdir(RESULTS_DIR)\n",
    "LAYERS_DIR = os.path.join(RESULTS_DIR, 'layers')\n",
    "if not os.path.exists(LAYERS_DIR):\n",
    "    os.mkdir(LAYERS_DIR)"
   ]
  },
  {
   "cell_type": "code",
   "execution_count": 6,
   "metadata": {},
   "outputs": [],
   "source": [
    "step_temperature = 10.0\n",
    "verbose = True"
   ]
  },
  {
   "cell_type": "markdown",
   "metadata": {},
   "source": [
    "## CP Ti\n",
    "\n",
    "### Layer 24"
   ]
  },
  {
   "cell_type": "code",
   "execution_count": 7,
   "metadata": {},
   "outputs": [
    {
     "name": "stdout",
     "output_type": "stream",
     "text": [
      "building callables... done\n",
      "Adding points to LIQUID. T=1620.000, X_NI=0.05, X_TI=0.86, ΔT=10.000, NL: 1.000, NP(LIQUID)=1.000 \n",
      "Adding points to LIQUID. T=1610.000, X_NI=0.05, X_TI=0.86, ΔT=10.000, NL: 1.000, NP(LIQUID)=1.000 \n",
      "Adding points to LIQUID. T=1600.000, X_NI=0.05, X_TI=0.86, ΔT=10.000, NL: 1.000, NP(LIQUID)=1.000 \n",
      "Adding points to LIQUID. Adding points to BCC2. New phases seen: {'A2'}. T=1590.000, X_NI=0.05, X_TI=0.86, ΔT=10.000, NL: 0.852, NP(LIQUID)=0.852 NP(A2)=0.148 \n",
      "Adding points to LIQUID. Adding points to BCC2. T=1580.000, X_NI=0.06, X_TI=0.84, ΔT=10.000, NL: 0.814, NP(LIQUID)=0.955 NP(A2)=0.045 \n",
      "Adding points to LIQUID. Adding points to BCC2. T=1570.000, X_NI=0.06, X_TI=0.84, ΔT=10.000, NL: 0.778, NP(LIQUID)=0.956 NP(A2)=0.044 \n",
      "Adding points to LIQUID. Adding points to BCC2. T=1560.000, X_NI=0.06, X_TI=0.84, ΔT=10.000, NL: 0.744, NP(LIQUID)=0.956 NP(A2)=0.044 \n",
      "Adding points to LIQUID. Adding points to BCC2. T=1550.000, X_NI=0.06, X_TI=0.83, ΔT=10.000, NL: 0.712, NP(LIQUID)=0.957 NP(A2)=0.043 \n",
      "Adding points to LIQUID. Adding points to BCC2. T=1540.000, X_NI=0.06, X_TI=0.83, ΔT=10.000, NL: 0.681, NP(LIQUID)=0.957 NP(A2)=0.043 \n",
      "Adding points to LIQUID. Adding points to BCC2. T=1530.000, X_NI=0.07, X_TI=0.83, ΔT=10.000, NL: 0.652, NP(LIQUID)=0.957 NP(A2)=0.043 \n",
      "Adding points to LIQUID. Adding points to BCC2. T=1520.000, X_NI=0.07, X_TI=0.82, ΔT=10.000, NL: 0.624, NP(LIQUID)=0.958 NP(A2)=0.042 \n",
      "Adding points to LIQUID. Adding points to BCC2. T=1510.000, X_NI=0.07, X_TI=0.82, ΔT=10.000, NL: 0.598, NP(LIQUID)=0.958 NP(A2)=0.042 \n",
      "Adding points to LIQUID. Adding points to BCC2. T=1500.000, X_NI=0.07, X_TI=0.82, ΔT=10.000, NL: 0.573, NP(LIQUID)=0.958 NP(A2)=0.042 \n",
      "Adding points to LIQUID. Adding points to BCC2. T=1490.000, X_NI=0.07, X_TI=0.81, ΔT=10.000, NL: 0.549, NP(LIQUID)=0.958 NP(A2)=0.042 \n",
      "Adding points to LIQUID. Adding points to BCC2. T=1480.000, X_NI=0.07, X_TI=0.81, ΔT=10.000, NL: 0.526, NP(LIQUID)=0.958 NP(A2)=0.042 \n",
      "Adding points to LIQUID. Adding points to BCC2. T=1470.000, X_NI=0.08, X_TI=0.81, ΔT=10.000, NL: 0.504, NP(LIQUID)=0.958 NP(A2)=0.042 \n",
      "Adding points to LIQUID. Adding points to BCC2. T=1460.000, X_NI=0.08, X_TI=0.80, ΔT=10.000, NL: 0.483, NP(LIQUID)=0.958 NP(A2)=0.042 \n",
      "Adding points to LIQUID. Adding points to BCC2. T=1450.000, X_NI=0.08, X_TI=0.80, ΔT=10.000, NL: 0.463, NP(LIQUID)=0.958 NP(A2)=0.042 \n",
      "Adding points to LIQUID. Adding points to BCC2. T=1440.000, X_NI=0.08, X_TI=0.80, ΔT=10.000, NL: 0.444, NP(LIQUID)=0.958 NP(A2)=0.042 \n",
      "Adding points to LIQUID. Adding points to BCC2. T=1430.000, X_NI=0.09, X_TI=0.79, ΔT=10.000, NL: 0.425, NP(LIQUID)=0.958 NP(A2)=0.042 \n",
      "Adding points to LIQUID. Adding points to BCC2. T=1420.000, X_NI=0.09, X_TI=0.79, ΔT=10.000, NL: 0.407, NP(LIQUID)=0.958 NP(A2)=0.042 \n",
      "Adding points to LIQUID. Adding points to BCC2. T=1410.000, X_NI=0.09, X_TI=0.79, ΔT=10.000, NL: 0.390, NP(LIQUID)=0.958 NP(A2)=0.042 \n",
      "Adding points to LIQUID. Adding points to BCC2. T=1400.000, X_NI=0.09, X_TI=0.78, ΔT=10.000, NL: 0.373, NP(LIQUID)=0.957 NP(A2)=0.043 \n",
      "Adding points to LIQUID. Adding points to BCC2. T=1390.000, X_NI=0.10, X_TI=0.78, ΔT=10.000, NL: 0.357, NP(LIQUID)=0.957 NP(A2)=0.043 \n",
      "Adding points to LIQUID. Adding points to BCC2. T=1380.000, X_NI=0.10, X_TI=0.78, ΔT=10.000, NL: 0.342, NP(LIQUID)=0.957 NP(A2)=0.043 \n",
      "Adding points to LIQUID. Adding points to BCC2. T=1370.000, X_NI=0.10, X_TI=0.77, ΔT=10.000, NL: 0.327, NP(LIQUID)=0.957 NP(A2)=0.043 \n",
      "Adding points to LIQUID. Adding points to BCC2. T=1360.000, X_NI=0.10, X_TI=0.77, ΔT=10.000, NL: 0.313, NP(LIQUID)=0.956 NP(A2)=0.044 \n",
      "Adding points to BCC2. Adding points to LIQUID. T=1350.000, X_NI=0.11, X_TI=0.76, ΔT=10.000, NL: 0.299, NP(LIQUID)=0.956 NP(A2)=0.044 \n",
      "Adding points to LIQUID. Adding points to BCC2. T=1340.000, X_NI=0.11, X_TI=0.76, ΔT=10.000, NL: 0.286, NP(LIQUID)=0.956 NP(A2)=0.044 \n",
      "Adding points to LIQUID. Adding points to BCC2. T=1330.000, X_NI=0.11, X_TI=0.76, ΔT=10.000, NL: 0.273, NP(LIQUID)=0.955 NP(A2)=0.045 \n",
      "Adding points to LIQUID. Adding points to BCC2. T=1320.000, X_NI=0.12, X_TI=0.75, ΔT=10.000, NL: 0.261, NP(LIQUID)=0.955 NP(A2)=0.045 \n",
      "Adding points to LIQUID. Adding points to BCC2. T=1310.000, X_NI=0.12, X_TI=0.75, ΔT=10.000, NL: 0.249, NP(LIQUID)=0.955 NP(A2)=0.045 \n",
      "Adding points to LIQUID. Adding points to BCC2. T=1300.000, X_NI=0.12, X_TI=0.75, ΔT=10.000, NL: 0.237, NP(LIQUID)=0.954 NP(A2)=0.046 \n",
      "Adding points to BCC2. Adding points to LIQUID. T=1290.000, X_NI=0.13, X_TI=0.74, ΔT=10.000, NL: 0.226, NP(LIQUID)=0.954 NP(A2)=0.046 \n",
      "Adding points to BCC2. Adding points to NITI2. Adding points to LIQUID. New phases seen: {'NITI2'}. T=1280.000, X_NI=0.13, X_TI=0.74, ΔT=10.000, NL: 0.093, NP(LIQUID)=0.286 NP(A2)=0.318 NP(NITI2)=0.396 \n",
      "Adding points to NITI2. Adding points to LIQUID. Adding points to BCC2. T=1270.000, X_NI=0.15, X_TI=0.74, ΔT=10.000, NL: 0.038, NP(LIQUID)=0.281 NP(A2)=0.307 NP(NITI2)=0.411 \n",
      "Adding points to NITI2. Adding points to LIQUID. Adding points to BCC2. T=1260.000, X_NI=0.17, X_TI=0.74, ΔT=10.000, NL: 0.016, NP(LIQUID)=0.307 NP(A2)=0.285 NP(NITI2)=0.407 \n",
      "Adding points to NITI2. Adding points to LIQUID. Adding points to BCC2. T=1250.000, X_NI=0.19, X_TI=0.74, ΔT=10.000, NL: 0.006, NP(LIQUID)=0.280 NP(A2)=0.286 NP(NITI2)=0.435 \n",
      "Adding points to NITI2. Adding points to LIQUID. Adding points to BCC2. T=1240.000, X_NI=0.21, X_TI=0.74, ΔT=10.000, NL: 0.002, NP(LIQUID)=0.166 NP(A2)=0.318 NP(NITI2)=0.516 \n",
      "Adding points to NITI2. Adding points to BCC2. No liquid phase found at T=1230.000, X_NI=0.22, X_TI=0.75. (Found {'NITI2', 'A2'}) Stepping back and reducing step size.\n",
      "Adding points to LIQUID. Adding points to BCC2. Adding points to NITI2. T=1240.000, X_NI=0.22, X_TI=0.75, ΔT=8.333, NL: 0.002, NP(LIQUID)=1.000 NP(A2)=0.000 NP(NITI2)=0.000 \n",
      "Adding points to NITI2. Adding points to LIQUID. Adding points to BCC2. T=1231.667, X_NI=0.22, X_TI=0.75, ΔT=8.333, NL: 6.28E-04, NP(LIQUID)=0.107 NP(A2)=0.330 NP(NITI2)=0.563 \n",
      "Adding points to NITI2. Adding points to BCC2. No liquid phase found at T=1223.333, X_NI=0.23, X_TI=0.75. (Found {'NITI2', 'A2'}) Stepping back and reducing step size.\n",
      "Adding points to LIQUID. Adding points to NITI2. T=1231.667, X_NI=0.23, X_TI=0.75, ΔT=6.944, NL: 6.28E-04, NP(LIQUID)=1.000 NP(NITI2)=0.000 \n",
      "Adding points to NITI2. Adding points to BCC2. No liquid phase found at T=1224.722, X_NI=0.23, X_TI=0.75. (Found {'NITI2', 'A2'}) Stepping back and reducing step size.\n",
      "Adding points to NITI2. Adding points to LIQUID. Adding points to BCC2. T=1231.667, X_NI=0.23, X_TI=0.75, ΔT=5.787, NL: 6.28E-04, NP(LIQUID)=1.000 NP(A2)=0.000 NP(NITI2)=0.000 \n",
      "Adding points to BCC2. Adding points to NITI2. Adding points to LIQUID. T=1225.880, X_NI=0.23, X_TI=0.75, ΔT=5.787, NL: 1.99E-04, NP(LIQUID)=0.150 NP(A2)=0.308 NP(NITI2)=0.542 \n",
      "Adding points to NITI2. Adding points to BCC2. No liquid phase found at T=1220.093, X_NI=0.24, X_TI=0.75. (Found {'NITI2', 'A2'}) Stepping back and reducing step size.\n",
      "Adding points to LIQUID. Adding points to NITI2. T=1225.880, X_NI=0.24, X_TI=0.75, ΔT=4.823, NL: 1.99E-04, NP(LIQUID)=1.000 NP(NITI2)=0.000 \n",
      "Adding points to NITI2. Adding points to BCC2. No liquid phase found at T=1221.057, X_NI=0.24, X_TI=0.75. (Found {'NITI2', 'A2'}) Stepping back and reducing step size.\n",
      "Adding points to LIQUID. Adding points to BCC2. T=1225.880, X_NI=0.24, X_TI=0.75, ΔT=4.019, NL: 1.99E-04, NP(LIQUID)=1.000 NP(A2)=0.000 \n",
      "Adding points to NITI2. Adding points to LIQUID. Adding points to BCC2. T=1221.861, X_NI=0.24, X_TI=0.75, ΔT=4.019, NL: 6.14E-05, NP(LIQUID)=0.138 NP(A2)=0.307 NP(NITI2)=0.555 Liquid fraction below criterion 0.0001 . Stopping at X_NI=0.24, X_TI=0.75\n",
      "<SolidificationResult: scheil T=(1620.0 -> 1221.9) (A2, NITI2)>\n",
      "(A2: 0.893), (NITI2: 0.107)\n"
     ]
    }
   ],
   "source": [
    "composition = {v.W('NI'): 0.060, v.W('TI'): 0.834}\n",
    "composition = W_to_X(composition, dbf, comps)\n",
    "start_temperature = 1620\n",
    "res = simulate_scheil_solidification(dbf, comps, phases, composition, start_temperature=start_temperature, step_temperature=step_temperature, verbose=verbose, eq_kwargs={'calc_opts': {'points': copy.deepcopy(pts_dict)}})\n",
    "print(res)\n",
    "with open(os.path.join(LAYERS_DIR, 'CPTi-L24.json'), 'w') as fp:\n",
    "    json.dump(res.to_dict(), fp)\n",
    "print(\", \".join([f\"({ph}: {vals[-1]:0.3f})\" for ph, vals in res.cum_phase_amounts.items() if not np.isclose(vals[-1], 0)]))"
   ]
  },
  {
   "cell_type": "code",
   "execution_count": 8,
   "metadata": {},
   "outputs": [
    {
     "name": "stdout",
     "output_type": "stream",
     "text": [
      "building callables... done\n",
      "(A2: 1.000)\n"
     ]
    }
   ],
   "source": [
    "eq_sol = simulate_equilibrium_solidification(dbf, comps, phases, composition, start_temperature=start_temperature, step_temperature=step_temperature, verbose=verbose, eq_kwargs={'calc_opts': {'points': copy.deepcopy(pts_dict)}})\n",
    "eq_res = equilibrium(dbf, comps, phases, {v.P: 101325, v.N: 1.0, v.T: eq_sol.temperatures[-1], **composition})\n",
    "print(\", \".join([f\"({ph}: {val:0.3f})\" for ph, val in zip(order_disorder_eq_phases(eq_res, ord_disord_map), eq_res.NP.values.squeeze()) if ph != '']))"
   ]
  },
  {
   "cell_type": "markdown",
   "metadata": {},
   "source": [
    "### Layer 32"
   ]
  },
  {
   "cell_type": "code",
   "execution_count": 9,
   "metadata": {},
   "outputs": [
    {
     "name": "stdout",
     "output_type": "stream",
     "text": [
      "building callables... done\n",
      "Adding points to LIQUID. T=1600.000, X_NI=0.15, X_TI=0.58, ΔT=10.000, NL: 1.000, NP(LIQUID)=1.000 \n",
      "Adding points to LIQUID. T=1590.000, X_NI=0.15, X_TI=0.58, ΔT=10.000, NL: 1.000, NP(LIQUID)=1.000 \n",
      "Adding points to LIQUID. T=1580.000, X_NI=0.15, X_TI=0.58, ΔT=10.000, NL: 1.000, NP(LIQUID)=1.000 \n",
      "Adding points to LIQUID. T=1570.000, X_NI=0.15, X_TI=0.58, ΔT=10.000, NL: 1.000, NP(LIQUID)=1.000 \n",
      "Adding points to LIQUID. T=1560.000, X_NI=0.15, X_TI=0.58, ΔT=10.000, NL: 1.000, NP(LIQUID)=1.000 \n",
      "Adding points to LIQUID. T=1550.000, X_NI=0.15, X_TI=0.58, ΔT=10.000, NL: 1.000, NP(LIQUID)=1.000 \n",
      "Adding points to LIQUID. T=1540.000, X_NI=0.15, X_TI=0.58, ΔT=10.000, NL: 1.000, NP(LIQUID)=1.000 \n",
      "Adding points to LIQUID. T=1530.000, X_NI=0.15, X_TI=0.58, ΔT=10.000, NL: 1.000, NP(LIQUID)=1.000 \n",
      "Adding points to LIQUID. Adding points to BCC2. New phases seen: {'BCC2'}. T=1520.000, X_NI=0.15, X_TI=0.58, ΔT=10.000, NL: 0.827, NP(LIQUID)=0.827 NP(BCC2)=0.173 \n",
      "Adding points to LIQUID. Adding points to BCC2. T=1510.000, X_NI=0.15, X_TI=0.59, ΔT=10.000, NL: 0.744, NP(LIQUID)=0.900 NP(BCC2)=0.100 \n",
      "Adding points to LIQUID. Adding points to BCC2. T=1500.000, X_NI=0.15, X_TI=0.60, ΔT=10.000, NL: 0.680, NP(LIQUID)=0.914 NP(BCC2)=0.086 \n",
      "Adding points to BCC2. Adding points to LIQUID. T=1490.000, X_NI=0.15, X_TI=0.61, ΔT=10.000, NL: 0.629, NP(LIQUID)=0.925 NP(BCC2)=0.075 \n",
      "Adding points to BCC2. Adding points to LIQUID. T=1480.000, X_NI=0.15, X_TI=0.62, ΔT=10.000, NL: 0.587, NP(LIQUID)=0.933 NP(BCC2)=0.067 \n",
      "Adding points to BCC2. Adding points to LIQUID. T=1470.000, X_NI=0.15, X_TI=0.62, ΔT=10.000, NL: 0.552, NP(LIQUID)=0.940 NP(BCC2)=0.060 \n",
      "Adding points to LIQUID. Adding points to BCC2. T=1460.000, X_NI=0.15, X_TI=0.63, ΔT=10.000, NL: 0.522, NP(LIQUID)=0.946 NP(BCC2)=0.054 \n",
      "Adding points to BCC2. Adding points to LIQUID. T=1450.000, X_NI=0.15, X_TI=0.64, ΔT=10.000, NL: 0.496, NP(LIQUID)=0.950 NP(BCC2)=0.050 \n",
      "Adding points to LIQUID. Adding points to BCC2. T=1440.000, X_NI=0.15, X_TI=0.64, ΔT=10.000, NL: 0.474, NP(LIQUID)=0.954 NP(BCC2)=0.046 \n",
      "Adding points to BCC2. Adding points to LIQUID. T=1430.000, X_NI=0.15, X_TI=0.65, ΔT=10.000, NL: 0.453, NP(LIQUID)=0.958 NP(BCC2)=0.042 \n",
      "Adding points to LIQUID. Adding points to BCC2. T=1420.000, X_NI=0.15, X_TI=0.66, ΔT=10.000, NL: 0.435, NP(LIQUID)=0.960 NP(BCC2)=0.040 \n",
      "Adding points to LIQUID. Adding points to BCC2. T=1410.000, X_NI=0.15, X_TI=0.66, ΔT=10.000, NL: 0.419, NP(LIQUID)=0.963 NP(BCC2)=0.037 \n",
      "Adding points to LIQUID. Adding points to BCC2. T=1400.000, X_NI=0.15, X_TI=0.67, ΔT=10.000, NL: 0.405, NP(LIQUID)=0.965 NP(BCC2)=0.035 \n",
      "Adding points to BCC2. Adding points to LIQUID. T=1390.000, X_NI=0.14, X_TI=0.67, ΔT=10.000, NL: 0.391, NP(LIQUID)=0.967 NP(BCC2)=0.033 \n",
      "Adding points to BCC2. Adding points to LIQUID. T=1380.000, X_NI=0.14, X_TI=0.68, ΔT=10.000, NL: 0.379, NP(LIQUID)=0.969 NP(BCC2)=0.031 \n",
      "Adding points to BCC2. Adding points to LIQUID. T=1370.000, X_NI=0.14, X_TI=0.68, ΔT=10.000, NL: 0.368, NP(LIQUID)=0.970 NP(BCC2)=0.030 \n",
      "Adding points to BCC2. Adding points to LIQUID. T=1360.000, X_NI=0.14, X_TI=0.69, ΔT=10.000, NL: 0.357, NP(LIQUID)=0.972 NP(BCC2)=0.028 \n",
      "Adding points to BCC2. Adding points to LIQUID. T=1350.000, X_NI=0.14, X_TI=0.69, ΔT=10.000, NL: 0.348, NP(LIQUID)=0.973 NP(BCC2)=0.027 \n",
      "Adding points to BCC2. Adding points to LIQUID. T=1340.000, X_NI=0.14, X_TI=0.70, ΔT=10.000, NL: 0.339, NP(LIQUID)=0.974 NP(BCC2)=0.026 \n",
      "Adding points to BCC2. Adding points to LIQUID. T=1330.000, X_NI=0.14, X_TI=0.70, ΔT=10.000, NL: 0.330, NP(LIQUID)=0.975 NP(BCC2)=0.025 \n",
      "Adding points to BCC2. Adding points to LIQUID. T=1320.000, X_NI=0.14, X_TI=0.70, ΔT=10.000, NL: 0.322, NP(LIQUID)=0.976 NP(BCC2)=0.024 \n",
      "Adding points to NITI2. Adding points to LIQUID. New phases seen: {'NITI2'}. T=1310.000, X_NI=0.14, X_TI=0.71, ΔT=10.000, NL: 0.267, NP(LIQUID)=0.828 NP(NITI2)=0.172 \n",
      "Adding points to NITI2. Adding points to LIQUID. T=1300.000, X_NI=0.14, X_TI=0.72, ΔT=10.000, NL: 0.220, NP(LIQUID)=0.825 NP(NITI2)=0.175 \n",
      "Adding points to NITI2. Adding points to LIQUID. T=1290.000, X_NI=0.14, X_TI=0.73, ΔT=10.000, NL: 0.191, NP(LIQUID)=0.867 NP(NITI2)=0.133 \n",
      "Adding points to NITI2. Adding points to LIQUID. T=1280.000, X_NI=0.13, X_TI=0.74, ΔT=10.000, NL: 0.170, NP(LIQUID)=0.892 NP(NITI2)=0.108 \n",
      "Adding points to NITI2. Adding points to LIQUID. T=1270.000, X_NI=0.13, X_TI=0.75, ΔT=10.000, NL: 0.155, NP(LIQUID)=0.910 NP(NITI2)=0.090 \n",
      "Adding points to NITI2. Adding points to BCC2. New phases seen: {'A2'}. No liquid phase found at T=1260.000, X_NI=0.13, X_TI=0.75. (Found {'NITI2', 'A2'}) Stepping back and reducing step size.\n",
      "Adding points to NITI2. Adding points to BCC2. No liquid phase found at T=1270.000, X_NI=0.13, X_TI=0.75. (Found {'NITI2', 'A2'}) Stepping back and reducing step size.\n",
      "Adding points to BCC2. Adding points to NITI2. Adding points to LIQUID. T=1278.333, X_NI=0.13, X_TI=0.75, ΔT=6.944, NL: 0.084, NP(LIQUID)=0.476 NP(A2)=0.313 NP(NITI2)=0.210 \n",
      "Adding points to NITI2. Adding points to LIQUID. Adding points to BCC2. T=1271.389, X_NI=0.15, X_TI=0.74, ΔT=6.944, NL: 0.047, NP(LIQUID)=0.504 NP(A2)=0.213 NP(NITI2)=0.283 \n",
      "Adding points to NITI2. Adding points to LIQUID. Adding points to BCC2. T=1264.444, X_NI=0.17, X_TI=0.74, ΔT=6.944, NL: 0.027, NP(LIQUID)=0.523 NP(A2)=0.200 NP(NITI2)=0.277 \n",
      "Adding points to NITI2. Adding points to LIQUID. Adding points to BCC2. T=1257.500, X_NI=0.18, X_TI=0.74, ΔT=6.944, NL: 0.016, NP(LIQUID)=0.526 NP(A2)=0.194 NP(NITI2)=0.280 \n",
      "Adding points to NITI2. Adding points to LIQUID. Adding points to BCC2. T=1250.556, X_NI=0.19, X_TI=0.74, ΔT=6.944, NL: 0.009, NP(LIQUID)=0.510 NP(A2)=0.195 NP(NITI2)=0.295 \n",
      "Adding points to NITI2. Adding points to LIQUID. Adding points to BCC2. T=1243.611, X_NI=0.21, X_TI=0.74, ΔT=6.944, NL: 0.005, NP(LIQUID)=0.468 NP(A2)=0.206 NP(NITI2)=0.326 \n",
      "Adding points to NITI2. Adding points to LIQUID. Adding points to BCC2. T=1236.667, X_NI=0.22, X_TI=0.75, ΔT=6.944, NL: 0.002, NP(LIQUID)=0.380 NP(A2)=0.234 NP(NITI2)=0.386 \n",
      "Adding points to NITI2. Adding points to LIQUID. Adding points to BCC2. T=1229.722, X_NI=0.23, X_TI=0.75, ΔT=6.944, NL: 7.81E-04, NP(LIQUID)=0.191 NP(A2)=0.297 NP(NITI2)=0.512 \n",
      "Adding points to NITI2. Adding points to BCC2. No liquid phase found at T=1222.778, X_NI=0.24, X_TI=0.75. (Found {'NITI2', 'A2'}) Stepping back and reducing step size.\n",
      "Adding points to LIQUID. Adding points to NITI2. T=1229.722, X_NI=0.24, X_TI=0.75, ΔT=5.787, NL: 7.81E-04, NP(LIQUID)=1.000 NP(NITI2)=0.000 \n",
      "Adding points to NITI2. Adding points to BCC2. No liquid phase found at T=1223.935, X_NI=0.24, X_TI=0.75. (Found {'NITI2', 'A2'}) Stepping back and reducing step size.\n",
      "Adding points to LIQUID. Adding points to BCC2. Adding points to NITI2. T=1229.722, X_NI=0.24, X_TI=0.75, ΔT=4.823, NL: 7.81E-04, NP(LIQUID)=1.000 NP(A2)=0.000 NP(NITI2)=0.000 \n",
      "Adding points to BCC2. Adding points to NITI2. Adding points to LIQUID. T=1224.900, X_NI=0.24, X_TI=0.75, ΔT=4.823, NL: 2.91E-04, NP(LIQUID)=0.238 NP(A2)=0.275 NP(NITI2)=0.487 \n",
      "Adding points to NITI2. Adding points to BCC2. No liquid phase found at T=1220.077, X_NI=0.24, X_TI=0.75. (Found {'NITI2', 'A2'}) Stepping back and reducing step size.\n",
      "Adding points to LIQUID. Adding points to NITI2. T=1224.900, X_NI=0.24, X_TI=0.75, ΔT=4.019, NL: 2.91E-04, NP(LIQUID)=1.000 NP(NITI2)=0.000 \n",
      "Adding points to NITI2. Adding points to LIQUID. Adding points to BCC2. T=1220.881, X_NI=0.24, X_TI=0.75, ΔT=4.019, NL: 6.88E-05, NP(LIQUID)=0.014 NP(A2)=0.350 NP(NITI2)=0.636 Liquid fraction below criterion 0.0001 . Stopping at X_NI=0.24, X_TI=0.75\n",
      "<SolidificationResult: scheil T=(1600.0 -> 1220.9) (A2, BCC2, NITI2)>\n",
      "[('A2', 0.08843850200478118), ('BCC2', 0.6776152569610938), ('NITI2', 0.2339452697572734)]\n"
     ]
    }
   ],
   "source": [
    "composition = {v.W('NI'): 0.165, v.W('TI'): 0.533}\n",
    "composition = W_to_X(composition, dbf, comps)\n",
    "start_temperature = 1600\n",
    "res = simulate_scheil_solidification(dbf, comps, phases, composition, start_temperature=start_temperature, step_temperature=step_temperature, verbose=verbose, eq_kwargs={'calc_opts': {'points': copy.deepcopy(pts_dict)}})\n",
    "print(res)\n",
    "with open(os.path.join(LAYERS_DIR, 'CPTi-L32.json'), 'w') as fp:\n",
    "    json.dump(res.to_dict(), fp)\n",
    "print([(ph, vals[-1]) for ph, vals in res.cum_phase_amounts.items() if not np.isclose(vals[-1], 0)])"
   ]
  },
  {
   "cell_type": "code",
   "execution_count": 10,
   "metadata": {},
   "outputs": [
    {
     "name": "stdout",
     "output_type": "stream",
     "text": [
      "building callables... done\n",
      "(NITI2: 0.291), (BCC2: 0.709)\n"
     ]
    }
   ],
   "source": [
    "eq_sol = simulate_equilibrium_solidification(dbf, comps, phases, composition, start_temperature=start_temperature, step_temperature=step_temperature, verbose=verbose, eq_kwargs={'calc_opts': {'points': copy.deepcopy(pts_dict)}})\n",
    "eq_res = equilibrium(dbf, comps, phases, {v.P: 101325, v.N: 1.0, v.T: eq_sol.temperatures[-1], **composition})\n",
    "print(\", \".join([f\"({ph}: {val:0.3f})\" for ph, val in zip(order_disorder_eq_phases(eq_res, ord_disord_map), eq_res.NP.values.squeeze()) if ph != '']))"
   ]
  },
  {
   "cell_type": "markdown",
   "metadata": {},
   "source": [
    "## Ti-6Al-4V\n",
    "\n",
    "### Layer 26"
   ]
  },
  {
   "cell_type": "code",
   "execution_count": 11,
   "metadata": {},
   "outputs": [
    {
     "name": "stdout",
     "output_type": "stream",
     "text": [
      "building callables... done\n",
      "Adding points to LIQUID. T=1400.000, X_NI=0.11, X_TI=0.69, ΔT=10.000, NL: 1.000, NP(LIQUID)=1.000 \n",
      "Adding points to LIQUID. T=1390.000, X_NI=0.11, X_TI=0.69, ΔT=10.000, NL: 1.000, NP(LIQUID)=1.000 \n",
      "Adding points to LIQUID. T=1380.000, X_NI=0.11, X_TI=0.69, ΔT=10.000, NL: 1.000, NP(LIQUID)=1.000 \n",
      "Adding points to BCC2. Adding points to LIQUID. New phases seen: {'BCC2'}. T=1370.000, X_NI=0.11, X_TI=0.69, ΔT=10.000, NL: 0.944, NP(LIQUID)=0.944 NP(BCC2)=0.056 \n",
      "Adding points to BCC2. Adding points to LIQUID. T=1360.000, X_NI=0.11, X_TI=0.69, ΔT=10.000, NL: 0.918, NP(LIQUID)=0.973 NP(BCC2)=0.027 \n",
      "Adding points to BCC2. Adding points to LIQUID. T=1350.000, X_NI=0.11, X_TI=0.70, ΔT=10.000, NL: 0.894, NP(LIQUID)=0.974 NP(BCC2)=0.026 \n",
      "Adding points to BCC2. Adding points to LIQUID. T=1340.000, X_NI=0.11, X_TI=0.70, ΔT=10.000, NL: 0.871, NP(LIQUID)=0.975 NP(BCC2)=0.025 \n",
      "Adding points to BCC2. Adding points to LIQUID. T=1330.000, X_NI=0.11, X_TI=0.71, ΔT=10.000, NL: 0.850, NP(LIQUID)=0.976 NP(BCC2)=0.024 \n",
      "Adding points to BCC2. Adding points to LIQUID. T=1320.000, X_NI=0.11, X_TI=0.71, ΔT=10.000, NL: 0.830, NP(LIQUID)=0.976 NP(BCC2)=0.024 \n",
      "Adding points to NITI2. Adding points to LIQUID. New phases seen: {'NITI2'}. T=1310.000, X_NI=0.11, X_TI=0.72, ΔT=10.000, NL: 0.700, NP(LIQUID)=0.844 NP(NITI2)=0.156 \n",
      "Adding points to NITI2. Adding points to LIQUID. T=1300.000, X_NI=0.10, X_TI=0.73, ΔT=10.000, NL: 0.602, NP(LIQUID)=0.859 NP(NITI2)=0.141 \n",
      "Adding points to NITI2. Adding points to LIQUID. T=1290.000, X_NI=0.10, X_TI=0.74, ΔT=10.000, NL: 0.535, NP(LIQUID)=0.889 NP(NITI2)=0.111 \n",
      "Adding points to LIQUID. Adding points to NITI2. T=1280.000, X_NI=0.10, X_TI=0.74, ΔT=10.000, NL: 0.485, NP(LIQUID)=0.908 NP(NITI2)=0.092 \n",
      "Adding points to NITI2. Adding points to BCC2. New phases seen: {'A2'}. No liquid phase found at T=1270.000, X_NI=0.10, X_TI=0.75. (Found {'NITI2', 'A2'}) Stepping back and reducing step size.\n",
      "Adding points to NITI2. Adding points to BCC2. No liquid phase found at T=1280.000, X_NI=0.10, X_TI=0.75. (Found {'NITI2', 'A2'}) Stepping back and reducing step size.\n",
      "Adding points to BCC2. Adding points to NITI2. Adding points to LIQUID. T=1288.333, X_NI=0.10, X_TI=0.75, ΔT=6.944, NL: 0.149, NP(LIQUID)=0.117 NP(A2)=0.506 NP(NITI2)=0.377 \n",
      "Adding points to BCC2. Adding points to NITI2. Adding points to LIQUID. T=1281.389, X_NI=0.13, X_TI=0.74, ΔT=6.944, NL: 0.078, NP(LIQUID)=0.447 NP(A2)=0.246 NP(NITI2)=0.307 \n",
      "Adding points to BCC2. Adding points to NITI2. Adding points to LIQUID. T=1274.444, X_NI=0.15, X_TI=0.74, ΔT=6.944, NL: 0.043, NP(LIQUID)=0.491 NP(A2)=0.221 NP(NITI2)=0.288 \n",
      "Adding points to NITI2. Adding points to LIQUID. Adding points to BCC2. T=1267.500, X_NI=0.16, X_TI=0.74, ΔT=6.944, NL: 0.025, NP(LIQUID)=0.517 NP(A2)=0.205 NP(NITI2)=0.278 \n",
      "Adding points to NITI2. Adding points to LIQUID. Adding points to BCC2. T=1260.556, X_NI=0.18, X_TI=0.74, ΔT=6.944, NL: 0.014, NP(LIQUID)=0.527 NP(A2)=0.196 NP(NITI2)=0.277 \n",
      "Adding points to NITI2. Adding points to LIQUID. Adding points to BCC2. T=1253.611, X_NI=0.19, X_TI=0.74, ΔT=6.944, NL: 0.008, NP(LIQUID)=0.520 NP(A2)=0.193 NP(NITI2)=0.287 \n",
      "Adding points to NITI2. Adding points to LIQUID. Adding points to BCC2. T=1246.667, X_NI=0.20, X_TI=0.74, ΔT=6.944, NL: 0.005, NP(LIQUID)=0.491 NP(A2)=0.200 NP(NITI2)=0.310 \n",
      "Adding points to NITI2. Adding points to LIQUID. Adding points to BCC2. T=1239.722, X_NI=0.21, X_TI=0.74, ΔT=6.944, NL: 0.002, NP(LIQUID)=0.427 NP(A2)=0.219 NP(NITI2)=0.355 \n",
      "Adding points to NITI2. Adding points to LIQUID. Adding points to BCC2. T=1232.778, X_NI=0.22, X_TI=0.75, ΔT=6.944, NL: 9.50E-04, NP(LIQUID)=0.294 NP(A2)=0.262 NP(NITI2)=0.444 \n",
      "Adding points to NITI2. Adding points to BCC2. No liquid phase found at T=1225.833, X_NI=0.23, X_TI=0.75. (Found {'NITI2', 'A2'}) Stepping back and reducing step size.\n",
      "Adding points to LIQUID. Adding points to BCC2. Adding points to NITI2. T=1232.778, X_NI=0.23, X_TI=0.75, ΔT=5.787, NL: 9.50E-04, NP(LIQUID)=1.000 NP(A2)=0.000 NP(NITI2)=0.000 \n",
      "Adding points to NITI2. Adding points to LIQUID. Adding points to BCC2. T=1226.991, X_NI=0.23, X_TI=0.75, ΔT=5.787, NL: 3.39E-04, NP(LIQUID)=0.214 NP(A2)=0.286 NP(NITI2)=0.500 \n",
      "Adding points to NITI2. Adding points to BCC2. No liquid phase found at T=1221.204, X_NI=0.24, X_TI=0.75. (Found {'NITI2', 'A2'}) Stepping back and reducing step size.\n",
      "Adding points to LIQUID. Adding points to NITI2. T=1226.991, X_NI=0.24, X_TI=0.75, ΔT=4.823, NL: 3.39E-04, NP(LIQUID)=1.000 NP(NITI2)=0.000 \n",
      "Adding points to NITI2. Adding points to BCC2. No liquid phase found at T=1222.168, X_NI=0.24, X_TI=0.75. (Found {'NITI2', 'A2'}) Stepping back and reducing step size.\n",
      "Adding points to LIQUID. Adding points to BCC2. T=1226.991, X_NI=0.24, X_TI=0.75, ΔT=4.019, NL: 3.39E-04, NP(LIQUID)=1.000 NP(A2)=0.000 \n",
      "Adding points to NITI2. Adding points to LIQUID. Adding points to BCC2. T=1222.972, X_NI=0.24, X_TI=0.75, ΔT=4.019, NL: 1.27E-04, NP(LIQUID)=0.242 NP(A2)=0.271 NP(NITI2)=0.487 \n",
      "Adding points to NITI2. Adding points to BCC2. No liquid phase found at T=1218.953, X_NI=0.24, X_TI=0.75. (Found {'NITI2', 'A2'}) Stepping back and reducing step size.\n",
      "Adding points to LIQUID. Adding points to NITI2. T=1222.972, X_NI=0.24, X_TI=0.75, ΔT=3.349, NL: 1.27E-04, NP(LIQUID)=1.000 NP(NITI2)=0.000 \n",
      "Adding points to NITI2. Adding points to BCC2. No liquid phase found at T=1219.623, X_NI=0.24, X_TI=0.75. (Found {'NITI2', 'A2'}) Stepping back and reducing step size.\n",
      "Adding points to LIQUID. Adding points to BCC2. Adding points to NITI2. T=1222.972, X_NI=0.24, X_TI=0.75, ΔT=2.791, NL: 1.27E-04, NP(LIQUID)=1.000 NP(A2)=0.000 NP(NITI2)=0.000 \n",
      "Adding points to NITI2. Adding points to LIQUID. Adding points to BCC2. T=1220.181, X_NI=0.24, X_TI=0.75, ΔT=2.791, NL: 4.71E-05, NP(LIQUID)=0.240 NP(A2)=0.269 NP(NITI2)=0.491 Liquid fraction below criterion 0.0001 . Stopping at X_NI=0.24, X_TI=0.75\n",
      "<SolidificationResult: scheil T=(1400.0 -> 1220.2) (A2, BCC2, NITI2)>\n",
      "[('A2', 0.31968371138446955), ('BCC2', 0.16994688349075499), ('NITI2', 0.5103581109339814)]\n"
     ]
    }
   ],
   "source": [
    "composition = {v.W('NI'): 0.127, v.W('TI'): 0.647}\n",
    "composition = W_to_X(composition, dbf, comps)\n",
    "start_temperature = 1400\n",
    "res = simulate_scheil_solidification(dbf, comps, phases, composition, start_temperature=start_temperature, step_temperature=step_temperature, verbose=verbose, eq_kwargs={'calc_opts': {'points': copy.deepcopy(pts_dict)}})\n",
    "print(res)\n",
    "with open(os.path.join(LAYERS_DIR, 'Ti64-L26.json'), 'w') as fp:\n",
    "    json.dump(res.to_dict(), fp)\n",
    "print([(ph, vals[-1]) for ph, vals in res.cum_phase_amounts.items() if not np.isclose(vals[-1], 0)])"
   ]
  },
  {
   "cell_type": "code",
   "execution_count": 12,
   "metadata": {},
   "outputs": [
    {
     "name": "stdout",
     "output_type": "stream",
     "text": [
      "building callables... done\n",
      "(A2: 0.128), (NITI2: 0.872)\n"
     ]
    }
   ],
   "source": [
    "eq_sol = simulate_equilibrium_solidification(dbf, comps, phases, composition, start_temperature=start_temperature, step_temperature=step_temperature, verbose=verbose, eq_kwargs={'calc_opts': {'points': copy.deepcopy(pts_dict)}})\n",
    "eq_res = equilibrium(dbf, comps, phases, {v.P: 101325, v.N: 1.0, v.T: eq_sol.temperatures[-1], **composition})\n",
    "print(\", \".join([f\"({ph}: {val:0.3f})\" for ph, val in zip(order_disorder_eq_phases(eq_res, ord_disord_map), eq_res.NP.values.squeeze()) if ph != '']))"
   ]
  },
  {
   "cell_type": "markdown",
   "metadata": {},
   "source": [
    "### Layer 33"
   ]
  },
  {
   "cell_type": "code",
   "execution_count": 13,
   "metadata": {},
   "outputs": [
    {
     "name": "stdout",
     "output_type": "stream",
     "text": [
      "building callables... done\n",
      "Adding points to LIQUID. T=1700.000, X_NI=0.23, X_TI=0.37, ΔT=10.000, NL: 1.000, NP(LIQUID)=1.000 \n",
      "Adding points to LIQUID. T=1690.000, X_NI=0.23, X_TI=0.37, ΔT=10.000, NL: 1.000, NP(LIQUID)=1.000 \n",
      "Adding points to C14. Adding points to LIQUID. New phases seen: {'C14'}. T=1680.000, X_NI=0.23, X_TI=0.37, ΔT=10.000, NL: 0.564, NP(LIQUID)=0.564 NP(C14)=0.436 \n",
      "Adding points to C14. Adding points to LIQUID. T=1670.000, X_NI=0.26, X_TI=0.39, ΔT=10.000, NL: 0.505, NP(LIQUID)=0.895 NP(C14)=0.105 \n",
      "Adding points to C14. Adding points to LIQUID. T=1660.000, X_NI=0.26, X_TI=0.40, ΔT=10.000, NL: 0.460, NP(LIQUID)=0.912 NP(C14)=0.088 \n",
      "Adding points to C14. Adding points to LIQUID. T=1650.000, X_NI=0.27, X_TI=0.40, ΔT=10.000, NL: 0.426, NP(LIQUID)=0.925 NP(C14)=0.075 \n",
      "Adding points to C14. Adding points to LIQUID. T=1640.000, X_NI=0.27, X_TI=0.41, ΔT=10.000, NL: 0.398, NP(LIQUID)=0.935 NP(C14)=0.065 \n",
      "Adding points to C14. Adding points to LIQUID. T=1630.000, X_NI=0.28, X_TI=0.42, ΔT=10.000, NL: 0.375, NP(LIQUID)=0.942 NP(C14)=0.058 \n",
      "Adding points to C14. Adding points to LIQUID. T=1620.000, X_NI=0.29, X_TI=0.42, ΔT=10.000, NL: 0.356, NP(LIQUID)=0.948 NP(C14)=0.052 \n",
      "Adding points to C14. Adding points to LIQUID. T=1610.000, X_NI=0.29, X_TI=0.42, ΔT=10.000, NL: 0.339, NP(LIQUID)=0.953 NP(C14)=0.047 \n",
      "Adding points to C14. Adding points to LIQUID. T=1600.000, X_NI=0.29, X_TI=0.43, ΔT=10.000, NL: 0.325, NP(LIQUID)=0.958 NP(C14)=0.042 \n",
      "Adding points to C14. Adding points to LIQUID. T=1590.000, X_NI=0.30, X_TI=0.43, ΔT=10.000, NL: 0.312, NP(LIQUID)=0.961 NP(C14)=0.039 \n",
      "Adding points to C14. Adding points to LIQUID. T=1580.000, X_NI=0.30, X_TI=0.44, ΔT=10.000, NL: 0.301, NP(LIQUID)=0.964 NP(C14)=0.036 \n",
      "Adding points to C14. Adding points to LIQUID. T=1570.000, X_NI=0.31, X_TI=0.44, ΔT=10.000, NL: 0.291, NP(LIQUID)=0.967 NP(C14)=0.033 \n",
      "Adding points to C14. Adding points to LIQUID. T=1560.000, X_NI=0.31, X_TI=0.44, ΔT=10.000, NL: 0.282, NP(LIQUID)=0.969 NP(C14)=0.031 \n",
      "Adding points to LIQUID. Adding points to C14. T=1550.000, X_NI=0.31, X_TI=0.45, ΔT=10.000, NL: 0.274, NP(LIQUID)=0.971 NP(C14)=0.029 \n",
      "Adding points to C14. Adding points to LIQUID. T=1540.000, X_NI=0.32, X_TI=0.45, ΔT=10.000, NL: 0.267, NP(LIQUID)=0.973 NP(C14)=0.027 \n",
      "Adding points to C14. Adding points to LIQUID. T=1530.000, X_NI=0.32, X_TI=0.45, ΔT=10.000, NL: 0.260, NP(LIQUID)=0.975 NP(C14)=0.025 \n",
      "Adding points to C14. Adding points to BCC2. New phases seen: {'BCC2'}. No liquid phase found at T=1520.000, X_NI=0.32, X_TI=0.46. (Found {'BCC2', 'C14'}) Stepping back and reducing step size.\n",
      "Adding points to C14. Adding points to BCC2. Adding points to LIQUID. T=1530.000, X_NI=0.32, X_TI=0.46, ΔT=8.333, NL: 0.086, NP(LIQUID)=0.319 NP(BCC2)=0.661 NP(C14)=0.020 \n",
      "Adding points to C14. Adding points to LIQUID. Adding points to BCC2. T=1521.667, X_NI=0.36, X_TI=0.44, ΔT=8.333, NL: 0.059, NP(LIQUID)=0.676 NP(BCC2)=0.293 NP(C14)=0.031 \n",
      "Adding points to C14. Adding points to LIQUID. Adding points to BCC2. T=1513.333, X_NI=0.38, X_TI=0.43, ΔT=8.333, NL: 0.044, NP(LIQUID)=0.735 NP(BCC2)=0.235 NP(C14)=0.030 \n",
      "Adding points to C14. Adding points to LIQUID. Adding points to BCC2. T=1505.000, X_NI=0.40, X_TI=0.42, ΔT=8.333, NL: 0.035, NP(LIQUID)=0.779 NP(BCC2)=0.193 NP(C14)=0.028 \n",
      "Adding points to C14. Adding points to LIQUID. Adding points to BCC2. T=1496.667, X_NI=0.41, X_TI=0.42, ΔT=8.333, NL: 0.028, NP(LIQUID)=0.812 NP(BCC2)=0.162 NP(C14)=0.026 \n",
      "Adding points to C14. Adding points to LIQUID. Adding points to BCC2. T=1488.333, X_NI=0.43, X_TI=0.41, ΔT=8.333, NL: 0.024, NP(LIQUID)=0.838 NP(BCC2)=0.139 NP(C14)=0.024 \n",
      "Adding points to LIQUID. Adding points to BCC2. Adding points to C14. T=1480.000, X_NI=0.44, X_TI=0.41, ΔT=8.333, NL: 0.020, NP(LIQUID)=0.857 NP(BCC2)=0.121 NP(C14)=0.022 \n",
      "Adding points to C14. Adding points to LIQUID. Adding points to BCC2. T=1471.667, X_NI=0.45, X_TI=0.40, ΔT=8.333, NL: 0.018, NP(LIQUID)=0.873 NP(BCC2)=0.107 NP(C14)=0.020 \n",
      "Adding points to BCC2. Adding points to C14. Adding points to LIQUID. T=1463.333, X_NI=0.46, X_TI=0.40, ΔT=8.333, NL: 0.016, NP(LIQUID)=0.886 NP(BCC2)=0.096 NP(C14)=0.018 \n",
      "Adding points to C14. Adding points to LIQUID. Adding points to BCC2. T=1455.000, X_NI=0.47, X_TI=0.39, ΔT=8.333, NL: 0.014, NP(LIQUID)=0.896 NP(BCC2)=0.087 NP(C14)=0.017 \n",
      "Adding points to C14. Adding points to LIQUID. Adding points to BCC2. T=1446.667, X_NI=0.48, X_TI=0.39, ΔT=8.333, NL: 0.013, NP(LIQUID)=0.905 NP(BCC2)=0.080 NP(C14)=0.015 \n",
      "Adding points to C14. Adding points to LIQUID. Adding points to BCC2. T=1438.333, X_NI=0.49, X_TI=0.38, ΔT=8.333, NL: 0.012, NP(LIQUID)=0.912 NP(BCC2)=0.073 NP(C14)=0.014 \n",
      "Adding points to C14. Adding points to LIQUID. Adding points to BCC2. T=1430.000, X_NI=0.49, X_TI=0.38, ΔT=8.333, NL: 0.011, NP(LIQUID)=0.919 NP(BCC2)=0.068 NP(C14)=0.013 \n",
      "Adding points to C14. Adding points to LIQUID. Adding points to BCC2. T=1421.667, X_NI=0.50, X_TI=0.38, ΔT=8.333, NL: 0.010, NP(LIQUID)=0.924 NP(BCC2)=0.064 NP(C14)=0.012 \n",
      "Adding points to C14. Adding points to LIQUID. Adding points to BCC2. T=1413.333, X_NI=0.51, X_TI=0.37, ΔT=8.333, NL: 0.009, NP(LIQUID)=0.929 NP(BCC2)=0.060 NP(C14)=0.011 \n",
      "Adding points to C14. Adding points to LIQUID. Adding points to BCC2. T=1405.000, X_NI=0.51, X_TI=0.37, ΔT=8.333, NL: 0.009, NP(LIQUID)=0.933 NP(BCC2)=0.057 NP(C14)=0.011 \n",
      "Adding points to C14. Adding points to LIQUID. Adding points to BCC2. T=1396.667, X_NI=0.52, X_TI=0.36, ΔT=8.333, NL: 0.008, NP(LIQUID)=0.936 NP(BCC2)=0.054 NP(C14)=0.010 \n",
      "Adding points to C14. Adding points to LIQUID. Adding points to BCC2. T=1388.333, X_NI=0.53, X_TI=0.36, ΔT=8.333, NL: 0.008, NP(LIQUID)=0.940 NP(BCC2)=0.051 NP(C14)=0.009 \n",
      "Adding points to C14. Adding points to LIQUID. Adding points to BCC2. T=1380.000, X_NI=0.53, X_TI=0.36, ΔT=8.333, NL: 0.007, NP(LIQUID)=0.943 NP(BCC2)=0.049 NP(C14)=0.009 \n",
      "Adding points to NI3TI. Adding points to BCC2. Adding points to C14. New phases seen: {'NI3TI'}. No liquid phase found at T=1371.667, X_NI=0.54, X_TI=0.36. (Found {'BCC2', 'C14', 'NI3TI'}) Stepping back and reducing step size.\n",
      "Adding points to LIQUID. T=1380.000, X_NI=0.54, X_TI=0.36, ΔT=6.944, NL: 0.007, NP(LIQUID)=1.000 \n",
      "Adding points to C14. Adding points to NI3TI. Adding points to BCC2. No liquid phase found at T=1373.056, X_NI=0.54, X_TI=0.36. (Found {'BCC2', 'C14', 'NI3TI'}) Stepping back and reducing step size.\n",
      "Adding points to LIQUID. T=1380.000, X_NI=0.54, X_TI=0.36, ΔT=5.787, NL: 0.007, NP(LIQUID)=1.000 \n",
      "Adding points to C14. Adding points to NI3TI. Adding points to BCC2. No liquid phase found at T=1374.213, X_NI=0.54, X_TI=0.36. (Found {'BCC2', 'C14', 'NI3TI'}) Stepping back and reducing step size.\n",
      "Adding points to LIQUID. T=1380.000, X_NI=0.54, X_TI=0.36, ΔT=4.823, NL: 0.007, NP(LIQUID)=1.000 \n",
      "Adding points to C14. Adding points to NI3TI. Adding points to BCC2. No liquid phase found at T=1375.177, X_NI=0.54, X_TI=0.36. (Found {'BCC2', 'C14', 'NI3TI'}) Stepping back and reducing step size.\n",
      "Adding points to LIQUID. T=1380.000, X_NI=0.54, X_TI=0.36, ΔT=4.019, NL: 0.007, NP(LIQUID)=1.000 \n",
      "Adding points to C14. Adding points to NI3TI. Adding points to BCC2. No liquid phase found at T=1375.981, X_NI=0.54, X_TI=0.36. (Found {'BCC2', 'C14', 'NI3TI'}) Stepping back and reducing step size.\n",
      "Adding points to LIQUID. T=1380.000, X_NI=0.54, X_TI=0.36, ΔT=3.349, NL: 0.007, NP(LIQUID)=1.000 \n",
      "Adding points to C14. Adding points to LIQUID. Adding points to BCC2. T=1376.651, X_NI=0.54, X_TI=0.36, ΔT=3.349, NL: 0.007, NP(LIQUID)=0.978 NP(BCC2)=0.019 NP(C14)=0.003 \n",
      "Adding points to C14. Adding points to NI3TI. Adding points to BCC2. No liquid phase found at T=1373.302, X_NI=0.54, X_TI=0.35. (Found {'BCC2', 'C14', 'NI3TI'}) Stepping back and reducing step size.\n",
      "Adding points to LIQUID. Adding points to BCC2. T=1376.651, X_NI=0.54, X_TI=0.35, ΔT=2.791, NL: 0.007, NP(LIQUID)=1.000 NP(BCC2)=0.000 \n",
      "Adding points to C14. Adding points to NI3TI. Adding points to BCC2. No liquid phase found at T=1373.860, X_NI=0.54, X_TI=0.35. (Found {'BCC2', 'C14', 'NI3TI'}) Stepping back and reducing step size.\n",
      "Adding points to LIQUID. T=1376.651, X_NI=0.54, X_TI=0.35, ΔT=2.326, NL: 0.007, NP(LIQUID)=1.000 \n",
      "Adding points to C14. Adding points to NI3TI. Adding points to BCC2. No liquid phase found at T=1374.325, X_NI=0.54, X_TI=0.35. (Found {'BCC2', 'C14', 'NI3TI'}) Stepping back and reducing step size.\n",
      "Adding points to LIQUID. T=1376.651, X_NI=0.54, X_TI=0.35, ΔT=1.938, NL: 0.007, NP(LIQUID)=1.000 \n",
      "Adding points to C14. Adding points to NI3TI. Adding points to BCC2. No liquid phase found at T=1374.713, X_NI=0.54, X_TI=0.35. (Found {'BCC2', 'C14', 'NI3TI'}) Maximum step size reduction exceeded. Stopping.\n",
      "<SolidificationResult: scheil T=(1700.0 -> 1374.7) (BCC2, C14, NI3TI)>\n",
      "[('BCC2', 0.2475511000312492), ('C14', 0.7496982353006559), ('NI3TI', 0.0027506646680948857)]\n"
     ]
    }
   ],
   "source": [
    "composition = {v.W('NI'): 0.249, v.W('TI'): 0.328}\n",
    "composition = W_to_X(composition, dbf, comps)\n",
    "start_temperature = 1700\n",
    "res = simulate_scheil_solidification(dbf, comps, phases, composition, start_temperature=start_temperature, step_temperature=step_temperature, verbose=verbose, eq_kwargs={'calc_opts': {'points': copy.deepcopy(pts_dict)}})\n",
    "print(res)\n",
    "with open(os.path.join(LAYERS_DIR, 'Ti64-L33.json'), 'w') as fp:\n",
    "    json.dump(res.to_dict(), fp)\n",
    "print([(ph, vals[-1]) for ph, vals in res.cum_phase_amounts.items() if not np.isclose(vals[-1], 0)])"
   ]
  },
  {
   "cell_type": "code",
   "execution_count": 14,
   "metadata": {},
   "outputs": [
    {
     "name": "stdout",
     "output_type": "stream",
     "text": [
      "building callables... done\n",
      "(C14: 0.783), (BCC2: 0.217)\n"
     ]
    }
   ],
   "source": [
    "eq_sol = simulate_equilibrium_solidification(dbf, comps, phases, composition, start_temperature=start_temperature, step_temperature=step_temperature, verbose=verbose, eq_kwargs={'calc_opts': {'points': copy.deepcopy(pts_dict)}})\n",
    "eq_res = equilibrium(dbf, comps, phases, {v.P: 101325, v.N: 1.0, v.T: eq_sol.temperatures[-1], **composition})\n",
    "print(\", \".join([f\"({ph}: {val:0.3f})\" for ph, val in zip(order_disorder_eq_phases(eq_res, ord_disord_map), eq_res.NP.values.squeeze()) if ph != '']))"
   ]
  },
  {
   "cell_type": "markdown",
   "metadata": {},
   "source": [
    "### Layer 35"
   ]
  },
  {
   "cell_type": "code",
   "execution_count": 15,
   "metadata": {},
   "outputs": [
    {
     "name": "stdout",
     "output_type": "stream",
     "text": [
      "building callables... done\n",
      "Adding points to LIQUID. T=1700.000, X_NI=0.26, X_TI=0.27, ΔT=10.000, NL: 1.000, NP(LIQUID)=1.000 \n",
      "Adding points to LIQUID. T=1690.000, X_NI=0.26, X_TI=0.27, ΔT=10.000, NL: 1.000, NP(LIQUID)=1.000 \n",
      "Adding points to LIQUID. T=1680.000, X_NI=0.26, X_TI=0.27, ΔT=10.000, NL: 1.000, NP(LIQUID)=1.000 \n",
      "Adding points to LIQUID. T=1670.000, X_NI=0.26, X_TI=0.27, ΔT=10.000, NL: 1.000, NP(LIQUID)=1.000 \n",
      "Adding points to LIQUID. Adding points to C14. New phases seen: {'C14'}. T=1660.000, X_NI=0.26, X_TI=0.27, ΔT=10.000, NL: 0.801, NP(LIQUID)=0.801 NP(C14)=0.199 \n",
      "Adding points to LIQUID. Adding points to C14. T=1650.000, X_NI=0.28, X_TI=0.26, ΔT=10.000, NL: 0.735, NP(LIQUID)=0.918 NP(C14)=0.082 \n",
      "Adding points to LIQUID. Adding points to C14. T=1640.000, X_NI=0.29, X_TI=0.25, ΔT=10.000, NL: 0.683, NP(LIQUID)=0.928 NP(C14)=0.072 \n",
      "Adding points to LIQUID. Adding points to C14. T=1630.000, X_NI=0.29, X_TI=0.24, ΔT=10.000, NL: 0.639, NP(LIQUID)=0.936 NP(C14)=0.064 \n",
      "Adding points to LIQUID. Adding points to C14. T=1620.000, X_NI=0.30, X_TI=0.24, ΔT=10.000, NL: 0.603, NP(LIQUID)=0.943 NP(C14)=0.057 \n",
      "Adding points to LIQUID. Adding points to C14. T=1610.000, X_NI=0.30, X_TI=0.24, ΔT=10.000, NL: 0.571, NP(LIQUID)=0.948 NP(C14)=0.052 \n",
      "Adding points to LIQUID. Adding points to C14. T=1600.000, X_NI=0.31, X_TI=0.23, ΔT=10.000, NL: 0.544, NP(LIQUID)=0.952 NP(C14)=0.048 \n",
      "Adding points to C14. Adding points to LIQUID. T=1590.000, X_NI=0.31, X_TI=0.23, ΔT=10.000, NL: 0.520, NP(LIQUID)=0.956 NP(C14)=0.044 \n",
      "Adding points to C14. Adding points to LIQUID. T=1580.000, X_NI=0.32, X_TI=0.22, ΔT=10.000, NL: 0.499, NP(LIQUID)=0.959 NP(C14)=0.041 \n",
      "Adding points to C14. Adding points to LIQUID. T=1570.000, X_NI=0.32, X_TI=0.22, ΔT=10.000, NL: 0.480, NP(LIQUID)=0.962 NP(C14)=0.038 \n",
      "Adding points to C14. Adding points to LIQUID. T=1560.000, X_NI=0.33, X_TI=0.22, ΔT=10.000, NL: 0.463, NP(LIQUID)=0.965 NP(C14)=0.035 \n",
      "Adding points to C14. Adding points to LIQUID. T=1550.000, X_NI=0.33, X_TI=0.21, ΔT=10.000, NL: 0.448, NP(LIQUID)=0.967 NP(C14)=0.033 \n",
      "Adding points to C14. Adding points to LIQUID. T=1540.000, X_NI=0.34, X_TI=0.21, ΔT=10.000, NL: 0.434, NP(LIQUID)=0.969 NP(C14)=0.031 \n",
      "Adding points to C14. Adding points to LIQUID. T=1530.000, X_NI=0.34, X_TI=0.21, ΔT=10.000, NL: 0.421, NP(LIQUID)=0.970 NP(C14)=0.030 \n",
      "Adding points to C14. Adding points to LIQUID. T=1520.000, X_NI=0.34, X_TI=0.21, ΔT=10.000, NL: 0.409, NP(LIQUID)=0.972 NP(C14)=0.028 \n",
      "Adding points to LIQUID. Adding points to C14. T=1510.000, X_NI=0.35, X_TI=0.20, ΔT=10.000, NL: 0.398, NP(LIQUID)=0.973 NP(C14)=0.027 \n",
      "Adding points to LIQUID. Adding points to C14. T=1500.000, X_NI=0.35, X_TI=0.20, ΔT=10.000, NL: 0.388, NP(LIQUID)=0.974 NP(C14)=0.026 \n",
      "Adding points to LIQUID. Adding points to C14. T=1490.000, X_NI=0.35, X_TI=0.20, ΔT=10.000, NL: 0.379, NP(LIQUID)=0.976 NP(C14)=0.024 \n",
      "Adding points to LIQUID. Adding points to C14. T=1480.000, X_NI=0.36, X_TI=0.20, ΔT=10.000, NL: 0.370, NP(LIQUID)=0.977 NP(C14)=0.023 \n",
      "Adding points to LIQUID. Adding points to C14. T=1470.000, X_NI=0.36, X_TI=0.19, ΔT=10.000, NL: 0.361, NP(LIQUID)=0.978 NP(C14)=0.022 \n",
      "Adding points to C14. Adding points to LIQUID. T=1460.000, X_NI=0.36, X_TI=0.19, ΔT=10.000, NL: 0.354, NP(LIQUID)=0.978 NP(C14)=0.022 \n",
      "Adding points to C14. Adding points to LIQUID. T=1450.000, X_NI=0.37, X_TI=0.19, ΔT=10.000, NL: 0.346, NP(LIQUID)=0.979 NP(C14)=0.021 \n",
      "Adding points to C14. Adding points to LIQUID. T=1440.000, X_NI=0.37, X_TI=0.19, ΔT=10.000, NL: 0.339, NP(LIQUID)=0.980 NP(C14)=0.020 \n",
      "Adding points to C14. Adding points to LIQUID. T=1430.000, X_NI=0.37, X_TI=0.18, ΔT=10.000, NL: 0.333, NP(LIQUID)=0.981 NP(C14)=0.019 \n",
      "Adding points to C14. Adding points to FCC4. Adding points to LIQUID. New phases seen: {'A1'}. T=1420.000, X_NI=0.38, X_TI=0.18, ΔT=10.000, NL: 0.308, NP(LIQUID)=0.926 NP(A1)=0.045 NP(C14)=0.030 \n",
      "Adding points to C14. Adding points to FCC4. Adding points to LIQUID. T=1410.000, X_NI=0.38, X_TI=0.18, ΔT=10.000, NL: 0.243, NP(LIQUID)=0.779 NP(A1)=0.164 NP(C14)=0.057 \n",
      "Adding points to C14. Adding points to FCC4. Adding points to LIQUID. T=1400.000, X_NI=0.40, X_TI=0.19, ΔT=10.000, NL: 0.193, NP(LIQUID)=0.787 NP(A1)=0.159 NP(C14)=0.054 \n",
      "Adding points to C14. Adding points to FCC4. Adding points to NI3TI. New phases seen: {'NI3TI'}. No liquid phase found at T=1390.000, X_NI=0.42, X_TI=0.19. (Found {'A1', 'C14', 'NI3TI'}) Stepping back and reducing step size.\n",
      "Adding points to C14. Adding points to FCC4. Adding points to LIQUID. T=1400.000, X_NI=0.42, X_TI=0.19, ΔT=8.333, NL: 0.193, NP(LIQUID)=1.000 NP(A1)=0.000 NP(C14)=0.000 \n",
      "Adding points to C14. Adding points to FCC4. Adding points to NI3TI. No liquid phase found at T=1391.667, X_NI=0.42, X_TI=0.19. (Found {'A1', 'C14', 'NI3TI'}) Stepping back and reducing step size.\n",
      "Adding points to LIQUID. T=1400.000, X_NI=0.42, X_TI=0.19, ΔT=6.944, NL: 0.193, NP(LIQUID)=1.000 \n",
      "Adding points to C14. Adding points to FCC4. Adding points to NI3TI. No liquid phase found at T=1393.056, X_NI=0.42, X_TI=0.19. (Found {'A1', 'C14', 'NI3TI'}) Stepping back and reducing step size.\n",
      "Adding points to C14. Adding points to LIQUID. T=1400.000, X_NI=0.42, X_TI=0.19, ΔT=5.787, NL: 0.193, NP(LIQUID)=1.000 NP(C14)=0.000 \n",
      "Adding points to C14. Adding points to FCC4. Adding points to NI3TI. No liquid phase found at T=1394.213, X_NI=0.42, X_TI=0.19. (Found {'A1', 'C14', 'NI3TI'}) Stepping back and reducing step size.\n",
      "Adding points to LIQUID. Adding points to FCC4. T=1400.000, X_NI=0.42, X_TI=0.19, ΔT=4.823, NL: 0.193, NP(LIQUID)=1.000 NP(A1)=0.000 \n",
      "Adding points to C14. Adding points to FCC4. Adding points to NI3TI. No liquid phase found at T=1395.177, X_NI=0.42, X_TI=0.19. (Found {'A1', 'C14', 'NI3TI'}) Stepping back and reducing step size.\n",
      "Adding points to LIQUID. T=1400.000, X_NI=0.42, X_TI=0.19, ΔT=4.019, NL: 0.193, NP(LIQUID)=1.000 \n",
      "Adding points to C14. Adding points to FCC4. Adding points to LIQUID. T=1395.981, X_NI=0.42, X_TI=0.19, ΔT=4.019, NL: 0.178, NP(LIQUID)=0.917 NP(A1)=0.062 NP(C14)=0.021 \n",
      "Adding points to C14. Adding points to FCC4. Adding points to NI3TI. No liquid phase found at T=1391.962, X_NI=0.42, X_TI=0.19. (Found {'A1', 'C14', 'NI3TI'}) Stepping back and reducing step size.\n",
      "Adding points to C14. Adding points to FCC4. Adding points to LIQUID. T=1395.981, X_NI=0.42, X_TI=0.19, ΔT=3.349, NL: 0.178, NP(LIQUID)=1.000 NP(A1)=0.000 NP(C14)=0.000 \n",
      "Adding points to C14. Adding points to FCC4. Adding points to NI3TI. No liquid phase found at T=1392.632, X_NI=0.42, X_TI=0.19. (Found {'A1', 'C14', 'NI3TI'}) Stepping back and reducing step size.\n",
      "Adding points to C14. Adding points to FCC4. Adding points to LIQUID. T=1395.981, X_NI=0.42, X_TI=0.19, ΔT=2.791, NL: 0.178, NP(LIQUID)=1.000 NP(A1)=0.000 NP(C14)=0.000 \n",
      "Adding points to C14. Adding points to FCC4. Adding points to NI3TI. No liquid phase found at T=1393.190, X_NI=0.42, X_TI=0.19. (Found {'A1', 'C14', 'NI3TI'}) Stepping back and reducing step size.\n",
      "No liquid phase found at T=1395.981, X_NI=0.42, X_TI=0.19. (Found set()) Stepping back and reducing step size.\n",
      "Adding points to LIQUID. T=1398.307, X_NI=0.42, X_TI=0.19, ΔT=1.938, NL: 0.178, NP(LIQUID)=1.000 \n",
      "Adding points to LIQUID. T=1396.369, X_NI=0.42, X_TI=0.19, ΔT=1.938, NL: 0.178, NP(LIQUID)=1.000 \n",
      "Adding points to C14. Adding points to FCC4. Adding points to NI3TI. No liquid phase found at T=1394.431, X_NI=0.42, X_TI=0.19. (Found {'A1', 'C14', 'NI3TI'}) Maximum step size reduction exceeded. Stopping.\n",
      "<SolidificationResult: scheil T=(1700.0 -> 1394.4) (A1, C14, NI3TI)>\n",
      "[('A1', 0.21048546544813068), ('C14', 0.7310920437606898), ('NI3TI', 0.05842249079117956)]\n"
     ]
    }
   ],
   "source": [
    "composition = {v.W('NI'): 0.285, v.W('TI'): 0.235}\n",
    "composition = W_to_X(composition, dbf, comps)\n",
    "start_temperature = 1700\n",
    "res = simulate_scheil_solidification(dbf, comps, phases, composition, start_temperature=start_temperature, step_temperature=step_temperature, verbose=verbose, eq_kwargs={'calc_opts': {'points': copy.deepcopy(pts_dict)}})\n",
    "print(res)\n",
    "with open(os.path.join(LAYERS_DIR, 'Ti64-L35.json'), 'w') as fp:\n",
    "    json.dump(res.to_dict(), fp)\n",
    "print([(ph, vals[-1]) for ph, vals in res.cum_phase_amounts.items() if not np.isclose(vals[-1], 0)])"
   ]
  },
  {
   "cell_type": "code",
   "execution_count": 16,
   "metadata": {},
   "outputs": [
    {
     "name": "stdout",
     "output_type": "stream",
     "text": [
      "building callables... done\n",
      "(NI3TI: 0.034), (C14: 0.835), (A1: 0.131)\n"
     ]
    }
   ],
   "source": [
    "eq_sol = simulate_equilibrium_solidification(dbf, comps, phases, composition, start_temperature=start_temperature, step_temperature=step_temperature, verbose=verbose, eq_kwargs={'calc_opts': {'points': copy.deepcopy(pts_dict)}})\n",
    "eq_res = equilibrium(dbf, comps, phases, {v.P: 101325, v.N: 1.0, v.T: eq_sol.temperatures[-1], **composition})\n",
    "print(\", \".join([f\"({ph}: {val:0.3f})\" for ph, val in zip(order_disorder_eq_phases(eq_res, ord_disord_map), eq_res.NP.values.squeeze()) if ph != '']))"
   ]
  },
  {
   "cell_type": "markdown",
   "metadata": {},
   "source": [
    "#### Visualizations\n",
    "\n",
    "##### Phase fractions through solidification"
   ]
  },
  {
   "cell_type": "code",
   "execution_count": 17,
   "metadata": {},
   "outputs": [
    {
     "data": {
      "text/plain": [
       "Text(0, 0.5, 'Phase Fraction')"
      ]
     },
     "execution_count": 17,
     "metadata": {},
     "output_type": "execute_result"
    },
    {
     "data": {
      "image/png": "[encoded data removed]",
      "text/plain": [
       "<Figure size 432x288 with 1 Axes>"
      ]
     },
     "metadata": {
      "needs_background": "light"
     },
     "output_type": "display_data"
    }
   ],
   "source": [
    "for phase_name, amounts in res.cum_phase_amounts.items():\n",
    "    if amounts[-1] > 0:  # If the total phase fraction is non-zero\n",
    "        plt.plot(res.temperatures, amounts, label=phase_name)\n",
    "plt.legend()\n",
    "plt.xlabel('Temperature (K)')\n",
    "plt.ylabel('Phase Fraction')"
   ]
  },
  {
   "cell_type": "markdown",
   "metadata": {},
   "source": [
    "##### Solidification path"
   ]
  },
  {
   "cell_type": "code",
   "execution_count": 57,
   "metadata": {},
   "outputs": [
    {
     "data": {
      "text/plain": [
       "<matplotlib.legend.Legend at 0x12b7ccf98>"
      ]
     },
     "execution_count": 57,
     "metadata": {},
     "output_type": "execute_result"
    },
    {
     "data": {
      "image/png": "[encoded data removed]",
      "text/plain": [
       "<Figure size 576x432 with 1 Axes>"
      ]
     },
     "metadata": {
      "needs_background": "light"
     },
     "output_type": "display_data"
    }
   ],
   "source": [
    "fig = plt.figure(figsize=(8,6))\n",
    "ax = fig.gca(projection='triangular')\n",
    "ax.plot(res.x_liquid['NI'], res.x_liquid['TI'])\n",
    "ax.scatter([res.x_liquid['NI'][0]], [res.x_liquid['TI'][0]], label='Start', zorder=10)\n",
    "ax.scatter([res.x_liquid['NI'][-2]], [res.x_liquid['TI'][-2]], label='End', zorder=10)\n",
    "ax.set_xlabel('X(NI)', size=15)\n",
    "ax.set_ylabel('X(TI)', rotation=60, labelpad=-80, size=15)\n",
    "ax.set_title('Solidification Path', size=20)\n",
    "ax.legend()"
   ]
  },
  {
   "cell_type": "markdown",
   "metadata": {},
   "source": [
    "### Layer 45"
   ]
  },
  {
   "cell_type": "code",
   "execution_count": 58,
   "metadata": {},
   "outputs": [
    {
     "name": "stdout",
     "output_type": "stream",
     "text": [
      "building callables... done\n",
      "Adding points to LIQUID. T=1540.000, X_NI=0.31, X_TI=0.14, ΔT=10.000, NL: 1.000, NP(LIQUID)=1.000 \n",
      "Adding points to LIQUID. T=1530.000, X_NI=0.31, X_TI=0.14, ΔT=10.000, NL: 1.000, NP(LIQUID)=1.000 \n",
      "Adding points to LIQUID. T=1520.000, X_NI=0.31, X_TI=0.14, ΔT=10.000, NL: 1.000, NP(LIQUID)=1.000 \n",
      "Adding points to LIQUID. T=1510.000, X_NI=0.31, X_TI=0.14, ΔT=10.000, NL: 1.000, NP(LIQUID)=1.000 \n",
      "Adding points to LIQUID. Adding points to FCC4. New phases seen: {'A1'}. T=1500.000, X_NI=0.31, X_TI=0.14, ΔT=10.000, NL: 0.924, NP(LIQUID)=0.924 NP(A1)=0.076 \n",
      "Adding points to LIQUID. Adding points to FCC4. T=1490.000, X_NI=0.32, X_TI=0.14, ΔT=10.000, NL: 0.839, NP(LIQUID)=0.907 NP(A1)=0.093 \n",
      "Adding points to LIQUID. Adding points to FCC4. T=1480.000, X_NI=0.32, X_TI=0.15, ΔT=10.000, NL: 0.763, NP(LIQUID)=0.910 NP(A1)=0.090 \n",
      "Adding points to FCC4. Adding points to LIQUID. T=1470.000, X_NI=0.33, X_TI=0.15, ΔT=10.000, NL: 0.696, NP(LIQUID)=0.912 NP(A1)=0.088 \n",
      "Adding points to FCC4. Adding points to LIQUID. T=1460.000, X_NI=0.33, X_TI=0.16, ΔT=10.000, NL: 0.637, NP(LIQUID)=0.915 NP(A1)=0.085 \n",
      "Adding points to FCC4. Adding points to LIQUID. T=1450.000, X_NI=0.34, X_TI=0.16, ΔT=10.000, NL: 0.584, NP(LIQUID)=0.917 NP(A1)=0.083 \n",
      "Adding points to FCC4. Adding points to LIQUID. Adding points to C14. New phases seen: {'C14'}. T=1440.000, X_NI=0.34, X_TI=0.17, ΔT=10.000, NL: 0.516, NP(LIQUID)=0.883 NP(A1)=0.103 NP(C14)=0.014 \n",
      "Adding points to FCC4. Adding points to LIQUID. Adding points to C14. T=1430.000, X_NI=0.35, X_TI=0.17, ΔT=10.000, NL: 0.396, NP(LIQUID)=0.754 NP(A1)=0.179 NP(C14)=0.066 \n",
      "Adding points to C14. Adding points to FCC4. Adding points to LIQUID. T=1420.000, X_NI=0.37, X_TI=0.18, ΔT=10.000, NL: 0.308, NP(LIQUID)=0.768 NP(A1)=0.171 NP(C14)=0.061 \n",
      "Adding points to C14. Adding points to FCC4. Adding points to LIQUID. T=1410.000, X_NI=0.38, X_TI=0.18, ΔT=10.000, NL: 0.243, NP(LIQUID)=0.779 NP(A1)=0.164 NP(C14)=0.057 \n",
      "Adding points to C14. Adding points to FCC4. Adding points to LIQUID. T=1400.000, X_NI=0.40, X_TI=0.19, ΔT=10.000, NL: 0.193, NP(LIQUID)=0.787 NP(A1)=0.159 NP(C14)=0.054 \n",
      "Adding points to C14. Adding points to FCC4. Adding points to NI3TI. New phases seen: {'NI3TI'}. No liquid phase found at T=1390.000, X_NI=0.42, X_TI=0.19. (Found {'A1', 'C14', 'NI3TI'}) Stepping back and reducing step size.\n",
      "Adding points to C14. Adding points to LIQUID. Adding points to FCC4. T=1400.000, X_NI=0.42, X_TI=0.19, ΔT=8.333, NL: 0.193, NP(LIQUID)=1.000 NP(A1)=0.000 NP(C14)=0.000 \n",
      "Adding points to C14. Adding points to FCC4. Adding points to NI3TI. No liquid phase found at T=1391.667, X_NI=0.42, X_TI=0.19. (Found {'A1', 'C14', 'NI3TI'}) Stepping back and reducing step size.\n",
      "Adding points to LIQUID. Adding points to FCC4. Adding points to C14. T=1400.000, X_NI=0.42, X_TI=0.19, ΔT=6.944, NL: 0.193, NP(LIQUID)=1.000 NP(A1)=0.000 NP(C14)=0.000 \n",
      "Adding points to C14. Adding points to FCC4. Adding points to NI3TI. No liquid phase found at T=1393.056, X_NI=0.42, X_TI=0.19. (Found {'A1', 'C14', 'NI3TI'}) Stepping back and reducing step size.\n",
      "Adding points to LIQUID. Adding points to FCC4. T=1400.000, X_NI=0.42, X_TI=0.19, ΔT=5.787, NL: 0.193, NP(LIQUID)=1.000 NP(A1)=0.000 \n",
      "Adding points to C14. Adding points to FCC4. Adding points to NI3TI. No liquid phase found at T=1394.213, X_NI=0.42, X_TI=0.19. (Found {'A1', 'C14', 'NI3TI'}) Stepping back and reducing step size.\n",
      "Adding points to LIQUID. Adding points to FCC4. T=1400.000, X_NI=0.42, X_TI=0.19, ΔT=4.823, NL: 0.193, NP(LIQUID)=1.000 NP(A1)=0.000 \n",
      "Adding points to C14. Adding points to FCC4. Adding points to NI3TI. No liquid phase found at T=1395.177, X_NI=0.42, X_TI=0.19. (Found {'A1', 'C14', 'NI3TI'}) Stepping back and reducing step size.\n",
      "Adding points to C14. Adding points to LIQUID. T=1400.000, X_NI=0.42, X_TI=0.19, ΔT=4.019, NL: 0.193, NP(LIQUID)=1.000 NP(C14)=0.000 \n",
      "Adding points to C14. Adding points to FCC4. Adding points to LIQUID. T=1395.981, X_NI=0.42, X_TI=0.19, ΔT=4.019, NL: 0.177, NP(LIQUID)=0.917 NP(A1)=0.062 NP(C14)=0.021 \n",
      "Adding points to C14. Adding points to FCC4. Adding points to NI3TI. No liquid phase found at T=1391.962, X_NI=0.42, X_TI=0.19. (Found {'A1', 'C14', 'NI3TI'}) Stepping back and reducing step size.\n",
      "Adding points to LIQUID. Adding points to NI3TI. Adding points to C14. T=1395.981, X_NI=0.42, X_TI=0.19, ΔT=3.349, NL: 0.177, NP(LIQUID)=1.000 NP(C14)=0.000 NP(NI3TI)=0.000 \n",
      "Adding points to C14. Adding points to FCC4. Adding points to NI3TI. No liquid phase found at T=1392.632, X_NI=0.42, X_TI=0.19. (Found {'A1', 'C14', 'NI3TI'}) Stepping back and reducing step size.\n",
      "Adding points to LIQUID. T=1395.981, X_NI=0.42, X_TI=0.19, ΔT=2.791, NL: 0.177, NP(LIQUID)=1.000 \n",
      "Adding points to C14. Adding points to FCC4. Adding points to NI3TI. No liquid phase found at T=1393.190, X_NI=0.42, X_TI=0.19. (Found {'A1', 'C14', 'NI3TI'}) Stepping back and reducing step size.\n",
      "Adding points to LIQUID. T=1395.981, X_NI=0.42, X_TI=0.19, ΔT=2.326, NL: 0.177, NP(LIQUID)=1.000 \n",
      "Adding points to C14. Adding points to FCC4. Adding points to NI3TI. No liquid phase found at T=1393.656, X_NI=0.42, X_TI=0.19. (Found {'A1', 'C14', 'NI3TI'}) Stepping back and reducing step size.\n",
      "Adding points to LIQUID. T=1395.981, X_NI=0.42, X_TI=0.19, ΔT=1.938, NL: 0.177, NP(LIQUID)=1.000 \n",
      "Adding points to C14. Adding points to FCC4. Adding points to NI3TI. No liquid phase found at T=1394.043, X_NI=0.42, X_TI=0.19. (Found {'A1', 'C14', 'NI3TI'}) Maximum step size reduction exceeded. Stopping.\n",
      "<SolidificationResult: scheil T=(1540.0 -> 1394.0) (A1, C14, NI3TI)>\n",
      "[('A1', 0.8317750634782359), ('C14', 0.1097615698270431), ('NI3TI', 0.05846336669472096)]\n"
     ]
    }
   ],
   "source": [
    "composition = {v.W('NI'): 0.332, v.W('TI'): 0.120}\n",
    "composition = W_to_X(composition, dbf, comps)\n",
    "start_temperature = 1540\n",
    "res = simulate_scheil_solidification(dbf, comps, phases, composition, start_temperature=start_temperature, step_temperature=step_temperature, verbose=verbose, eq_kwargs={'calc_opts': {'points': copy.deepcopy(pts_dict)}})\n",
    "print(res)\n",
    "with open(os.path.join(LAYERS_DIR, 'Ti64-L45.json'), 'w') as fp:\n",
    "    json.dump(res.to_dict(), fp)\n",
    "print([(ph, vals[-1]) for ph, vals in res.cum_phase_amounts.items() if not np.isclose(vals[-1], 0)])"
   ]
  },
  {
   "cell_type": "code",
   "execution_count": 59,
   "metadata": {},
   "outputs": [
    {
     "name": "stdout",
     "output_type": "stream",
     "text": [
      "building callables... done\n",
      "(A1: 0.862), (C14: 0.138)\n"
     ]
    }
   ],
   "source": [
    "eq_sol = simulate_equilibrium_solidification(dbf, comps, phases, composition, start_temperature=start_temperature, step_temperature=step_temperature, verbose=verbose, eq_kwargs={'calc_opts': {'points': copy.deepcopy(pts_dict)}})\n",
    "eq_res = equilibrium(dbf, comps, phases, {v.P: 101325, v.N: 1.0, v.T: eq_sol.temperatures[-1], **composition})\n",
    "print(\", \".join([f\"({ph}: {val:0.3f})\" for ph, val in zip(order_disorder_eq_phases(eq_res, ord_disord_map), eq_res.NP.values.squeeze()) if ph != '']))"
   ]
  },
  {
   "cell_type": "markdown",
   "metadata": {},
   "source": [
    "# Gradient Path Solidification\n",
    "## Path construction\n",
    "\n",
    "Build a composition path from pure Ti to Invar-36 (Fe-36 wt% Ni). Weight fractions are converted to mole fractions (as used by pycalphad).\n",
    "\n",
    "Scheil-Gulliver and equilibrium solidification simulations will loop over this linear path."
   ]
  },
  {
   "cell_type": "code",
   "execution_count": 38,
   "metadata": {},
   "outputs": [
    {
     "name": "stdout",
     "output_type": "stream",
     "text": [
      "Start: X_NI=0.000-X_TI=0.999\n",
      "End  : X_NI=0.349-X_TI=0.000\n"
     ]
    }
   ],
   "source": [
    "start = {v.W('NI'): 0.0, v.W('TI'): 1.0} # pure Ti\n",
    "end = {v.W('NI'): 0.36, v.W('TI'): 0.0}  # Invar-36\n",
    "def fmt_comps(comp_conds):\n",
    "    return '-'.join([f'{c}={val:0.3f}' for c, val in comp_conds.items()])\n",
    "\n",
    "all_comps = []  # mole fraction\n",
    "for mix in np.linspace(1e-3, 1, 50):\n",
    "    all_comps.append(W_to_X(comp_interp(start, end, mix), dbf, comps))\n",
    "\n",
    "# Note, compositions here are in mole fraction, but input were mass fraction.\n",
    "print(f\"Start: {fmt_comps(all_comps[0])}\")\n",
    "print(f\"End  : {fmt_comps(all_comps[-1])}\")"
   ]
  },
  {
   "cell_type": "markdown",
   "metadata": {},
   "source": [
    "## Scheil-Gulliver\n",
    "### Settings\n",
    "\n",
    "Save the results in a local results directory and set the main controlling.\n",
    "\n",
    "The start temperature should be the highest temperature that is pure liquid along the whole path. Titanium has a melting point of about 1940 K, so 2000 K is chosen."
   ]
  },
  {
   "cell_type": "code",
   "execution_count": 128,
   "metadata": {},
   "outputs": [],
   "source": [
    "RESULTS_DIR = os.path.join('results')\n",
    "if not os.path.exists(RESULTS_DIR):\n",
    "    os.mkdir(RESULTS_DIR)\n",
    "PATH_DIR = os.path.join(RESULTS_DIR, 'scheil-path')\n",
    "if not os.path.exists(PATH_DIR):\n",
    "    os.mkdir(PATH_DIR)\n",
    "START_TEMPERATURE = 2000.0  # global start temperature\n",
    "STEP_TEMPERATURE = 10.0  # temperature step size\n",
    "VERBOSE = False"
   ]
  },
  {
   "cell_type": "markdown",
   "metadata": {},
   "source": [
    "### Simulations\n",
    "\n",
    "Typically each simulation on the path finishes in ~7 minutes on average for a 2015 MacBook Pro with an Intel i7 processor.\n",
    "50 compositions gives a total time of about 6 hours."
   ]
  },
  {
   "cell_type": "code",
   "execution_count": null,
   "metadata": {},
   "outputs": [],
   "source": [
    "prefix = 'Fe-Ni-Ti_path'  # file name prefix\n",
    "# copy points at first for reproducibilty, but use along the whole path for speed and accuracy\n",
    "path_pts = copy.deepcopy(pts_dict)\n",
    "for i, composition in enumerate(all_comps):\n",
    "    formatted_name = fmt_comps(composition)\n",
    "    print(formatted_name, end='  ==  ')\n",
    "    res = simulate_scheil_solidification(dbf, comps, phases, composition, start_temperature=START_TEMPERATURE, adaptive=True, step_temperature=STEP_TEMPERATURE, verbose=VERBOSE, eq_kwargs={'calc_opts': {'points': path_pts}})\n",
    "    for ph, amnts in res.cum_phase_amounts.items():\n",
    "        print(f'{ph}: {amnts[-1]:0.4f}', end=', ')\n",
    "    print()\n",
    "    with open(os.path.join(PATH_DIR, f'{prefix}_i={i:03d}_{formatted_name}.json'), 'w') as fp:\n",
    "        json.dump(res.to_dict(), fp)"
   ]
  },
  {
   "cell_type": "markdown",
   "metadata": {},
   "source": [
    "### Plotting\n",
    "Load the data for the path from the results directory and create a dictionary mapping a phase to the fractions along the path."
   ]
  },
  {
   "cell_type": "code",
   "execution_count": 124,
   "metadata": {},
   "outputs": [],
   "source": [
    "MIN_PHASE_FRACTION = 1e-6\n",
    "solid_phases = [ph for ph in phases if ph != 'LIQUID']\n",
    "phase_fractions = {ph: [] for ph in solid_phases if ph != solid_phases}\n",
    "for filename in sorted(glob(os.path.join(f'{PATH_DIR}', '*'))):\n",
    "    with open(filename) as fp:\n",
    "        data = json.load(fp)\n",
    "    sol_res = SolidificationResult.from_dict(data)\n",
    "    for ph in solid_phases:\n",
    "        phase_fractions[ph].append(sol_res.cum_phase_amounts[ph][-1])\n",
    "# Only include phases that have *some* amount greater than MIN_PHASE_FRACTION\n",
    "phase_fractions = {ph: np.array(fracs) for ph, fracs in phase_fractions.items() if np.max(fracs) > MIN_PHASE_FRACTION}"
   ]
  },
  {
   "cell_type": "markdown",
   "metadata": {},
   "source": [
    "Manually set the line styles and coloring."
   ]
  },
  {
   "cell_type": "code",
   "execution_count": 125,
   "metadata": {},
   "outputs": [],
   "source": [
    "LINE_STYLES = {\n",
    "    'A1': 'dotted',\n",
    "    'A2': (0, (3, 5, 1, 5)),\n",
    "    'A3': (0, (3, 10, 1, 10)),\n",
    "    'BCC2': (0, (5, 5)),\n",
    "    'C14': 'dashed',\n",
    "    'FCC4': (0, (5, 10)),\n",
    "    'NI3TI': 'solid',\n",
    "    'NITI2': 'dashdot'\n",
    "}\n",
    "COLORS = {\n",
    "    'A1': '#000000',\n",
    "    'A2': '#000075',\n",
    "    'A3': '#808000',\n",
    "    'BCC2': '#911eb4',\n",
    "    'C14': '#f58231',\n",
    "    'FCC4': '#800000',\n",
    "    'NI3TI': '#3cb44b',\n",
    "    'NITI2': '#9A6324'\n",
    "}"
   ]
  },
  {
   "cell_type": "markdown",
   "metadata": {},
   "source": [
    "Plot the phase fractions."
   ]
  },
  {
   "cell_type": "code",
   "execution_count": 126,
   "metadata": {},
   "outputs": [
    {
     "data": {
      "text/plain": [
       "(-0.01, 1.01)"
      ]
     },
     "execution_count": 126,
     "metadata": {},
     "output_type": "execute_result"
    },
    {
     "data": {
      "image/png": "[encoded data removed]",
      "text/plain": [
       "<Figure size 432x288 with 1 Axes>"
      ]
     },
     "metadata": {
      "needs_background": "light"
     },
     "output_type": "display_data"
    }
   ],
   "source": [
    "path_xs = np.linspace(0, 1, list(phase_fractions.values())[0].size) # plotting along the fraction of Invar\n",
    "fig = plt.figure()\n",
    "ax = fig.gca()\n",
    "for ph, fracs in phase_fractions.items():\n",
    "    ax.plot(path_xs, fracs, color=COLORS[ph], ls=LINE_STYLES[ph], label=ph)\n",
    "\n",
    "\n",
    "ax.set_xlabel('Fraction Invar', fontsize=14)\n",
    "ax.set_ylabel('Phase Fraction\\nScheil Solidification', fontsize=14)\n",
    "#ax.legend(legend_handles, {ph: COLORS[ph] for ph in sorted(phase_fractions.keys())}, loc=(1.02,0.2))\n",
    "ax.legend(loc=(1.02,0.2), handlelength=4)\n",
    "ax.set_xlim(0, 1)\n",
    "ax.set_ylim(-0.01, 1.01)\n",
    "# fig.savefig('NP-solidification.svg')"
   ]
  },
  {
   "cell_type": "markdown",
   "metadata": {},
   "source": [
    "## Calculating equilibrium solidification phase fraction \n",
    "\n",
    "### Settings\n",
    "\n",
    "Since the phase fractions we are interested in plotting are at the end of the simulations and the equilibrium solidification simulations do a binary search at the end, we don't need as fine of a step size."
   ]
  },
  {
   "cell_type": "code",
   "execution_count": 129,
   "metadata": {},
   "outputs": [],
   "source": [
    "RESULTS_DIR = os.path.join('results')\n",
    "if not os.path.exists(RESULTS_DIR):\n",
    "    os.mkdir(RESULTS_DIR)\n",
    "PATH_DIR = os.path.join(RESULTS_DIR, 'eq-path')\n",
    "if not os.path.exists(PATH_DIR):\n",
    "    os.mkdir(PATH_DIR)\n",
    "START_TEMPERATURE = 2000.0  # global start temperature\n",
    "STEP_TEMPERATURE = 10.0  # temperature step size\n",
    "VERBOSE = False"
   ]
  },
  {
   "cell_type": "markdown",
   "metadata": {},
   "source": [
    "### Simulations\n",
    "\n",
    "Typically each simulation on the path finishes in ~4 minutes on average for a 2015 MacBook Pro with an Intel i7 processor."
   ]
  },
  {
   "cell_type": "code",
   "execution_count": null,
   "metadata": {},
   "outputs": [],
   "source": [
    "prefix = 'Fe-Ni-Ti_path'\n",
    "# copy points at first for reproducibilty, but use along the whole path for speed\n",
    "path_pts = copy.deepcopy(pts_dict)\n",
    "for i, composition in enumerate(all_comps):\n",
    "    formatted_name = fmt_comps(composition)\n",
    "    print(formatted_name, end='  ==  ')\n",
    "    res = simulate_equilibrium_solidification(dbf, comps, phases, composition, start_temperature=START_TEMPERATURE, adaptive=True, step_temperature=STEP_TEMPERATURE, verbose=VERBOSE, eq_kwargs={'calc_opts': {'points': path_pts}})\n",
    "    for ph, amnts in res.cum_phase_amounts.items():\n",
    "        print(f'{ph}: {amnts[-1]:0.4f}', end=', ')\n",
    "    print()\n",
    "    with open(os.path.join(PATH_DIR, f'{prefix}_i={i:03d}_{formatted_name}.json'), 'w') as fp:\n",
    "        json.dump(res.to_dict(), fp)"
   ]
  },
  {
   "cell_type": "code",
   "execution_count": 117,
   "metadata": {},
   "outputs": [],
   "source": [
    "MIN_PHASE_FRACTION = 1e-6\n",
    "solid_phases = [ph for ph in phases if ph != 'LIQUID']\n",
    "phase_fractions = {ph: [] for ph in solid_phases if ph != solid_phases}\n",
    "for filename in sorted(glob(os.path.join(f'{PATH_DIR}', '*'))):\n",
    "    with open(filename) as fp:\n",
    "        data = json.load(fp)\n",
    "    sol_res = SolidificationResult.from_dict(data)\n",
    "    for ph in solid_phases:\n",
    "        phase_fractions[ph].append(sol_res.cum_phase_amounts[ph][-1])\n",
    "# Only include phases that have *some* amount greater than MIN_PHASE_FRACTION\n",
    "phase_fractions = {ph: np.array(fracs) for ph, fracs in phase_fractions.items() if np.max(fracs) > MIN_PHASE_FRACTION}"
   ]
  },
  {
   "cell_type": "code",
   "execution_count": 121,
   "metadata": {},
   "outputs": [],
   "source": [
    "# Same styles and colors as in the Scheil-Gulliver path plot\n",
    "LINE_STYLES = {\n",
    "    'A1': 'dotted',\n",
    "    'A2': (0, (3, 5, 1, 5)),\n",
    "    'A3': (0, (3, 10, 1, 10)),\n",
    "    'BCC2': (0, (5, 5)),\n",
    "    'C14': 'dashed',\n",
    "    'FCC4': (0, (5, 10)),\n",
    "    'NI3TI': 'solid',\n",
    "    'NITI2': 'dashdot'\n",
    "}\n",
    "COLORS = {\n",
    "    'A1': '#000000',\n",
    "    'A2': '#000075',\n",
    "    'A3': '#808000',\n",
    "    'BCC2': '#911eb4',\n",
    "    'C14': '#f58231',\n",
    "    'FCC4': '#800000',\n",
    "    'NI3TI': '#3cb44b',\n",
    "    'NITI2': '#9A6324'\n",
    "}"
   ]
  },
  {
   "cell_type": "code",
   "execution_count": 122,
   "metadata": {},
   "outputs": [
    {
     "data": {
      "text/plain": [
       "(-0.01, 1.01)"
      ]
     },
     "execution_count": 122,
     "metadata": {},
     "output_type": "execute_result"
    },
    {
     "data": {
      "image/png": "[encoded data removed]",
      "text/plain": [
       "<Figure size 432x288 with 1 Axes>"
      ]
     },
     "metadata": {
      "needs_background": "light"
     },
     "output_type": "display_data"
    }
   ],
   "source": [
    "path_xs = np.linspace(0, 1, list(phase_fractions.values())[0].size) # plotting along the fraction of Invar\n",
    "fig = plt.figure()\n",
    "ax = fig.gca()\n",
    "for ph, fracs in phase_fractions.items():\n",
    "    ax.plot(path_xs, fracs, color=COLORS[ph], ls=LINE_STYLES[ph], label=ph)\n",
    "\n",
    "\n",
    "ax.set_xlabel('Fraction Invar', fontsize=14)\n",
    "ax.set_ylabel('Phase Fraction\\nEquilibrium Solidification', fontsize=14)\n",
    "ax.legend(loc=(1.02,0.2), handlelength=4)\n",
    "ax.set_xlim(0, 1)\n",
    "ax.set_ylim(-0.01, 1.01)\n",
    "# fig.savefig('NP-solidification.svg')"
   ]
  },
  {
   "cell_type": "code",
   "execution_count": null,
   "metadata": {},
   "outputs": [],
   "source": []
  },
  {
   "cell_type": "code",
   "execution_count": null,
   "metadata": {},
   "outputs": [],
   "source": []
  },
  {
   "cell_type": "code",
   "execution_count": null,
   "metadata": {},
   "outputs": [],
   "source": []
  },
  {
   "cell_type": "code",
   "execution_count": null,
   "metadata": {},
   "outputs": [],
   "source": []
  },
  {
   "cell_type": "markdown",
   "metadata": {},
   "source": [
    "## Run Scheil simulation in the ternary, adding the additional points\n",
    "### Layer 35"
   ]
  },
  {
   "cell_type": "code",
   "execution_count": 30,
   "metadata": {},
   "outputs": [
    {
     "name": "stdout",
     "output_type": "stream",
     "text": [
      "{X_NI: 0.26450314059414565, X_TI: 0.2673399134199201}\n"
     ]
    }
   ],
   "source": [
    "# Layer 35\n",
    "W_i = {v.W('NI'): 0.285, v.W('TI'): 0.235}\n",
    "\n",
    "composition = W_to_X(W_i, dbf, comps)\n",
    "print(composition)"
   ]
  },
  {
   "cell_type": "code",
   "execution_count": 32,
   "metadata": {},
   "outputs": [
    {
     "name": "stdout",
     "output_type": "stream",
     "text": [
      "building callables... done\n",
      "Adding points to LIQUID. T=1700.000, X_NI=0.26, X_TI=0.27, ΔT=10.000, NL: 1.000, NP(LIQUID)=1.000 \n",
      "Adding points to LIQUID. T=1690.000, X_NI=0.26, X_TI=0.27, ΔT=10.000, NL: 1.000, NP(LIQUID)=1.000 \n",
      "Adding points to LIQUID. T=1680.000, X_NI=0.26, X_TI=0.27, ΔT=10.000, NL: 1.000, NP(LIQUID)=1.000 \n",
      "Adding points to LIQUID. Adding points to C14. New phases seen: {'C14'}. T=1670.000, X_NI=0.26, X_TI=0.27, ΔT=10.000, NL: 0.888, NP(LIQUID)=0.888 NP(C14)=0.112 \n",
      "Adding points to LIQUID. Adding points to C14. T=1660.000, X_NI=0.27, X_TI=0.26, ΔT=10.000, NL: 0.804, NP(LIQUID)=0.905 NP(C14)=0.095 \n",
      "Adding points to LIQUID. Adding points to C14. T=1650.000, X_NI=0.28, X_TI=0.26, ΔT=10.000, NL: 0.738, NP(LIQUID)=0.918 NP(C14)=0.082 \n",
      "Adding points to LIQUID. Adding points to C14. T=1640.000, X_NI=0.29, X_TI=0.25, ΔT=10.000, NL: 0.685, NP(LIQUID)=0.928 NP(C14)=0.072 \n",
      "Adding points to C14. Adding points to LIQUID. T=1630.000, X_NI=0.29, X_TI=0.25, ΔT=10.000, NL: 0.641, NP(LIQUID)=0.936 NP(C14)=0.064 \n",
      "Adding points to LIQUID. Adding points to C14. T=1620.000, X_NI=0.30, X_TI=0.24, ΔT=10.000, NL: 0.605, NP(LIQUID)=0.943 NP(C14)=0.057 \n",
      "Adding points to LIQUID. Adding points to C14. T=1610.000, X_NI=0.30, X_TI=0.24, ΔT=10.000, NL: 0.573, NP(LIQUID)=0.948 NP(C14)=0.052 \n",
      "Adding points to LIQUID. Adding points to C14. T=1600.000, X_NI=0.31, X_TI=0.23, ΔT=10.000, NL: 0.546, NP(LIQUID)=0.952 NP(C14)=0.048 \n",
      "Adding points to C14. Adding points to LIQUID. T=1590.000, X_NI=0.31, X_TI=0.23, ΔT=10.000, NL: 0.522, NP(LIQUID)=0.956 NP(C14)=0.044 \n",
      "Adding points to C14. Adding points to LIQUID. T=1580.000, X_NI=0.32, X_TI=0.22, ΔT=10.000, NL: 0.501, NP(LIQUID)=0.959 NP(C14)=0.041 \n",
      "Adding points to C14. Adding points to LIQUID. T=1570.000, X_NI=0.32, X_TI=0.22, ΔT=10.000, NL: 0.482, NP(LIQUID)=0.962 NP(C14)=0.038 \n",
      "Adding points to C14. Adding points to LIQUID. T=1560.000, X_NI=0.33, X_TI=0.22, ΔT=10.000, NL: 0.465, NP(LIQUID)=0.965 NP(C14)=0.035 \n",
      "Adding points to C14. Adding points to LIQUID. T=1550.000, X_NI=0.33, X_TI=0.21, ΔT=10.000, NL: 0.450, NP(LIQUID)=0.967 NP(C14)=0.033 \n",
      "Adding points to C14. Adding points to LIQUID. T=1540.000, X_NI=0.34, X_TI=0.21, ΔT=10.000, NL: 0.435, NP(LIQUID)=0.969 NP(C14)=0.031 \n",
      "Adding points to LIQUID. Adding points to C14. T=1530.000, X_NI=0.34, X_TI=0.21, ΔT=10.000, NL: 0.423, NP(LIQUID)=0.970 NP(C14)=0.030 \n",
      "Adding points to LIQUID. Adding points to C14. T=1520.000, X_NI=0.34, X_TI=0.21, ΔT=10.000, NL: 0.411, NP(LIQUID)=0.972 NP(C14)=0.028 \n",
      "Adding points to LIQUID. Adding points to C14. T=1510.000, X_NI=0.35, X_TI=0.20, ΔT=10.000, NL: 0.400, NP(LIQUID)=0.973 NP(C14)=0.027 \n",
      "Adding points to LIQUID. Adding points to C14. T=1500.000, X_NI=0.35, X_TI=0.20, ΔT=10.000, NL: 0.389, NP(LIQUID)=0.974 NP(C14)=0.026 \n",
      "Adding points to LIQUID. Adding points to C14. T=1490.000, X_NI=0.35, X_TI=0.20, ΔT=10.000, NL: 0.380, NP(LIQUID)=0.976 NP(C14)=0.024 \n",
      "Adding points to LIQUID. Adding points to C14. T=1480.000, X_NI=0.36, X_TI=0.20, ΔT=10.000, NL: 0.371, NP(LIQUID)=0.977 NP(C14)=0.023 \n",
      "Adding points to LIQUID. Adding points to C14. T=1470.000, X_NI=0.36, X_TI=0.19, ΔT=10.000, NL: 0.363, NP(LIQUID)=0.978 NP(C14)=0.022 \n",
      "Adding points to C14. Adding points to LIQUID. T=1460.000, X_NI=0.36, X_TI=0.19, ΔT=10.000, NL: 0.355, NP(LIQUID)=0.978 NP(C14)=0.022 \n",
      "Adding points to C14. Adding points to LIQUID. T=1450.000, X_NI=0.37, X_TI=0.19, ΔT=10.000, NL: 0.347, NP(LIQUID)=0.979 NP(C14)=0.021 \n",
      "Adding points to LIQUID. Adding points to C14. T=1440.000, X_NI=0.37, X_TI=0.19, ΔT=10.000, NL: 0.340, NP(LIQUID)=0.980 NP(C14)=0.020 \n",
      "Adding points to LIQUID. Adding points to C14. T=1430.000, X_NI=0.37, X_TI=0.18, ΔT=10.000, NL: 0.334, NP(LIQUID)=0.981 NP(C14)=0.019 \n",
      "Adding points to FCC4. Adding points to LIQUID. Adding points to C14. New phases seen: {'A1'}. T=1420.000, X_NI=0.38, X_TI=0.18, ΔT=10.000, NL: 0.310, NP(LIQUID)=0.928 NP(A1)=0.043 NP(C14)=0.029 \n",
      "Adding points to FCC4. Adding points to LIQUID. Adding points to C14. T=1410.000, X_NI=0.38, X_TI=0.18, ΔT=10.000, NL: 0.244, NP(LIQUID)=0.779 NP(A1)=0.164 NP(C14)=0.057 \n",
      "Adding points to C14. Adding points to FCC4. Adding points to LIQUID. T=1400.000, X_NI=0.40, X_TI=0.19, ΔT=10.000, NL: 0.194, NP(LIQUID)=0.787 NP(A1)=0.159 NP(C14)=0.054 \n",
      "Adding points to C14. Adding points to FCC4. Adding points to NI3TI. New phases seen: {'NI3TI'}. No liquid phase found at T=1390, X_NI=0.42, X_TI=0.19 (Found ['C14', 'A1', 'NI3TI', '']). Stepping back and reducing step size.\n",
      "Adding points to C14. Adding points to FCC4. Adding points to LIQUID. T=1400.000, X_NI=0.42, X_TI=0.19, ΔT=8.333, NL: 0.194, NP(LIQUID)=1.000 NP(A1)=0.000 NP(C14)=0.000 \n",
      "Adding points to C14. Adding points to FCC4. Adding points to NI3TI. No liquid phase found at T=1391.6666666666667, X_NI=0.42, X_TI=0.19 (Found ['C14', 'A1', 'NI3TI', '']). Stepping back and reducing step size.\n",
      "Adding points to LIQUID. T=1400.000, X_NI=0.42, X_TI=0.19, ΔT=6.944, NL: 0.194, NP(LIQUID)=1.000 \n",
      "Adding points to C14. Adding points to FCC4. Adding points to NI3TI. No liquid phase found at T=1393.0555555555557, X_NI=0.42, X_TI=0.19 (Found ['C14', 'A1', 'NI3TI', '']). Stepping back and reducing step size.\n",
      "Adding points to LIQUID. T=1400.000, X_NI=0.42, X_TI=0.19, ΔT=5.787, NL: 0.194, NP(LIQUID)=1.000 \n",
      "Adding points to C14. Adding points to FCC4. Adding points to NI3TI. No liquid phase found at T=1394.212962962963, X_NI=0.42, X_TI=0.19 (Found ['C14', 'A1', 'NI3TI', '']). Stepping back and reducing step size.\n",
      "Adding points to LIQUID. T=1400.000, X_NI=0.42, X_TI=0.19, ΔT=4.823, NL: 0.194, NP(LIQUID)=1.000 \n",
      "Adding points to C14. Adding points to FCC4. Adding points to NI3TI. No liquid phase found at T=1395.1774691358025, X_NI=0.42, X_TI=0.19 (Found ['C14', 'A1', 'NI3TI', '']). Stepping back and reducing step size.\n",
      "Adding points to LIQUID. T=1400.000, X_NI=0.42, X_TI=0.19, ΔT=4.019, NL: 0.194, NP(LIQUID)=1.000 \n",
      "Adding points to C14. Adding points to FCC4. Adding points to LIQUID. T=1395.981, X_NI=0.42, X_TI=0.19, ΔT=4.019, NL: 0.179, NP(LIQUID)=0.917 NP(A1)=0.062 NP(C14)=0.021 \n",
      "Adding points to C14. Adding points to FCC4. Adding points to NI3TI. No liquid phase found at T=1391.962448559671, X_NI=0.42, X_TI=0.19 (Found ['C14', 'A1', 'NI3TI', '']). Stepping back and reducing step size.\n",
      "Adding points to C14. Adding points to FCC4. Adding points to LIQUID. T=1395.981, X_NI=0.42, X_TI=0.19, ΔT=3.349, NL: 0.179, NP(LIQUID)=1.000 NP(A1)=0.000 NP(C14)=0.000 \n",
      "Adding points to C14. Adding points to FCC4. Adding points to NI3TI. No liquid phase found at T=1392.6322445130315, X_NI=0.42, X_TI=0.19 (Found ['C14', 'A1', 'NI3TI', '']). Stepping back and reducing step size.\n",
      "Adding points to LIQUID. T=1395.981, X_NI=0.42, X_TI=0.19, ΔT=2.791, NL: 0.179, NP(LIQUID)=1.000 \n",
      "Adding points to C14. Adding points to FCC4. Adding points to NI3TI. No liquid phase found at T=1393.190407807499, X_NI=0.42, X_TI=0.19 (Found ['C14', 'A1', 'NI3TI', '']). Stepping back and reducing step size.\n",
      "Adding points to LIQUID. T=1395.981, X_NI=0.42, X_TI=0.19, ΔT=2.326, NL: 0.179, NP(LIQUID)=1.000 \n",
      "Adding points to C14. Adding points to FCC4. Adding points to NI3TI. No liquid phase found at T=1393.6555438862217, X_NI=0.42, X_TI=0.19 (Found ['C14', 'A1', 'NI3TI', '']). Stepping back and reducing step size.\n",
      "Adding points to LIQUID. T=1395.981, X_NI=0.42, X_TI=0.19, ΔT=1.938, NL: 0.179, NP(LIQUID)=1.000 \n",
      "Adding points to C14. Adding points to FCC4. Adding points to NI3TI. No liquid phase found at T=1394.0431572851573, X_NI=0.42, X_TI=0.19 (Found ['C14', 'A1', 'NI3TI', '']). Maximum step size reduction exceeded. Stopping.\n",
      "A1: 0.2110\n",
      "A2: 0.0000\n",
      "A3: 0.0000\n",
      "BCC2: 0.0000\n",
      "C14: 0.7302\n",
      "FCC4: 0.0000\n",
      "NI3TI: 0.0588\n",
      "NITI2: 0.0000\n"
     ]
    }
   ],
   "source": [
    "res = simulate_scheil_solidification(dbf, comps, phases, composition, start_temperature=1700, step_temperature=10, verbose=True, eq_kwargs={'calc_opts': {'points': pts_dict}})\n",
    "for ph, amnts in res.phase_amounts.items():\n",
    "    print(f'{ph}: {amnts[-1]:0.4f}')"
   ]
  },
  {
   "cell_type": "code",
   "execution_count": 13,
   "metadata": {},
   "outputs": [
    {
     "name": "stdout",
     "output_type": "stream",
     "text": [
      "BCC2: 62886 points\n",
      "C14: 194281 points\n",
      "FCC4: 42155 points\n"
     ]
    }
   ],
   "source": [
    "# points have been added!\n",
    "for ph, pt in pts_dict.items():\n",
    "    print(f'{ph}: {pt.shape[0]} points')"
   ]
  },
  {
   "cell_type": "code",
   "execution_count": 10,
   "metadata": {},
   "outputs": [
    {
     "data": {
      "text/plain": [
       "<matplotlib.legend.Legend at 0x120693160>"
      ]
     },
     "execution_count": 10,
     "metadata": {},
     "output_type": "execute_result"
    },
    {
     "data": {
      "image/png": "[encoded data removed]",
      "text/plain": [
       "<Figure size 432x288 with 1 Axes>"
      ]
     },
     "metadata": {
      "needs_background": "light"
     },
     "output_type": "display_data"
    }
   ],
   "source": [
    "num_plt = np.sum(np.array(res.fraction_solid) > 0)\n",
    "xTi = [z[v.X('TI')] for z in res.x_liquid][-num_plt:]\n",
    "xNi = [z[v.X('NI')] for z in res.x_liquid][-num_plt:]\n",
    "T = res.temperatures[-num_plt:]\n",
    "plt.plot(xTi, T, label='Ti')\n",
    "plt.plot(xNi, T, label='Ni')\n",
    "plt.legend()"
   ]
  },
  {
   "cell_type": "code",
   "execution_count": 11,
   "metadata": {},
   "outputs": [],
   "source": [
    "# save\n",
    "serialize(res, 'Fe-Ni-Ti_Ti64-L35.json')"
   ]
  },
  {
   "cell_type": "code",
   "execution_count": 12,
   "metadata": {},
   "outputs": [
    {
     "data": {
      "text/plain": [
       "[<matplotlib.lines.Line2D at 0x1209a14e0>]"
      ]
     },
     "execution_count": 12,
     "metadata": {},
     "output_type": "execute_result"
    },
    {
     "data": {
      "image/png": "[encoded data removed]",
      "text/plain": [
       "<Figure size 432x288 with 1 Axes>"
      ]
     },
     "metadata": {
      "needs_background": "light"
     },
     "output_type": "display_data"
    }
   ],
   "source": [
    "ax = plt.gca(projection='triangular')\n",
    "ax.plot(xNi, xTi)"
   ]
  },
  {
   "cell_type": "markdown",
   "metadata": {},
   "source": [
    "### CP Ti layer 24"
   ]
  },
  {
   "cell_type": "code",
   "execution_count": 14,
   "metadata": {},
   "outputs": [
    {
     "name": "stdout",
     "output_type": "stream",
     "text": [
      "{X_NI: 0.05026428028320319, X_TI: 0.8564149431185173}\n"
     ]
    }
   ],
   "source": [
    "W_i = {v.W('NI'): 0.060, v.W('TI'): 0.834}\n",
    "composition = W_to_X(W_i, dbf, comps)\n",
    "print(composition)"
   ]
  },
  {
   "cell_type": "code",
   "execution_count": 15,
   "metadata": {},
   "outputs": [
    {
     "name": "stdout",
     "output_type": "stream",
     "text": [
      "building callables... done\n",
      "T=1700.000, X_NI=0.05, X_TI=0.86, ΔT=5.000, NL: 1.000, NP(LIQUID)=1.000\n",
      "T=1695.000, X_NI=0.05, X_TI=0.86, ΔT=5.000, NL: 1.000, NP(LIQUID)=1.000\n",
      "T=1690.000, X_NI=0.05, X_TI=0.86, ΔT=5.000, NL: 1.000, NP(LIQUID)=1.000\n",
      "T=1685.000, X_NI=0.05, X_TI=0.86, ΔT=5.000, NL: 1.000, NP(LIQUID)=1.000\n",
      "T=1680.000, X_NI=0.05, X_TI=0.86, ΔT=5.000, NL: 1.000, NP(LIQUID)=1.000\n",
      "T=1675.000, X_NI=0.05, X_TI=0.86, ΔT=5.000, NL: 1.000, NP(LIQUID)=1.000\n",
      "T=1670.000, X_NI=0.05, X_TI=0.86, ΔT=5.000, NL: 1.000, NP(LIQUID)=1.000\n",
      "T=1665.000, X_NI=0.05, X_TI=0.86, ΔT=5.000, NL: 1.000, NP(LIQUID)=1.000\n",
      "T=1660.000, X_NI=0.05, X_TI=0.86, ΔT=5.000, NL: 1.000, NP(LIQUID)=1.000\n",
      "T=1655.000, X_NI=0.05, X_TI=0.86, ΔT=5.000, NL: 1.000, NP(LIQUID)=1.000\n",
      "T=1650.000, X_NI=0.05, X_TI=0.86, ΔT=5.000, NL: 1.000, NP(LIQUID)=1.000\n",
      "T=1645.000, X_NI=0.05, X_TI=0.86, ΔT=5.000, NL: 1.000, NP(LIQUID)=1.000\n",
      "T=1640.000, X_NI=0.05, X_TI=0.86, ΔT=5.000, NL: 1.000, NP(LIQUID)=1.000\n",
      "T=1635.000, X_NI=0.05, X_TI=0.86, ΔT=5.000, NL: 1.000, NP(LIQUID)=1.000\n",
      "T=1630.000, X_NI=0.05, X_TI=0.86, ΔT=5.000, NL: 1.000, NP(LIQUID)=1.000\n",
      "T=1625.000, X_NI=0.05, X_TI=0.86, ΔT=5.000, NL: 1.000, NP(LIQUID)=1.000\n",
      "Adding points to BCC2. New phases seen: {'BCC2'}.\n",
      "T=1620.000, X_NI=0.05, X_TI=0.86, ΔT=5.000, NL: 0.989, NP(LIQUID)=0.989 NP(BCC2)=0.011\n",
      "Adding points to BCC2. T=1615.000, X_NI=0.05, X_TI=0.86, ΔT=5.000, NL: 0.965, NP(LIQUID)=0.976 NP(BCC2)=0.024\n",
      "Adding points to BCC2. T=1610.000, X_NI=0.05, X_TI=0.85, ΔT=5.000, NL: 0.943, NP(LIQUID)=0.977 NP(BCC2)=0.023\n",
      "Adding points to BCC2. T=1605.000, X_NI=0.05, X_TI=0.85, ΔT=5.000, NL: 0.921, NP(LIQUID)=0.977 NP(BCC2)=0.023\n",
      "Adding points to BCC2. T=1600.000, X_NI=0.05, X_TI=0.85, ΔT=5.000, NL: 0.899, NP(LIQUID)=0.977 NP(BCC2)=0.023\n",
      "Adding points to BCC2. T=1595.000, X_NI=0.05, X_TI=0.85, ΔT=5.000, NL: 0.879, NP(LIQUID)=0.977 NP(BCC2)=0.023\n",
      "Adding points to BCC2. T=1590.000, X_NI=0.06, X_TI=0.85, ΔT=5.000, NL: 0.859, NP(LIQUID)=0.977 NP(BCC2)=0.023\n",
      "Adding points to BCC2. T=1585.000, X_NI=0.06, X_TI=0.84, ΔT=5.000, NL: 0.839, NP(LIQUID)=0.977 NP(BCC2)=0.023\n",
      "Adding points to BCC2. T=1580.000, X_NI=0.06, X_TI=0.84, ΔT=5.000, NL: 0.821, NP(LIQUID)=0.978 NP(BCC2)=0.022\n",
      "Adding points to BCC2. T=1575.000, X_NI=0.06, X_TI=0.84, ΔT=5.000, NL: 0.802, NP(LIQUID)=0.978 NP(BCC2)=0.022\n",
      "Adding points to BCC2. T=1570.000, X_NI=0.06, X_TI=0.84, ΔT=5.000, NL: 0.785, NP(LIQUID)=0.978 NP(BCC2)=0.022\n",
      "Adding points to BCC2. T=1565.000, X_NI=0.06, X_TI=0.84, ΔT=5.000, NL: 0.767, NP(LIQUID)=0.978 NP(BCC2)=0.022\n",
      "Adding points to BCC2. T=1560.000, X_NI=0.06, X_TI=0.84, ΔT=5.000, NL: 0.751, NP(LIQUID)=0.978 NP(BCC2)=0.022\n",
      "Adding points to BCC2. T=1555.000, X_NI=0.06, X_TI=0.83, ΔT=5.000, NL: 0.734, NP(LIQUID)=0.978 NP(BCC2)=0.022\n",
      "Adding points to BCC2. T=1550.000, X_NI=0.06, X_TI=0.83, ΔT=5.000, NL: 0.718, NP(LIQUID)=0.978 NP(BCC2)=0.022\n",
      "Convergence failure: T=1545 and X_NI=0.06, X_TI=0.83\n",
      "No liquid phase found at T=1545, X_NI=0.06, X_TI=0.83 (Found ['' '' '' '']). Stepping back and reducing step size.\n",
      "Adding points to BCC2. T=1550.000, X_NI=0.06, X_TI=0.83, ΔT=4.545, NL: 0.718, NP(LIQUID)=1.000 NP(BCC2)=0.000\n",
      "Adding points to BCC2. T=1545.455, X_NI=0.06, X_TI=0.83, ΔT=4.545, NL: 0.704, NP(LIQUID)=0.980 NP(BCC2)=0.020\n",
      "Adding points to BCC2. T=1540.909, X_NI=0.06, X_TI=0.83, ΔT=4.545, NL: 0.691, NP(LIQUID)=0.980 NP(BCC2)=0.020\n",
      "Adding points to BCC2. T=1536.364, X_NI=0.06, X_TI=0.83, ΔT=4.545, NL: 0.677, NP(LIQUID)=0.981 NP(BCC2)=0.019\n",
      "Adding points to BCC2. T=1531.818, X_NI=0.07, X_TI=0.83, ΔT=4.545, NL: 0.664, NP(LIQUID)=0.981 NP(BCC2)=0.019\n",
      "Adding points to BCC2. T=1527.273, X_NI=0.07, X_TI=0.82, ΔT=4.545, NL: 0.651, NP(LIQUID)=0.981 NP(BCC2)=0.019\n",
      "Adding points to BCC2. T=1522.727, X_NI=0.07, X_TI=0.82, ΔT=4.545, NL: 0.639, NP(LIQUID)=0.981 NP(BCC2)=0.019\n",
      "Adding points to BCC2. T=1518.182, X_NI=0.07, X_TI=0.82, ΔT=4.545, NL: 0.626, NP(LIQUID)=0.981 NP(BCC2)=0.019\n",
      "Adding points to BCC2. T=1513.636, X_NI=0.07, X_TI=0.82, ΔT=4.545, NL: 0.614, NP(LIQUID)=0.981 NP(BCC2)=0.019\n",
      "Adding points to BCC2. T=1509.091, X_NI=0.07, X_TI=0.82, ΔT=4.545, NL: 0.602, NP(LIQUID)=0.981 NP(BCC2)=0.019\n",
      "Adding points to BCC2. T=1504.545, X_NI=0.07, X_TI=0.82, ΔT=4.545, NL: 0.591, NP(LIQUID)=0.981 NP(BCC2)=0.019\n",
      "Adding points to BCC2. T=1500.000, X_NI=0.07, X_TI=0.82, ΔT=4.545, NL: 0.580, NP(LIQUID)=0.981 NP(BCC2)=0.019\n",
      "Adding points to BCC2. T=1495.455, X_NI=0.07, X_TI=0.81, ΔT=4.545, NL: 0.569, NP(LIQUID)=0.981 NP(BCC2)=0.019\n",
      "Adding points to BCC2. T=1490.909, X_NI=0.07, X_TI=0.81, ΔT=4.545, NL: 0.558, NP(LIQUID)=0.981 NP(BCC2)=0.019\n",
      "Adding points to BCC2. T=1486.364, X_NI=0.07, X_TI=0.81, ΔT=4.545, NL: 0.547, NP(LIQUID)=0.981 NP(BCC2)=0.019\n",
      "Adding points to BCC2. T=1481.818, X_NI=0.08, X_TI=0.81, ΔT=4.545, NL: 0.537, NP(LIQUID)=0.981 NP(BCC2)=0.019\n",
      "Adding points to BCC2. T=1477.273, X_NI=0.08, X_TI=0.81, ΔT=4.545, NL: 0.527, NP(LIQUID)=0.981 NP(BCC2)=0.019\n",
      "Adding points to BCC2. T=1472.727, X_NI=0.08, X_TI=0.81, ΔT=4.545, NL: 0.517, NP(LIQUID)=0.981 NP(BCC2)=0.019\n",
      "Adding points to BCC2. T=1468.182, X_NI=0.08, X_TI=0.80, ΔT=4.545, NL: 0.507, NP(LIQUID)=0.981 NP(BCC2)=0.019\n",
      "Adding points to BCC2. T=1463.636, X_NI=0.08, X_TI=0.80, ΔT=4.545, NL: 0.497, NP(LIQUID)=0.981 NP(BCC2)=0.019\n",
      "Adding points to BCC2. T=1459.091, X_NI=0.08, X_TI=0.80, ΔT=4.545, NL: 0.488, NP(LIQUID)=0.981 NP(BCC2)=0.019\n",
      "Adding points to BCC2. T=1454.545, X_NI=0.08, X_TI=0.80, ΔT=4.545, NL: 0.478, NP(LIQUID)=0.981 NP(BCC2)=0.019\n",
      "Adding points to BCC2. T=1450.000, X_NI=0.08, X_TI=0.80, ΔT=4.545, NL: 0.469, NP(LIQUID)=0.981 NP(BCC2)=0.019\n",
      "Adding points to BCC2. T=1445.455, X_NI=0.08, X_TI=0.80, ΔT=4.545, NL: 0.460, NP(LIQUID)=0.981 NP(BCC2)=0.019\n",
      "Adding points to BCC2. T=1440.909, X_NI=0.08, X_TI=0.79, ΔT=4.545, NL: 0.452, NP(LIQUID)=0.981 NP(BCC2)=0.019\n",
      "Adding points to BCC2. T=1436.364, X_NI=0.09, X_TI=0.79, ΔT=4.545, NL: 0.443, NP(LIQUID)=0.981 NP(BCC2)=0.019\n",
      "Adding points to BCC2. T=1431.818, X_NI=0.09, X_TI=0.79, ΔT=4.545, NL: 0.434, NP(LIQUID)=0.981 NP(BCC2)=0.019\n",
      "Adding points to BCC2. T=1427.273, X_NI=0.09, X_TI=0.79, ΔT=4.545, NL: 0.426, NP(LIQUID)=0.981 NP(BCC2)=0.019\n",
      "Adding points to BCC2. T=1422.727, X_NI=0.09, X_TI=0.79, ΔT=4.545, NL: 0.418, NP(LIQUID)=0.981 NP(BCC2)=0.019\n",
      "Adding points to BCC2. T=1418.182, X_NI=0.09, X_TI=0.79, ΔT=4.545, NL: 0.410, NP(LIQUID)=0.981 NP(BCC2)=0.019\n",
      "Adding points to BCC2. T=1413.636, X_NI=0.09, X_TI=0.79, ΔT=4.545, NL: 0.402, NP(LIQUID)=0.981 NP(BCC2)=0.019\n",
      "Adding points to BCC2. T=1409.091, X_NI=0.09, X_TI=0.78, ΔT=4.545, NL: 0.394, NP(LIQUID)=0.981 NP(BCC2)=0.019\n",
      "Adding points to BCC2. T=1404.545, X_NI=0.09, X_TI=0.78, ΔT=4.545, NL: 0.387, NP(LIQUID)=0.981 NP(BCC2)=0.019\n",
      "Adding points to BCC2. T=1400.000, X_NI=0.09, X_TI=0.78, ΔT=4.545, NL: 0.379, NP(LIQUID)=0.981 NP(BCC2)=0.019\n",
      "Adding points to BCC2. T=1395.455, X_NI=0.10, X_TI=0.78, ΔT=4.545, NL: 0.372, NP(LIQUID)=0.981 NP(BCC2)=0.019\n",
      "Adding points to BCC2. T=1390.909, X_NI=0.10, X_TI=0.78, ΔT=4.545, NL: 0.364, NP(LIQUID)=0.980 NP(BCC2)=0.020\n",
      "Adding points to BCC2. T=1386.364, X_NI=0.10, X_TI=0.78, ΔT=4.545, NL: 0.357, NP(LIQUID)=0.980 NP(BCC2)=0.020\n",
      "Adding points to BCC2. T=1381.818, X_NI=0.10, X_TI=0.77, ΔT=4.545, NL: 0.350, NP(LIQUID)=0.980 NP(BCC2)=0.020\n",
      "Adding points to BCC2. T=1377.273, X_NI=0.10, X_TI=0.77, ΔT=4.545, NL: 0.343, NP(LIQUID)=0.980 NP(BCC2)=0.020\n",
      "Adding points to BCC2. T=1372.727, X_NI=0.10, X_TI=0.77, ΔT=4.545, NL: 0.337, NP(LIQUID)=0.980 NP(BCC2)=0.020\n",
      "Convergence failure: T=1368.1818181818198 and X_NI=0.10, X_TI=0.77\n",
      "No liquid phase found at T=1368.1818181818198, X_NI=0.10, X_TI=0.77 (Found ['' '' '' '']). Stepping back and reducing step size.\n",
      "T=1372.727, X_NI=0.10, X_TI=0.77, ΔT=4.132, NL: 0.337, NP(LIQUID)=1.000\n",
      "Adding points to BCC2. T=1368.595, X_NI=0.10, X_TI=0.77, ΔT=4.132, NL: 0.330, NP(LIQUID)=0.982 NP(BCC2)=0.018\n",
      "Adding points to BCC2. T=1364.463, X_NI=0.10, X_TI=0.77, ΔT=4.132, NL: 0.324, NP(LIQUID)=0.982 NP(BCC2)=0.018\n",
      "Adding points to BCC2. T=1360.331, X_NI=0.10, X_TI=0.77, ΔT=4.132, NL: 0.319, NP(LIQUID)=0.982 NP(BCC2)=0.018\n",
      "Adding points to BCC2. T=1356.198, X_NI=0.11, X_TI=0.76, ΔT=4.132, NL: 0.313, NP(LIQUID)=0.982 NP(BCC2)=0.018\n",
      "Adding points to BCC2. T=1352.066, X_NI=0.11, X_TI=0.76, ΔT=4.132, NL: 0.307, NP(LIQUID)=0.982 NP(BCC2)=0.018\n",
      "Adding points to BCC2. T=1347.934, X_NI=0.11, X_TI=0.76, ΔT=4.132, NL: 0.301, NP(LIQUID)=0.982 NP(BCC2)=0.018\n",
      "Adding points to BCC2. T=1343.802, X_NI=0.11, X_TI=0.76, ΔT=4.132, NL: 0.296, NP(LIQUID)=0.982 NP(BCC2)=0.018\n",
      "Adding points to BCC2. T=1339.669, X_NI=0.11, X_TI=0.76, ΔT=4.132, NL: 0.290, NP(LIQUID)=0.982 NP(BCC2)=0.018\n",
      "Adding points to BCC2. T=1335.537, X_NI=0.11, X_TI=0.76, ΔT=4.132, NL: 0.285, NP(LIQUID)=0.981 NP(BCC2)=0.019\n",
      "Adding points to BCC2. T=1331.405, X_NI=0.11, X_TI=0.76, ΔT=4.132, NL: 0.280, NP(LIQUID)=0.981 NP(BCC2)=0.019\n",
      "Adding points to BCC2. T=1327.273, X_NI=0.11, X_TI=0.75, ΔT=4.132, NL: 0.274, NP(LIQUID)=0.981 NP(BCC2)=0.019\n",
      "Adding points to BCC2. T=1323.140, X_NI=0.12, X_TI=0.75, ΔT=4.132, NL: 0.269, NP(LIQUID)=0.981 NP(BCC2)=0.019\n",
      "Adding points to BCC2. T=1319.008, X_NI=0.12, X_TI=0.75, ΔT=4.132, NL: 0.264, NP(LIQUID)=0.981 NP(BCC2)=0.019\n",
      "Adding points to BCC2. T=1314.876, X_NI=0.12, X_TI=0.75, ΔT=4.132, NL: 0.259, NP(LIQUID)=0.981 NP(BCC2)=0.019\n",
      "Adding points to BCC2. T=1310.744, X_NI=0.12, X_TI=0.75, ΔT=4.132, NL: 0.254, NP(LIQUID)=0.981 NP(BCC2)=0.019\n",
      "Adding points to BCC2. T=1306.612, X_NI=0.12, X_TI=0.75, ΔT=4.132, NL: 0.249, NP(LIQUID)=0.981 NP(BCC2)=0.019\n",
      "Adding points to BCC2. T=1302.479, X_NI=0.12, X_TI=0.75, ΔT=4.132, NL: 0.245, NP(LIQUID)=0.981 NP(BCC2)=0.019\n",
      "Adding points to BCC2. T=1298.347, X_NI=0.12, X_TI=0.74, ΔT=4.132, NL: 0.240, NP(LIQUID)=0.981 NP(BCC2)=0.019\n",
      "Adding points to BCC2. T=1294.215, X_NI=0.13, X_TI=0.74, ΔT=4.132, NL: 0.235, NP(LIQUID)=0.981 NP(BCC2)=0.019\n",
      "Adding points to BCC2. T=1290.083, X_NI=0.13, X_TI=0.74, ΔT=4.132, NL: 0.231, NP(LIQUID)=0.981 NP(BCC2)=0.019\n",
      "Adding points to BCC2. New phases seen: {'NITI2'}.\n",
      "T=1285.950, X_NI=0.13, X_TI=0.74, ΔT=4.132, NL: 0.169, NP(LIQUID)=0.712 NP(BCC2)=0.132 NP(NITI2)=0.156\n",
      "Adding points to BCC2. T=1281.818, X_NI=0.14, X_TI=0.74, ΔT=4.132, NL: 0.118, NP(LIQUID)=0.673 NP(BCC2)=0.146 NP(NITI2)=0.181\n",
      "Adding points to BCC2. T=1277.686, X_NI=0.15, X_TI=0.74, ΔT=4.132, NL: 0.085, NP(LIQUID)=0.691 NP(BCC2)=0.136 NP(NITI2)=0.173\n",
      "Adding points to BCC2. T=1273.554, X_NI=0.16, X_TI=0.74, ΔT=4.132, NL: 0.061, NP(LIQUID)=0.704 NP(BCC2)=0.128 NP(NITI2)=0.168\n",
      "Adding points to BCC2. T=1269.421, X_NI=0.16, X_TI=0.74, ΔT=4.132, NL: 0.045, NP(LIQUID)=0.714 NP(BCC2)=0.122 NP(NITI2)=0.164\n",
      "Adding points to BCC2. T=1265.289, X_NI=0.17, X_TI=0.74, ΔT=4.132, NL: 0.033, NP(LIQUID)=0.720 NP(BCC2)=0.118 NP(NITI2)=0.162\n",
      "Adding points to BCC2. T=1261.157, X_NI=0.18, X_TI=0.74, ΔT=4.132, NL: 0.025, NP(LIQUID)=0.723 NP(BCC2)=0.115 NP(NITI2)=0.162\n",
      "Adding points to BCC2. T=1257.025, X_NI=0.19, X_TI=0.74, ΔT=4.132, NL: 0.018, NP(LIQUID)=0.722 NP(BCC2)=0.113 NP(NITI2)=0.164\n",
      "Adding points to BCC2. T=1252.893, X_NI=0.19, X_TI=0.74, ΔT=4.132, NL: 0.013, NP(LIQUID)=0.718 NP(BCC2)=0.113 NP(NITI2)=0.169\n",
      "Adding points to BCC2. T=1248.760, X_NI=0.20, X_TI=0.74, ΔT=4.132, NL: 0.010, NP(LIQUID)=0.708 NP(BCC2)=0.115 NP(NITI2)=0.176\n",
      "Adding points to BCC2. T=1244.628, X_NI=0.21, X_TI=0.74, ΔT=4.132, NL: 0.007, NP(LIQUID)=0.693 NP(BCC2)=0.119 NP(NITI2)=0.187\n",
      "Adding points to BCC2. T=1240.496, X_NI=0.21, X_TI=0.74, ΔT=4.132, NL: 0.005, NP(LIQUID)=0.670 NP(BCC2)=0.127 NP(NITI2)=0.204\n",
      "Adding points to BCC2. T=1236.364, X_NI=0.22, X_TI=0.75, ΔT=4.132, NL: 0.003, NP(LIQUID)=0.633 NP(BCC2)=0.138 NP(NITI2)=0.228\n",
      "Adding points to BCC2. T=1232.231, X_NI=0.23, X_TI=0.75, ΔT=4.132, NL: 0.002, NP(LIQUID)=0.577 NP(BCC2)=0.157 NP(NITI2)=0.266\n",
      "Adding points to BCC2. T=1228.099, X_NI=0.23, X_TI=0.75, ΔT=4.132, NL: 0.001, NP(LIQUID)=0.481 NP(BCC2)=0.190 NP(NITI2)=0.330\n",
      "Adding points to BCC2. T=1223.967, X_NI=0.24, X_TI=0.75, ΔT=4.132, NL: 4.45E-04, NP(LIQUID)=0.294 NP(BCC2)=0.254 NP(NITI2)=0.452\n",
      "Adding points to BCC2. No liquid phase found at T=1219.8347107438024, X_NI=0.24, X_TI=0.75 (Found ['NITI2' 'BCC2' '' '']). Stepping back and reducing step size.\n",
      "Adding points to BCC2. T=1223.967, X_NI=0.24, X_TI=0.75, ΔT=3.757, NL: 4.45E-04, NP(LIQUID)=1.000 NP(BCC2)=0.000 NP(NITI2)=0.000\n",
      "Adding points to BCC2. No liquid phase found at T=1220.2103681442532, X_NI=0.24, X_TI=0.75 (Found ['NITI2' 'BCC2' '' '']). Stepping back and reducing step size.\n",
      "Adding points to BCC2. T=1223.967, X_NI=0.24, X_TI=0.75, ΔT=3.415, NL: 4.45E-04, NP(LIQUID)=1.000 NP(BCC2)=0.000 NP(NITI2)=0.000\n",
      "Adding points to BCC2. No liquid phase found at T=1220.5518748719358, X_NI=0.24, X_TI=0.75 (Found ['NITI2' 'BCC2' '' '']). Stepping back and reducing step size.\n",
      "Adding points to BCC2. T=1223.967, X_NI=0.24, X_TI=0.75, ΔT=3.105, NL: 4.45E-04, NP(LIQUID)=1.000 NP(BCC2)=0.000 NP(NITI2)=0.000\n",
      "Adding points to BCC2. No liquid phase found at T=1220.8623355334653, X_NI=0.24, X_TI=0.75 (Found ['NITI2' 'BCC2' '' '']). Stepping back and reducing step size.\n",
      "Adding points to BCC2. T=1223.967, X_NI=0.24, X_TI=0.75, ΔT=2.822, NL: 4.45E-04, NP(LIQUID)=1.000 NP(BCC2)=0.000 NP(NITI2)=0.000\n",
      "Adding points to BCC2. No liquid phase found at T=1221.1445724984922, X_NI=0.24, X_TI=0.75 (Found ['NITI2' 'BCC2' '' '']). Stepping back and reducing step size.\n",
      "T=1223.967, X_NI=0.24, X_TI=0.75, ΔT=2.566, NL: 4.45E-04, NP(LIQUID)=1.000 NP(NITI2)=0.000\n",
      "Adding points to BCC2. No liquid phase found at T=1221.4011515576076, X_NI=0.24, X_TI=0.75 (Found ['NITI2' 'BCC2' '' '']). Stepping back and reducing step size.\n",
      "Adding points to BCC2. T=1223.967, X_NI=0.24, X_TI=0.75, ΔT=2.333, NL: 4.45E-04, NP(LIQUID)=1.000 NP(BCC2)=0.000 NP(NITI2)=0.000\n",
      "Adding points to BCC2. No liquid phase found at T=1221.6344052477125, X_NI=0.24, X_TI=0.75 (Found ['NITI2' 'BCC2' '' '']). Stepping back and reducing step size.\n",
      "T=1223.967, X_NI=0.24, X_TI=0.75, ΔT=2.120, NL: 4.45E-04, NP(LIQUID)=1.000 NP(NITI2)=0.000\n",
      "Adding points to BCC2. No liquid phase found at T=1221.8464540568987, X_NI=0.24, X_TI=0.75 (Found ['NITI2' 'BCC2' '' '']). Stepping back and reducing step size.\n",
      "Adding points to BCC2. T=1223.967, X_NI=0.24, X_TI=0.75, ΔT=1.928, NL: 4.45E-04, NP(LIQUID)=1.000 NP(BCC2)=0.000 NP(NITI2)=0.000\n",
      "Adding points to BCC2. No liquid phase found at T=1222.0392257016133, X_NI=0.24, X_TI=0.75 (Found ['NITI2' 'BCC2' '' '']). Stepping back and reducing step size.\n",
      "T=1223.967, X_NI=0.24, X_TI=0.75, ΔT=1.752, NL: 4.45E-04, NP(LIQUID)=1.000 NP(NITI2)=0.000\n",
      "Adding points to BCC2. No liquid phase found at T=1222.214472651354, X_NI=0.24, X_TI=0.75 (Found ['NITI2' 'BCC2' '' '']). Stepping back and reducing step size.\n",
      "Adding points to BCC2. T=1223.967, X_NI=0.24, X_TI=0.75, ΔT=1.593, NL: 4.45E-04, NP(LIQUID)=1.000 NP(BCC2)=0.000 NP(NITI2)=0.000\n",
      "Adding points to BCC2. No liquid phase found at T=1222.3737880602093, X_NI=0.24, X_TI=0.75 (Found ['NITI2' 'BCC2' '' '']). Stepping back and reducing step size.\n",
      "T=1223.967, X_NI=0.24, X_TI=0.75, ΔT=1.448, NL: 4.45E-04, NP(LIQUID)=1.000 NP(NITI2)=0.000\n",
      "Adding points to BCC2. No liquid phase found at T=1222.5186202500777, X_NI=0.24, X_TI=0.75 (Found ['NITI2' 'BCC2' '' '']). Stepping back and reducing step size.\n",
      "Adding points to BCC2. T=1223.967, X_NI=0.24, X_TI=0.75, ΔT=1.317, NL: 4.45E-04, NP(LIQUID)=1.000 NP(BCC2)=0.000\n",
      "Adding points to BCC2. No liquid phase found at T=1222.6502858772308, X_NI=0.24, X_TI=0.75 (Found ['NITI2' 'BCC2' '' '']). Stepping back and reducing step size.\n",
      "T=1223.967, X_NI=0.24, X_TI=0.75, ΔT=1.197, NL: 4.45E-04, NP(LIQUID)=1.000 NP(NITI2)=0.000\n",
      "Adding points to BCC2. No liquid phase found at T=1222.7699819019153, X_NI=0.24, X_TI=0.75 (Found ['NITI2' 'BCC2' '' '']). Stepping back and reducing step size.\n",
      "Adding points to BCC2. T=1223.967, X_NI=0.24, X_TI=0.75, ΔT=1.088, NL: 4.45E-04, NP(LIQUID)=1.000 NP(BCC2)=0.000 NP(NITI2)=0.000\n",
      "Adding points to BCC2. T=1222.879, X_NI=0.24, X_TI=0.75, ΔT=1.088, NL: 3.59E-04, NP(LIQUID)=0.796 NP(BCC2)=0.073 NP(NITI2)=0.131\n",
      "Adding points to BCC2. T=1221.791, X_NI=0.24, X_TI=0.75, ΔT=1.088, NL: 2.80E-04, NP(LIQUID)=0.768 NP(BCC2)=0.083 NP(NITI2)=0.149\n",
      "Adding points to BCC2. T=1220.703, X_NI=0.25, X_TI=0.75, ΔT=1.088, NL: 2.09E-04, NP(LIQUID)=0.730 NP(BCC2)=0.096 NP(NITI2)=0.174\n",
      "Adding points to BCC2. T=1219.614, X_NI=0.25, X_TI=0.75, ΔT=1.088, NL: 1.46E-04, NP(LIQUID)=0.674 NP(BCC2)=0.115 NP(NITI2)=0.210\n",
      "Adding points to BCC2. T=1218.526, X_NI=0.25, X_TI=0.75, ΔT=1.088, NL: 9.14E-05, NP(LIQUID)=0.587 NP(BCC2)=0.145 NP(NITI2)=0.267\n",
      "Liquid fraction below criterion 0.0001 . Stopping at fmt_comp_conds\n"
     ]
    }
   ],
   "source": [
    "res = simulate_scheil_solidification(dbf, comps, phases, composition, start_temperature=1700, step_temperature=5, verbose=True, eq_kwargs={'calc_opts': {'points': pts_dict}})"
   ]
  },
  {
   "cell_type": "code",
   "execution_count": 16,
   "metadata": {},
   "outputs": [
    {
     "data": {
      "text/plain": [
       "<matplotlib.legend.Legend at 0x12241a320>"
      ]
     },
     "execution_count": 16,
     "metadata": {},
     "output_type": "execute_result"
    },
    {
     "data": {
      "image/png": "[encoded data removed]",
      "text/plain": [
       "<Figure size 432x288 with 1 Axes>"
      ]
     },
     "metadata": {
      "needs_background": "light"
     },
     "output_type": "display_data"
    }
   ],
   "source": [
    "num_plt = np.sum(np.array(res.fraction_solid) > 0)\n",
    "xTi = [z[v.X('TI')] for z in res.x_liquid][-num_plt:]\n",
    "xNi = [z[v.X('NI')] for z in res.x_liquid][-num_plt:]\n",
    "T = res.temperatures[-num_plt:]\n",
    "plt.plot(xTi, T, label='Ti')\n",
    "plt.plot(xNi, T, label='Ni')\n",
    "plt.legend()"
   ]
  },
  {
   "cell_type": "code",
   "execution_count": 17,
   "metadata": {},
   "outputs": [],
   "source": [
    "serialize(res, 'Fe-Ni-Ti_CPTi-L24.json')"
   ]
  },
  {
   "cell_type": "code",
   "execution_count": 18,
   "metadata": {},
   "outputs": [
    {
     "data": {
      "text/plain": [
       "[<matplotlib.lines.Line2D at 0x122442e80>]"
      ]
     },
     "execution_count": 18,
     "metadata": {},
     "output_type": "execute_result"
    },
    {
     "data": {
      "image/png": "[encoded data removed]",
      "text/plain": [
       "<Figure size 432x288 with 1 Axes>"
      ]
     },
     "metadata": {
      "needs_background": "light"
     },
     "output_type": "display_data"
    }
   ],
   "source": [
    "ax = plt.gca(projection='triangular')\n",
    "ax.plot(xNi, xTi)"
   ]
  },
  {
   "cell_type": "markdown",
   "metadata": {},
   "source": [
    "## Ti64 Layer 33"
   ]
  },
  {
   "cell_type": "code",
   "execution_count": 23,
   "metadata": {},
   "outputs": [
    {
     "name": "stdout",
     "output_type": "stream",
     "text": [
      "{X_NI: 0.22727540256237252, X_TI: 0.36697535567956796}\n"
     ]
    }
   ],
   "source": [
    "W_i = {v.W('NI'): 0.249, v.W('TI'): 0.328}\n",
    "composition = W_to_X(W_i, dbf, comps)\n",
    "print(composition)"
   ]
  },
  {
   "cell_type": "code",
   "execution_count": 26,
   "metadata": {},
   "outputs": [
    {
     "name": "stdout",
     "output_type": "stream",
     "text": [
      "building callables... done\n",
      "T=1720.000, X_NI=0.23, X_TI=0.37, ΔT=5.000, NL: 1.000, NP(LIQUID)=1.000\n",
      "T=1715.000, X_NI=0.23, X_TI=0.37, ΔT=5.000, NL: 1.000, NP(LIQUID)=1.000\n",
      "T=1710.000, X_NI=0.23, X_TI=0.37, ΔT=5.000, NL: 1.000, NP(LIQUID)=1.000\n",
      "Adding points to C14. New phases seen: {'C14'}.\n",
      "T=1705.000, X_NI=0.23, X_TI=0.37, ΔT=5.000, NL: 0.899, NP(LIQUID)=0.899 NP(C14)=0.101\n",
      "Adding points to C14. T=1700.000, X_NI=0.23, X_TI=0.37, ΔT=5.000, NL: 0.799, NP(LIQUID)=0.889 NP(C14)=0.111\n",
      "Adding points to C14. T=1695.000, X_NI=0.24, X_TI=0.38, ΔT=5.000, NL: 0.724, NP(LIQUID)=0.906 NP(C14)=0.094\n",
      "Adding points to C14. T=1690.000, X_NI=0.24, X_TI=0.38, ΔT=5.000, NL: 0.665, NP(LIQUID)=0.919 NP(C14)=0.081\n",
      "Adding points to C14. T=1685.000, X_NI=0.25, X_TI=0.38, ΔT=5.000, NL: 0.618, NP(LIQUID)=0.929 NP(C14)=0.071\n",
      "Adding points to C14. T=1680.000, X_NI=0.25, X_TI=0.39, ΔT=5.000, NL: 0.579, NP(LIQUID)=0.937 NP(C14)=0.063\n",
      "Adding points to C14. T=1675.000, X_NI=0.26, X_TI=0.39, ΔT=5.000, NL: 0.547, NP(LIQUID)=0.943 NP(C14)=0.057\n",
      "Adding points to C14. T=1670.000, X_NI=0.26, X_TI=0.39, ΔT=5.000, NL: 0.519, NP(LIQUID)=0.949 NP(C14)=0.051\n",
      "Adding points to C14. T=1665.000, X_NI=0.26, X_TI=0.40, ΔT=5.000, NL: 0.494, NP(LIQUID)=0.953 NP(C14)=0.047\n",
      "Adding points to C14. T=1660.000, X_NI=0.27, X_TI=0.40, ΔT=5.000, NL: 0.473, NP(LIQUID)=0.957 NP(C14)=0.043\n",
      "Adding points to C14. T=1655.000, X_NI=0.27, X_TI=0.40, ΔT=5.000, NL: 0.454, NP(LIQUID)=0.960 NP(C14)=0.040\n",
      "Adding points to C14. T=1650.000, X_NI=0.27, X_TI=0.41, ΔT=5.000, NL: 0.438, NP(LIQUID)=0.963 NP(C14)=0.037\n",
      "Adding points to C14. T=1645.000, X_NI=0.28, X_TI=0.41, ΔT=5.000, NL: 0.423, NP(LIQUID)=0.966 NP(C14)=0.034\n",
      "Adding points to C14. T=1640.000, X_NI=0.28, X_TI=0.41, ΔT=5.000, NL: 0.409, NP(LIQUID)=0.968 NP(C14)=0.032\n",
      "Adding points to C14. T=1635.000, X_NI=0.28, X_TI=0.41, ΔT=5.000, NL: 0.397, NP(LIQUID)=0.970 NP(C14)=0.030\n",
      "Adding points to C14. T=1630.000, X_NI=0.28, X_TI=0.42, ΔT=5.000, NL: 0.385, NP(LIQUID)=0.972 NP(C14)=0.028\n",
      "Adding points to C14. T=1625.000, X_NI=0.29, X_TI=0.42, ΔT=5.000, NL: 0.375, NP(LIQUID)=0.973 NP(C14)=0.027\n",
      "Adding points to C14. T=1620.000, X_NI=0.29, X_TI=0.42, ΔT=5.000, NL: 0.365, NP(LIQUID)=0.975 NP(C14)=0.025\n",
      "Adding points to C14. T=1615.000, X_NI=0.29, X_TI=0.42, ΔT=5.000, NL: 0.357, NP(LIQUID)=0.976 NP(C14)=0.024\n",
      "Adding points to C14. T=1610.000, X_NI=0.29, X_TI=0.43, ΔT=5.000, NL: 0.348, NP(LIQUID)=0.977 NP(C14)=0.023\n",
      "Adding points to C14. T=1605.000, X_NI=0.30, X_TI=0.43, ΔT=5.000, NL: 0.341, NP(LIQUID)=0.978 NP(C14)=0.022\n",
      "Adding points to C14. T=1600.000, X_NI=0.30, X_TI=0.43, ΔT=5.000, NL: 0.334, NP(LIQUID)=0.979 NP(C14)=0.021\n",
      "Adding points to C14. T=1595.000, X_NI=0.30, X_TI=0.43, ΔT=5.000, NL: 0.327, NP(LIQUID)=0.980 NP(C14)=0.020\n",
      "Adding points to C14. T=1590.000, X_NI=0.30, X_TI=0.43, ΔT=5.000, NL: 0.321, NP(LIQUID)=0.981 NP(C14)=0.019\n",
      "Adding points to C14. T=1585.000, X_NI=0.30, X_TI=0.44, ΔT=5.000, NL: 0.315, NP(LIQUID)=0.982 NP(C14)=0.018\n",
      "Adding points to C14. T=1580.000, X_NI=0.31, X_TI=0.44, ΔT=5.000, NL: 0.309, NP(LIQUID)=0.982 NP(C14)=0.018\n",
      "Adding points to C14. T=1575.000, X_NI=0.31, X_TI=0.44, ΔT=5.000, NL: 0.304, NP(LIQUID)=0.983 NP(C14)=0.017\n",
      "Adding points to C14. T=1570.000, X_NI=0.31, X_TI=0.44, ΔT=5.000, NL: 0.299, NP(LIQUID)=0.984 NP(C14)=0.016\n",
      "Adding points to C14. T=1565.000, X_NI=0.31, X_TI=0.44, ΔT=5.000, NL: 0.294, NP(LIQUID)=0.984 NP(C14)=0.016\n",
      "Adding points to C14. T=1560.000, X_NI=0.31, X_TI=0.44, ΔT=5.000, NL: 0.290, NP(LIQUID)=0.985 NP(C14)=0.015\n",
      "Adding points to C14. T=1555.000, X_NI=0.32, X_TI=0.45, ΔT=5.000, NL: 0.286, NP(LIQUID)=0.985 NP(C14)=0.015\n",
      "Adding points to C14. T=1550.000, X_NI=0.32, X_TI=0.45, ΔT=5.000, NL: 0.281, NP(LIQUID)=0.986 NP(C14)=0.014\n",
      "Adding points to C14. T=1545.000, X_NI=0.32, X_TI=0.45, ΔT=5.000, NL: 0.278, NP(LIQUID)=0.986 NP(C14)=0.014\n",
      "Adding points to C14. T=1540.000, X_NI=0.32, X_TI=0.45, ΔT=5.000, NL: 0.274, NP(LIQUID)=0.987 NP(C14)=0.013\n",
      "Adding points to C14. T=1535.000, X_NI=0.32, X_TI=0.45, ΔT=5.000, NL: 0.270, NP(LIQUID)=0.987 NP(C14)=0.013\n",
      "Adding points to C14. T=1530.000, X_NI=0.32, X_TI=0.45, ΔT=5.000, NL: 0.267, NP(LIQUID)=0.988 NP(C14)=0.012\n",
      "Adding points to C14. Adding points to BCC2. New phases seen: {'BCC2'}.\n",
      "T=1525.000, X_NI=0.32, X_TI=0.46, ΔT=5.000, NL: 0.059, NP(LIQUID)=0.187 NP(BCC2)=0.767 NP(C14)=0.046\n",
      "Adding points to C14. Adding points to BCC2. T=1520.000, X_NI=0.37, X_TI=0.43, ΔT=5.000, NL: 0.049, NP(LIQUID)=0.819 NP(BCC2)=0.163 NP(C14)=0.018\n",
      "Adding points to C14. Adding points to BCC2. T=1515.000, X_NI=0.38, X_TI=0.43, ΔT=5.000, NL: 0.041, NP(LIQUID)=0.839 NP(BCC2)=0.143 NP(C14)=0.017\n",
      "Adding points to BCC2. Adding points to C14. T=1510.000, X_NI=0.39, X_TI=0.43, ΔT=5.000, NL: 0.035, NP(LIQUID)=0.856 NP(BCC2)=0.127 NP(C14)=0.017\n",
      "Adding points to BCC2. Adding points to C14. T=1505.000, X_NI=0.40, X_TI=0.42, ΔT=5.000, NL: 0.031, NP(LIQUID)=0.871 NP(BCC2)=0.113 NP(C14)=0.016\n",
      "Adding points to BCC2. Adding points to C14. T=1500.000, X_NI=0.41, X_TI=0.42, ΔT=5.000, NL: 0.027, NP(LIQUID)=0.883 NP(BCC2)=0.102 NP(C14)=0.015\n",
      "Adding points to C14. Adding points to BCC2. T=1495.000, X_NI=0.42, X_TI=0.41, ΔT=5.000, NL: 0.024, NP(LIQUID)=0.893 NP(BCC2)=0.092 NP(C14)=0.015\n",
      "Adding points to C14. Adding points to BCC2. T=1490.000, X_NI=0.43, X_TI=0.41, ΔT=5.000, NL: 0.022, NP(LIQUID)=0.902 NP(BCC2)=0.084 NP(C14)=0.014\n",
      "Adding points to BCC2. Adding points to C14. T=1485.000, X_NI=0.44, X_TI=0.41, ΔT=5.000, NL: 0.020, NP(LIQUID)=0.909 NP(BCC2)=0.077 NP(C14)=0.013\n",
      "Adding points to BCC2. Adding points to C14. T=1480.000, X_NI=0.44, X_TI=0.40, ΔT=5.000, NL: 0.018, NP(LIQUID)=0.916 NP(BCC2)=0.072 NP(C14)=0.013\n",
      "Adding points to C14. Adding points to BCC2. T=1475.000, X_NI=0.45, X_TI=0.40, ΔT=5.000, NL: 0.017, NP(LIQUID)=0.922 NP(BCC2)=0.066 NP(C14)=0.012\n",
      "Adding points to C14. Adding points to BCC2. T=1470.000, X_NI=0.46, X_TI=0.40, ΔT=5.000, NL: 0.016, NP(LIQUID)=0.927 NP(BCC2)=0.062 NP(C14)=0.011\n",
      "Adding points to C14. Adding points to BCC2. T=1465.000, X_NI=0.46, X_TI=0.39, ΔT=5.000, NL: 0.015, NP(LIQUID)=0.931 NP(BCC2)=0.058 NP(C14)=0.011\n",
      "Adding points to BCC2. Adding points to C14. T=1460.000, X_NI=0.47, X_TI=0.39, ΔT=5.000, NL: 0.014, NP(LIQUID)=0.935 NP(BCC2)=0.055 NP(C14)=0.010\n",
      "Adding points to C14. Adding points to BCC2. T=1455.000, X_NI=0.47, X_TI=0.39, ΔT=5.000, NL: 0.013, NP(LIQUID)=0.939 NP(BCC2)=0.052 NP(C14)=0.010\n",
      "Adding points to C14. Adding points to BCC2. T=1450.000, X_NI=0.48, X_TI=0.39, ΔT=5.000, NL: 0.012, NP(LIQUID)=0.942 NP(BCC2)=0.049 NP(C14)=0.009\n",
      "Adding points to BCC2. Adding points to C14. T=1445.000, X_NI=0.48, X_TI=0.38, ΔT=5.000, NL: 0.011, NP(LIQUID)=0.945 NP(BCC2)=0.046 NP(C14)=0.009\n",
      "Adding points to BCC2. Adding points to C14. T=1440.000, X_NI=0.49, X_TI=0.38, ΔT=5.000, NL: 0.011, NP(LIQUID)=0.947 NP(BCC2)=0.044 NP(C14)=0.008\n",
      "Adding points to C14. Adding points to BCC2. T=1435.000, X_NI=0.49, X_TI=0.38, ΔT=5.000, NL: 0.010, NP(LIQUID)=0.950 NP(BCC2)=0.042 NP(C14)=0.008\n",
      "Adding points to BCC2. Adding points to C14. T=1430.000, X_NI=0.50, X_TI=0.38, ΔT=5.000, NL: 0.010, NP(LIQUID)=0.952 NP(BCC2)=0.041 NP(C14)=0.008\n",
      "Adding points to BCC2. Adding points to C14. T=1425.000, X_NI=0.50, X_TI=0.38, ΔT=5.000, NL: 0.009, NP(LIQUID)=0.954 NP(BCC2)=0.039 NP(C14)=0.007\n",
      "Adding points to BCC2. Adding points to C14. T=1420.000, X_NI=0.50, X_TI=0.37, ΔT=5.000, NL: 0.009, NP(LIQUID)=0.955 NP(BCC2)=0.037 NP(C14)=0.007\n",
      "Adding points to BCC2. Adding points to C14. T=1415.000, X_NI=0.51, X_TI=0.37, ΔT=5.000, NL: 0.009, NP(LIQUID)=0.957 NP(BCC2)=0.036 NP(C14)=0.007\n",
      "Adding points to BCC2. Adding points to C14. T=1410.000, X_NI=0.51, X_TI=0.37, ΔT=5.000, NL: 0.008, NP(LIQUID)=0.959 NP(BCC2)=0.035 NP(C14)=0.007\n",
      "Adding points to BCC2. Adding points to C14. T=1405.000, X_NI=0.52, X_TI=0.37, ΔT=5.000, NL: 0.008, NP(LIQUID)=0.960 NP(BCC2)=0.034 NP(C14)=0.006\n",
      "Adding points to BCC2. Adding points to C14. T=1400.000, X_NI=0.52, X_TI=0.36, ΔT=5.000, NL: 0.008, NP(LIQUID)=0.961 NP(BCC2)=0.033 NP(C14)=0.006\n",
      "Adding points to BCC2. Adding points to C14. T=1395.000, X_NI=0.52, X_TI=0.36, ΔT=5.000, NL: 0.007, NP(LIQUID)=0.963 NP(BCC2)=0.032 NP(C14)=0.006\n",
      "Adding points to BCC2. Adding points to C14. T=1390.000, X_NI=0.53, X_TI=0.36, ΔT=5.000, NL: 0.007, NP(LIQUID)=0.964 NP(BCC2)=0.031 NP(C14)=0.006\n",
      "Adding points to BCC2. Adding points to C14. T=1385.000, X_NI=0.53, X_TI=0.36, ΔT=5.000, NL: 0.007, NP(LIQUID)=0.965 NP(BCC2)=0.030 NP(C14)=0.005\n",
      "Adding points to BCC2. Adding points to C14. T=1380.000, X_NI=0.53, X_TI=0.36, ΔT=5.000, NL: 0.007, NP(LIQUID)=0.966 NP(BCC2)=0.029 NP(C14)=0.005\n",
      "Adding points to BCC2. Adding points to C14. New phases seen: {'NI3TI'}.\n",
      "No liquid phase found at T=1375, X_NI=0.54, X_TI=0.36 (Found ['NI3TI' 'BCC2' 'C14' '']). Stepping back and reducing step size.\n",
      "Adding points to BCC2. T=1380.000, X_NI=0.54, X_TI=0.36, ΔT=4.545, NL: 0.007, NP(LIQUID)=1.000 NP(BCC2)=0.000\n",
      "Adding points to BCC2. Adding points to C14. No liquid phase found at T=1375.4545454545455, X_NI=0.54, X_TI=0.36 (Found ['NI3TI' 'BCC2' 'C14' '']). Stepping back and reducing step size.\n",
      "T=1380.000, X_NI=0.54, X_TI=0.36, ΔT=4.132, NL: 0.007, NP(LIQUID)=1.000\n",
      "Adding points to BCC2. Adding points to C14. No liquid phase found at T=1375.8677685950413, X_NI=0.54, X_TI=0.36 (Found ['NI3TI' 'BCC2' 'C14' '']). Stepping back and reducing step size.\n",
      "T=1380.000, X_NI=0.54, X_TI=0.36, ΔT=3.757, NL: 0.007, NP(LIQUID)=1.000\n",
      "Adding points to BCC2. Adding points to C14. No liquid phase found at T=1376.243425995492, X_NI=0.54, X_TI=0.36 (Found ['NI3TI' 'BCC2' 'C14' '']). Stepping back and reducing step size.\n",
      "T=1380.000, X_NI=0.54, X_TI=0.36, ΔT=3.415, NL: 0.007, NP(LIQUID)=1.000\n",
      "Adding points to BCC2. Adding points to C14. No liquid phase found at T=1376.5849327231747, X_NI=0.54, X_TI=0.36 (Found ['NI3TI' 'BCC2' 'C14' '']). Stepping back and reducing step size.\n",
      "T=1380.000, X_NI=0.54, X_TI=0.36, ΔT=3.105, NL: 0.007, NP(LIQUID)=1.000\n",
      "Adding points to BCC2. Adding points to C14. No liquid phase found at T=1376.8953933847042, X_NI=0.54, X_TI=0.36 (Found ['NI3TI' 'BCC2' 'C14' '']). Stepping back and reducing step size.\n",
      "T=1380.000, X_NI=0.54, X_TI=0.36, ΔT=2.822, NL: 0.007, NP(LIQUID)=1.000\n",
      "Adding points to BCC2. Adding points to C14. No liquid phase found at T=1377.177630349731, X_NI=0.54, X_TI=0.36 (Found ['NI3TI' 'BCC2' 'C14' '']). Stepping back and reducing step size.\n",
      "T=1380.000, X_NI=0.54, X_TI=0.36, ΔT=2.566, NL: 0.007, NP(LIQUID)=1.000\n",
      "Adding points to BCC2. Adding points to C14. No liquid phase found at T=1377.4342094088465, X_NI=0.54, X_TI=0.36 (Found ['NI3TI' 'BCC2' 'C14' '']). Stepping back and reducing step size.\n",
      "T=1380.000, X_NI=0.54, X_TI=0.36, ΔT=2.333, NL: 0.007, NP(LIQUID)=1.000\n",
      "Adding points to BCC2. Adding points to C14. No liquid phase found at T=1377.6674630989514, X_NI=0.54, X_TI=0.36 (Found ['NI3TI' 'BCC2' 'C14' '']). Stepping back and reducing step size.\n",
      "T=1380.000, X_NI=0.54, X_TI=0.36, ΔT=2.120, NL: 0.007, NP(LIQUID)=1.000\n",
      "Adding points to BCC2. Adding points to C14. T=1377.880, X_NI=0.54, X_TI=0.36, ΔT=2.120, NL: 0.006, NP(LIQUID)=0.986 NP(BCC2)=0.012 NP(C14)=0.002\n",
      "Adding points to BCC2. Adding points to C14. No liquid phase found at T=1375.7590238162752, X_NI=0.54, X_TI=0.35 (Found ['NI3TI' 'BCC2' 'C14' '']). Stepping back and reducing step size.\n",
      "Adding points to BCC2. T=1377.880, X_NI=0.54, X_TI=0.35, ΔT=1.928, NL: 0.006, NP(LIQUID)=1.000 NP(BCC2)=0.000\n",
      "Adding points to BCC2. Adding points to C14. No liquid phase found at T=1375.9517954609898, X_NI=0.54, X_TI=0.35 (Found ['NI3TI' 'BCC2' 'C14' '']). Stepping back and reducing step size.\n",
      "T=1377.880, X_NI=0.54, X_TI=0.35, ΔT=1.752, NL: 0.006, NP(LIQUID)=1.000\n",
      "Adding points to BCC2. Adding points to C14. No liquid phase found at T=1376.1270424107306, X_NI=0.54, X_TI=0.35 (Found ['NI3TI' 'BCC2' 'C14' '']). Stepping back and reducing step size.\n",
      "T=1377.880, X_NI=0.54, X_TI=0.35, ΔT=1.593, NL: 0.006, NP(LIQUID)=1.000\n",
      "Adding points to BCC2. Adding points to C14. No liquid phase found at T=1376.2863578195859, X_NI=0.54, X_TI=0.35 (Found ['NI3TI' 'BCC2' 'C14' '']). Stepping back and reducing step size.\n",
      "T=1377.880, X_NI=0.54, X_TI=0.35, ΔT=1.448, NL: 0.006, NP(LIQUID)=1.000\n",
      "Adding points to BCC2. Adding points to C14. No liquid phase found at T=1376.4311900094542, X_NI=0.54, X_TI=0.35 (Found ['NI3TI' 'BCC2' 'C14' '']). Stepping back and reducing step size.\n",
      "T=1377.880, X_NI=0.54, X_TI=0.35, ΔT=1.317, NL: 0.006, NP(LIQUID)=1.000\n",
      "Adding points to BCC2. Adding points to C14. No liquid phase found at T=1376.5628556366073, X_NI=0.54, X_TI=0.35 (Found ['NI3TI' 'BCC2' 'C14' '']). Stepping back and reducing step size.\n",
      "T=1377.880, X_NI=0.54, X_TI=0.35, ΔT=1.197, NL: 0.006, NP(LIQUID)=1.000\n",
      "Adding points to BCC2. Adding points to C14. No liquid phase found at T=1376.6825516612919, X_NI=0.54, X_TI=0.35 (Found ['NI3TI' 'BCC2' 'C14' '']). Stepping back and reducing step size.\n",
      "T=1377.880, X_NI=0.54, X_TI=0.35, ΔT=1.088, NL: 0.006, NP(LIQUID)=1.000\n",
      "Adding points to BCC2. Adding points to C14. No liquid phase found at T=1376.791366229187, X_NI=0.54, X_TI=0.35 (Found ['NI3TI' 'BCC2' 'C14' '']). Stepping back and reducing step size.\n",
      "T=1377.880, X_NI=0.54, X_TI=0.35, ΔT=0.989, NL: 0.006, NP(LIQUID)=1.000\n",
      "Adding points to BCC2. Adding points to C14. No liquid phase found at T=1376.890288563637, X_NI=0.54, X_TI=0.35 (Found ['NI3TI' 'BCC2' 'C14' '']). Stepping back and reducing step size.\n",
      "T=1377.880, X_NI=0.54, X_TI=0.35, ΔT=0.899, NL: 0.006, NP(LIQUID)=1.000\n",
      "Adding points to BCC2. Adding points to C14. No liquid phase found at T=1376.9802179585915, X_NI=0.54, X_TI=0.35 (Found ['NI3TI' 'BCC2' 'C14' '']). Stepping back and reducing step size.\n",
      "T=1377.880, X_NI=0.54, X_TI=0.35, ΔT=0.818, NL: 0.006, NP(LIQUID)=1.000\n",
      "Adding points to BCC2. Adding points to C14. No liquid phase found at T=1377.0619719540048, X_NI=0.54, X_TI=0.35 (Found ['NI3TI' 'BCC2' 'C14' '']). Stepping back and reducing step size.\n",
      "T=1377.880, X_NI=0.54, X_TI=0.35, ΔT=0.743, NL: 0.006, NP(LIQUID)=1.000\n",
      "Adding points to BCC2. Adding points to C14. No liquid phase found at T=1377.136293768017, X_NI=0.54, X_TI=0.35 (Found ['NI3TI' 'BCC2' 'C14' '']). Stepping back and reducing step size.\n",
      "T=1377.880, X_NI=0.54, X_TI=0.35, ΔT=0.676, NL: 0.006, NP(LIQUID)=1.000\n",
      "Adding points to BCC2. Adding points to C14. No liquid phase found at T=1377.2038590534823, X_NI=0.54, X_TI=0.35 (Found ['NI3TI' 'BCC2' 'C14' '']). Stepping back and reducing step size.\n",
      "T=1377.880, X_NI=0.54, X_TI=0.35, ΔT=0.614, NL: 0.006, NP(LIQUID)=1.000\n",
      "Adding points to BCC2. Adding points to C14. No liquid phase found at T=1377.2652820402693, X_NI=0.54, X_TI=0.35 (Found ['NI3TI' 'BCC2' 'C14' '']). Stepping back and reducing step size.\n",
      "T=1377.880, X_NI=0.54, X_TI=0.35, ΔT=0.558, NL: 0.006, NP(LIQUID)=1.000\n",
      "Adding points to BCC2. Adding points to C14. No liquid phase found at T=1377.3211211191663, X_NI=0.54, X_TI=0.35 (Found ['NI3TI' 'BCC2' 'C14' '']). Stepping back and reducing step size.\n",
      "T=1377.880, X_NI=0.54, X_TI=0.35, ΔT=0.508, NL: 0.006, NP(LIQUID)=1.000\n",
      "Adding points to BCC2. Adding points to C14. No liquid phase found at T=1377.3718839181638, X_NI=0.54, X_TI=0.35 (Found ['NI3TI' 'BCC2' 'C14' '']). Stepping back and reducing step size.\n",
      "T=1377.880, X_NI=0.54, X_TI=0.35, ΔT=0.461, NL: 0.006, NP(LIQUID)=1.000\n",
      "Adding points to BCC2. Adding points to C14. No liquid phase found at T=1377.4180319172524, X_NI=0.54, X_TI=0.35 (Found ['NI3TI' 'BCC2' 'C14' '']). Maximum step size reduction exceeded. Stopping.\n"
     ]
    }
   ],
   "source": [
    "res = simulate_scheil_solidification(dbf, comps, phases, composition, start_temperature=1720, step_temperature=5, verbose=True, eq_kwargs={'calc_opts': {'points': pts_dict}})"
   ]
  },
  {
   "cell_type": "code",
   "execution_count": 27,
   "metadata": {},
   "outputs": [
    {
     "data": {
      "image/png": "[encoded data removed]",
      "text/plain": [
       "<Figure size 432x288 with 1 Axes>"
      ]
     },
     "metadata": {
      "needs_background": "light"
     },
     "output_type": "display_data"
    },
    {
     "data": {
      "text/plain": [
       "[<matplotlib.lines.Line2D at 0x121743a90>]"
      ]
     },
     "execution_count": 27,
     "metadata": {},
     "output_type": "execute_result"
    },
    {
     "data": {
      "image/png": "[encoded data removed]",
      "text/plain": [
       "<Figure size 432x288 with 1 Axes>"
      ]
     },
     "metadata": {
      "needs_background": "light"
     },
     "output_type": "display_data"
    }
   ],
   "source": [
    "num_plt = np.sum(np.array(res.fraction_solid) > 0)\n",
    "xTi = [z[v.X('TI')] for z in res.x_liquid][-num_plt:]\n",
    "xNi = [z[v.X('NI')] for z in res.x_liquid][-num_plt:]\n",
    "T = res.temperatures[-num_plt:]\n",
    "plt.plot(xTi, T, label='Ti')\n",
    "plt.plot(xNi, T, label='Ni')\n",
    "plt.legend()\n",
    "plt.show()\n",
    "\n",
    "plt.figure()\n",
    "ax = plt.gca(projection='triangular')\n",
    "ax.plot(xNi, xTi)"
   ]
  },
  {
   "cell_type": "code",
   "execution_count": 28,
   "metadata": {},
   "outputs": [],
   "source": [
    "serialize(res, 'Fe-Ni-Ti_Ti64-L26.json')"
   ]
  },
  {
   "cell_type": "markdown",
   "metadata": {},
   "source": [
    "# Path\n",
    "\n",
    "Scheil path between pure Ti and Invar-36"
   ]
  },
  {
   "cell_type": "code",
   "execution_count": 23,
   "metadata": {},
   "outputs": [
    {
     "ename": "NameError",
     "evalue": "name 'comp_interp' is not defined",
     "output_type": "error",
     "traceback": [
      "\u001b[0;31m---------------------------------------------------------------------------\u001b[0m",
      "\u001b[0;31mNameError\u001b[0m                                 Traceback (most recent call last)",
      "\u001b[0;32m<ipython-input-23-84968baa9986>\u001b[0m in \u001b[0;36m<module>\u001b[0;34m\u001b[0m\n\u001b[1;32m      4\u001b[0m \u001b[0mall_comps\u001b[0m \u001b[0;34m=\u001b[0m \u001b[0;34m[\u001b[0m\u001b[0;34m]\u001b[0m  \u001b[0;31m# mole fraction\u001b[0m\u001b[0;34m\u001b[0m\u001b[0;34m\u001b[0m\u001b[0m\n\u001b[1;32m      5\u001b[0m \u001b[0;32mfor\u001b[0m \u001b[0mmix\u001b[0m \u001b[0;32min\u001b[0m \u001b[0mnp\u001b[0m\u001b[0;34m.\u001b[0m\u001b[0mlinspace\u001b[0m\u001b[0;34m(\u001b[0m\u001b[0;36m0\u001b[0m\u001b[0;34m,\u001b[0m \u001b[0;36m1\u001b[0m\u001b[0;34m,\u001b[0m \u001b[0;36m51\u001b[0m\u001b[0;34m)\u001b[0m\u001b[0;34m:\u001b[0m\u001b[0;34m\u001b[0m\u001b[0;34m\u001b[0m\u001b[0m\n\u001b[0;32m----> 6\u001b[0;31m     \u001b[0mall_comps\u001b[0m\u001b[0;34m.\u001b[0m\u001b[0mappend\u001b[0m\u001b[0;34m(\u001b[0m\u001b[0mW_to_X\u001b[0m\u001b[0;34m(\u001b[0m\u001b[0mcomp_interp\u001b[0m\u001b[0;34m(\u001b[0m\u001b[0mstart\u001b[0m\u001b[0;34m,\u001b[0m \u001b[0mend\u001b[0m\u001b[0;34m,\u001b[0m \u001b[0mmix\u001b[0m\u001b[0;34m)\u001b[0m\u001b[0;34m,\u001b[0m \u001b[0mdbf\u001b[0m\u001b[0;34m,\u001b[0m \u001b[0mcomps\u001b[0m\u001b[0;34m)\u001b[0m\u001b[0;34m)\u001b[0m\u001b[0;34m\u001b[0m\u001b[0;34m\u001b[0m\u001b[0m\n\u001b[0m",
      "\u001b[0;31mNameError\u001b[0m: name 'comp_interp' is not defined"
     ]
    }
   ],
   "source": [
    "start = {v.W('NI'): 0.0005, v.W('TI'): 1.0-0.001} # pure Ti\n",
    "end = {v.W('NI'): 0.36-0.005, v.W('TI'): 0.01}  # Invar-36\n",
    "\n",
    "all_comps = []  # mole fraction\n",
    "for mix in np.linspace(0, 1, 51):\n",
    "    all_comps.append(W_to_X(comp_interp(start, end, mix), dbf, comps))"
   ]
  },
  {
   "cell_type": "code",
   "execution_count": 122,
   "metadata": {},
   "outputs": [],
   "source": [
    "def fmt_comps(comp_conds):\n",
    "    return '-'.join(['{}={:0.2f}'.format(c, val) for c, val in comp_conds.items()])"
   ]
  },
  {
   "cell_type": "code",
   "execution_count": 123,
   "metadata": {},
   "outputs": [],
   "source": [
    "def fmt_comps(comp_conds):\n",
    "    return '-'.join(['{}={:0.2f}'.format(c, val) for c, val in comp_conds.items()])\n",
    "prefix = 'Fe-Ni-Ti_PATH_f'\n",
    "dT = 5\n",
    "for composition in all_comps:\n",
    "    formatted_name = fmt_comps(composition)\n",
    "    print(formatted_name)\n",
    "    res = simulate_scheil_solidification(dbf, comps, phases, composition, start_temperature=2000, step_temperature=dT, verbose=False, eq_kwargs={'calc_opts': {'points': pts_dict}})\n",
    "    print(formatted_name)\n",
    "    for ph, amnts in res.phase_amounts.items():\n",
    "        print(f'{ph}: {amnts[-1]:0.4f}')\n",
    "#     plt.figure()\n",
    "#     num_plt = np.sum(np.array(res.fraction_solid) > 0)\n",
    "#     xTi = [z[v.X('TI')] for z in res.x_liquid][-num_plt:]\n",
    "#     xNi = [z[v.X('NI')] for z in res.x_liquid][-num_plt:]\n",
    "#     T = res.temperatures[-num_plt:]\n",
    "#     plt.plot(xTi, T, label='Ti')\n",
    "#     plt.plot(xNi, T, label='Ni')\n",
    "#     plt.title(formatted_name)\n",
    "#     plt.legend()\n",
    "#     plt.show()\n",
    "\n",
    "#     fig = plt.figure()\n",
    "#     ax = fig.gca(projection='triangular')\n",
    "#     ax.plot(xNi, xTi)\n",
    "#     ax.set_xlabel('Ni')\n",
    "#     ax.set_ylabel('Ti')\n",
    "#     ax.set_title(formatted_name)\n",
    "#     fig.show()\n",
    "\n",
    "    serialize(res, f'{prefix}_dT={dT}{formatted_name}.json')"
   ]
  },
  {
   "cell_type": "code",
   "execution_count": 125,
   "metadata": {},
   "outputs": [
    {
     "name": "stdout",
     "output_type": "stream",
     "text": [
      "X_NI=0.00-X_TI=1.00\n",
      "X_NI=0.00-X_TI=1.00\n",
      "A1: 0.0000\n",
      "A2: 0.0000\n",
      "A3: 0.0000\n",
      "BCC2: 0.9999\n",
      "C14: 0.0000\n",
      "FCC4: 0.0000\n",
      "NI3TI: 0.0000\n",
      "NITI2: 0.0001\n",
      "X_NI=0.01-X_TI=0.98\n",
      "X_NI=0.01-X_TI=0.98\n",
      "A1: 0.0000\n",
      "A2: 0.0000\n",
      "A3: 0.0000\n",
      "BCC2: 0.9929\n",
      "C14: 0.0000\n",
      "FCC4: 0.0000\n",
      "NI3TI: 0.0000\n",
      "NITI2: 0.0071\n",
      "X_NI=0.01-X_TI=0.97\n",
      "X_NI=0.01-X_TI=0.97\n",
      "A1: 0.0000\n",
      "A2: 0.0000\n",
      "A3: 0.0000\n",
      "BCC2: 0.9837\n",
      "C14: 0.0000\n",
      "FCC4: 0.0000\n",
      "NI3TI: 0.0000\n",
      "NITI2: 0.0163\n",
      "X_NI=0.02-X_TI=0.95\n",
      "Convergence failure: T=1595 and X_NI=0.07, X_TI=0.85\n",
      "Convergence failure: T=1504.5454545454554 and X_NI=0.09, X_TI=0.82\n",
      "Convergence failure: T=1269.4214876033052 and X_NI=0.16, X_TI=0.74\n",
      "X_NI=0.02-X_TI=0.95\n",
      "A1: 0.0000\n",
      "A2: 0.0000\n",
      "A3: 0.0000\n",
      "BCC2: 0.9724\n",
      "C14: 0.0000\n",
      "FCC4: 0.0000\n",
      "NI3TI: 0.0000\n",
      "NITI2: 0.0276\n",
      "X_NI=0.02-X_TI=0.93\n",
      "Convergence failure: T=1595 and X_NI=0.06, X_TI=0.85\n",
      "Convergence failure: T=1500.000000000001 and X_NI=0.09, X_TI=0.82\n",
      "X_NI=0.02-X_TI=0.93\n",
      "A1: 0.0000\n",
      "A2: 0.0000\n",
      "A3: 0.0000\n",
      "BCC2: 0.9597\n",
      "C14: 0.0000\n",
      "FCC4: 0.0000\n",
      "NI3TI: 0.0000\n",
      "NITI2: 0.0403\n",
      "X_NI=0.03-X_TI=0.91\n",
      "Convergence failure: T=1580 and X_NI=0.06, X_TI=0.85\n",
      "Convergence failure: T=1475.909090909092 and X_NI=0.09, X_TI=0.81\n",
      "X_NI=0.03-X_TI=0.91\n",
      "A1: 0.0000\n",
      "A2: 0.0000\n",
      "A3: 0.0000\n",
      "BCC2: 0.9451\n",
      "C14: 0.0000\n",
      "FCC4: 0.0000\n",
      "NI3TI: 0.0000\n",
      "NITI2: 0.0549\n",
      "X_NI=0.04-X_TI=0.90\n",
      "Convergence failure: T=1580 and X_NI=0.06, X_TI=0.84\n",
      "Convergence failure: T=1453.1818181818194 and X_NI=0.09, X_TI=0.80\n",
      "X_NI=0.04-X_TI=0.90\n",
      "A1: 0.0000\n",
      "A2: 0.0000\n",
      "A3: 0.0000\n",
      "BCC2: 0.9282\n",
      "C14: 0.0000\n",
      "FCC4: 0.0000\n",
      "NI3TI: 0.0000\n",
      "NITI2: 0.0718\n",
      "X_NI=0.04-X_TI=0.88\n",
      "Convergence failure: T=1565 and X_NI=0.06, X_TI=0.84\n",
      "Convergence failure: T=1433.6363636363649 and X_NI=0.09, X_TI=0.79\n",
      "X_NI=0.04-X_TI=0.88\n",
      "A1: 0.0000\n",
      "A2: 0.0000\n",
      "A3: 0.0000\n",
      "BCC2: 0.9089\n",
      "C14: 0.0000\n",
      "FCC4: 0.0000\n",
      "NI3TI: 0.0000\n",
      "NITI2: 0.0911\n",
      "X_NI=0.05-X_TI=0.86\n",
      "Convergence failure: T=1545 and X_NI=0.06, X_TI=0.83\n",
      "Convergence failure: T=1368.1818181818198 and X_NI=0.10, X_TI=0.77\n",
      "X_NI=0.05-X_TI=0.86\n",
      "A1: 0.0000\n",
      "A2: 0.0000\n",
      "A3: 0.0000\n",
      "BCC2: 0.8868\n",
      "C14: 0.0000\n",
      "FCC4: 0.0000\n",
      "NI3TI: 0.0000\n",
      "NITI2: 0.1132\n",
      "X_NI=0.05-X_TI=0.84\n",
      "Convergence failure: T=1530 and X_NI=0.06, X_TI=0.83\n",
      "Convergence failure: T=1366.8181818181833 and X_NI=0.10, X_TI=0.77\n",
      "X_NI=0.05-X_TI=0.84\n",
      "A1: 0.0000\n",
      "A2: 0.0000\n",
      "A3: 0.0000\n",
      "BCC2: 0.8608\n",
      "C14: 0.0000\n",
      "FCC4: 0.0000\n",
      "NI3TI: 0.0000\n",
      "NITI2: 0.1392\n",
      "X_NI=0.06-X_TI=0.83\n",
      "Convergence failure: T=1520 and X_NI=0.06, X_TI=0.82\n",
      "Convergence failure: T=1352.2727272727288 and X_NI=0.10, X_TI=0.76\n",
      "X_NI=0.06-X_TI=0.83\n",
      "A1: 0.0000\n",
      "A2: 0.0000\n",
      "A3: 0.0000\n",
      "BCC2: 0.8304\n",
      "C14: 0.0000\n",
      "FCC4: 0.0000\n",
      "NI3TI: 0.0000\n",
      "NITI2: 0.1696\n",
      "X_NI=0.07-X_TI=0.81\n",
      "X_NI=0.07-X_TI=0.81\n",
      "A1: 0.0000\n",
      "A2: 0.0000\n",
      "A3: 0.0000\n",
      "BCC2: 0.7984\n",
      "C14: 0.0000\n",
      "FCC4: 0.0000\n",
      "NI3TI: 0.0000\n",
      "NITI2: 0.2016\n",
      "X_NI=0.07-X_TI=0.79\n",
      "Convergence failure: T=1440 and X_NI=0.07, X_TI=0.79\n",
      "Convergence failure: T=1299.5454545454559 and X_NI=0.11, X_TI=0.74\n",
      "X_NI=0.07-X_TI=0.79\n",
      "A1: 0.0000\n",
      "A2: 0.0000\n",
      "A3: 0.0000\n",
      "BCC2: 0.7510\n",
      "C14: 0.0000\n",
      "FCC4: 0.0000\n",
      "NI3TI: 0.0000\n",
      "NITI2: 0.2490\n",
      "X_NI=0.08-X_TI=0.77\n",
      "Convergence failure: T=1390 and X_NI=0.08, X_TI=0.77\n",
      "X_NI=0.08-X_TI=0.77\n",
      "A1: 0.0000\n",
      "A2: 0.0000\n",
      "A3: 0.0000\n",
      "BCC2: 0.6980\n",
      "C14: 0.0000\n",
      "FCC4: 0.0000\n",
      "NI3TI: 0.0000\n",
      "NITI2: 0.3020\n",
      "X_NI=0.09-X_TI=0.76\n",
      "X_NI=0.09-X_TI=0.76\n",
      "A1: 0.0000\n",
      "A2: 0.0000\n",
      "A3: 0.0000\n",
      "BCC2: 0.6315\n",
      "C14: 0.0000\n",
      "FCC4: 0.0000\n",
      "NI3TI: 0.0000\n",
      "NITI2: 0.3685\n",
      "X_NI=0.09-X_TI=0.74\n",
      "X_NI=0.09-X_TI=0.74\n",
      "A1: 0.0000\n",
      "A2: 0.0000\n",
      "A3: 0.0000\n",
      "BCC2: 0.5406\n",
      "C14: 0.0000\n",
      "FCC4: 0.0000\n",
      "NI3TI: 0.0000\n",
      "NITI2: 0.4594\n",
      "X_NI=0.10-X_TI=0.72\n",
      "X_NI=0.10-X_TI=0.72\n",
      "A1: 0.0000\n",
      "A2: 0.0000\n",
      "A3: 0.0000\n",
      "BCC2: 0.3984\n",
      "C14: 0.0000\n",
      "FCC4: 0.0000\n",
      "NI3TI: 0.0000\n",
      "NITI2: 0.6016\n",
      "X_NI=0.10-X_TI=0.70\n",
      "X_NI=0.10-X_TI=0.70\n",
      "A1: 0.0000\n",
      "A2: 0.0000\n",
      "A3: 0.0000\n",
      "BCC2: 0.4418\n",
      "C14: 0.0000\n",
      "FCC4: 0.0000\n",
      "NI3TI: 0.0000\n",
      "NITI2: 0.5582\n",
      "X_NI=0.11-X_TI=0.68\n",
      "X_NI=0.11-X_TI=0.68\n",
      "A1: 0.0000\n",
      "A2: 0.0000\n",
      "A3: 0.0000\n",
      "BCC2: 0.4892\n",
      "C14: 0.0000\n",
      "FCC4: 0.0000\n",
      "NI3TI: 0.0000\n",
      "NITI2: 0.5108\n",
      "X_NI=0.12-X_TI=0.66\n",
      "X_NI=0.12-X_TI=0.66\n",
      "A1: 0.0000\n",
      "A2: 0.0000\n",
      "A3: 0.0000\n",
      "BCC2: 0.5154\n",
      "C14: 0.0000\n",
      "FCC4: 0.0000\n",
      "NI3TI: 0.0000\n",
      "NITI2: 0.4846\n",
      "X_NI=0.12-X_TI=0.64\n",
      "X_NI=0.12-X_TI=0.64\n",
      "A1: 0.0000\n",
      "A2: 0.0000\n",
      "A3: 0.0000\n",
      "BCC2: 0.5795\n",
      "C14: 0.0000\n",
      "FCC4: 0.0000\n",
      "NI3TI: 0.0000\n",
      "NITI2: 0.4205\n",
      "X_NI=0.13-X_TI=0.62\n",
      "X_NI=0.13-X_TI=0.62\n",
      "A1: 0.0000\n",
      "A2: 0.0000\n",
      "A3: 0.0000\n",
      "BCC2: 0.6160\n",
      "C14: 0.0000\n",
      "FCC4: 0.0000\n",
      "NI3TI: 0.0000\n",
      "NITI2: 0.3840\n",
      "X_NI=0.14-X_TI=0.61\n",
      "X_NI=0.14-X_TI=0.61\n",
      "A1: 0.0000\n",
      "A2: 0.0000\n",
      "A3: 0.0000\n",
      "BCC2: 0.6790\n",
      "C14: 0.0000\n",
      "FCC4: 0.0000\n",
      "NI3TI: 0.0000\n",
      "NITI2: 0.3210\n",
      "X_NI=0.14-X_TI=0.59\n",
      "X_NI=0.14-X_TI=0.59\n",
      "A1: 0.0000\n",
      "A2: 0.0000\n",
      "A3: 0.0000\n",
      "BCC2: 0.7314\n",
      "C14: 0.0000\n",
      "FCC4: 0.0000\n",
      "NI3TI: 0.0000\n",
      "NITI2: 0.2686\n",
      "X_NI=0.15-X_TI=0.57\n",
      "X_NI=0.15-X_TI=0.57\n",
      "A1: 0.0000\n",
      "A2: 0.0000\n",
      "A3: 0.0000\n",
      "BCC2: 0.7856\n",
      "C14: 0.0000\n",
      "FCC4: 0.0000\n",
      "NI3TI: 0.0000\n",
      "NITI2: 0.2144\n",
      "X_NI=0.16-X_TI=0.55\n",
      "X_NI=0.16-X_TI=0.55\n",
      "A1: 0.0000\n",
      "A2: 0.0000\n",
      "A3: 0.0000\n",
      "BCC2: 0.8449\n",
      "C14: 0.0000\n",
      "FCC4: 0.0000\n",
      "NI3TI: 0.0000\n",
      "NITI2: 0.1551\n",
      "X_NI=0.16-X_TI=0.53\n",
      "X_NI=0.16-X_TI=0.53\n",
      "A1: 0.0000\n",
      "A2: 0.0000\n",
      "A3: 0.0000\n",
      "BCC2: 0.8980\n",
      "C14: 0.0000\n",
      "FCC4: 0.0000\n",
      "NI3TI: 0.0000\n",
      "NITI2: 0.1020\n",
      "X_NI=0.17-X_TI=0.51\n",
      "X_NI=0.17-X_TI=0.51\n",
      "A1: 0.0000\n",
      "A2: 0.0000\n",
      "A3: 0.0000\n",
      "BCC2: 0.9490\n",
      "C14: 0.0000\n",
      "FCC4: 0.0000\n",
      "NI3TI: 0.0000\n",
      "NITI2: 0.0510\n",
      "X_NI=0.18-X_TI=0.49\n",
      "X_NI=0.18-X_TI=0.49\n",
      "A1: 0.0000\n",
      "A2: 0.0000\n",
      "A3: 0.0000\n",
      "BCC2: 0.9932\n",
      "C14: 0.0000\n",
      "FCC4: 0.0000\n",
      "NI3TI: 0.0000\n",
      "NITI2: 0.0068\n",
      "X_NI=0.18-X_TI=0.47\n",
      "X_NI=0.18-X_TI=0.47\n",
      "A1: 0.0000\n",
      "A2: 0.0000\n",
      "A3: 0.0000\n",
      "BCC2: 0.8834\n",
      "C14: 0.1145\n",
      "FCC4: 0.0000\n",
      "NI3TI: 0.0000\n",
      "NITI2: 0.0021\n",
      "X_NI=0.19-X_TI=0.45\n",
      "X_NI=0.19-X_TI=0.45\n",
      "A1: 0.0000\n",
      "A2: 0.0000\n",
      "A3: 0.0000\n",
      "BCC2: 0.7643\n",
      "C14: 0.2356\n",
      "FCC4: 0.0000\n",
      "NI3TI: 0.0000\n",
      "NITI2: 0.0000\n",
      "X_NI=0.20-X_TI=0.43\n",
      "X_NI=0.20-X_TI=0.43\n",
      "A1: 0.0000\n",
      "A2: 0.0000\n",
      "A3: 0.0000\n",
      "BCC2: 0.6320\n",
      "C14: 0.3677\n",
      "FCC4: 0.0000\n",
      "NI3TI: 0.0002\n",
      "NITI2: 0.0000\n",
      "X_NI=0.21-X_TI=0.41\n",
      "X_NI=0.21-X_TI=0.41\n",
      "A1: 0.0000\n",
      "A2: 0.0000\n",
      "A3: 0.0000\n",
      "BCC2: 0.5034\n",
      "C14: 0.4962\n",
      "FCC4: 0.0000\n",
      "NI3TI: 0.0004\n",
      "NITI2: 0.0000\n",
      "X_NI=0.21-X_TI=0.39\n",
      "X_NI=0.21-X_TI=0.39\n",
      "A1: 0.0000\n",
      "A2: 0.0000\n",
      "A3: 0.0000\n",
      "BCC2: 0.3691\n",
      "C14: 0.6294\n",
      "FCC4: 0.0000\n",
      "NI3TI: 0.0015\n",
      "NITI2: 0.0000\n",
      "X_NI=0.22-X_TI=0.37\n",
      "X_NI=0.22-X_TI=0.37\n",
      "A1: 0.0000\n",
      "A2: 0.0000\n",
      "A3: 0.0000\n",
      "BCC2: 0.2375\n",
      "C14: 0.7594\n",
      "FCC4: 0.0000\n",
      "NI3TI: 0.0031\n",
      "NITI2: 0.0000\n",
      "X_NI=0.23-X_TI=0.34\n",
      "X_NI=0.23-X_TI=0.34\n",
      "A1: 0.0000\n",
      "A2: 0.0000\n",
      "A3: 0.0000\n",
      "BCC2: 0.1124\n",
      "C14: 0.8793\n",
      "FCC4: 0.0000\n",
      "NI3TI: 0.0083\n",
      "NITI2: 0.0000\n",
      "X_NI=0.24-X_TI=0.32\n",
      "X_NI=0.24-X_TI=0.32\n",
      "A1: 0.0000\n",
      "A2: 0.0000\n",
      "A3: 0.0000\n",
      "BCC2: 0.0047\n",
      "C14: 0.9516\n",
      "FCC4: 0.0000\n",
      "NI3TI: 0.0437\n",
      "NITI2: 0.0000\n",
      "X_NI=0.24-X_TI=0.30\n",
      "X_NI=0.24-X_TI=0.30\n",
      "A1: 0.0000\n",
      "A2: 0.0000\n",
      "A3: 0.0000\n",
      "BCC2: 0.0000\n",
      "C14: 0.8737\n",
      "FCC4: 0.0665\n",
      "NI3TI: 0.0598\n",
      "NITI2: 0.0000\n",
      "X_NI=0.25-X_TI=0.28\n",
      "Convergence failure: T=1396.0993412024761 and X_NI=0.42, X_TI=0.19\n",
      "X_NI=0.25-X_TI=0.28\n",
      "A1: 0.0000\n",
      "A2: 0.0000\n",
      "A3: 0.0000\n",
      "BCC2: 0.0000\n",
      "C14: 0.8030\n",
      "FCC4: 0.1642\n",
      "NI3TI: 0.0328\n",
      "NITI2: 0.0000\n",
      "X_NI=0.26-X_TI=0.26\n",
      "Convergence failure: T=1396.0993412024761 and X_NI=0.42, X_TI=0.19\n",
      "X_NI=0.26-X_TI=0.26\n",
      "A1: 0.0000\n",
      "A2: 0.0000\n",
      "A3: 0.0000\n",
      "BCC2: 0.0000\n",
      "C14: 0.7179\n",
      "FCC4: 0.2509\n",
      "NI3TI: 0.0313\n",
      "NITI2: 0.0000\n",
      "X_NI=0.26-X_TI=0.24\n",
      "Convergence failure: T=1396.0993412024761 and X_NI=0.42, X_TI=0.19\n",
      "X_NI=0.26-X_TI=0.24\n",
      "A1: 0.0000\n",
      "A2: 0.0000\n",
      "A3: 0.0000\n",
      "BCC2: 0.0000\n",
      "C14: 0.6260\n",
      "FCC4: 0.3425\n",
      "NI3TI: 0.0315\n",
      "NITI2: 0.0000\n",
      "X_NI=0.27-X_TI=0.22\n",
      "Convergence failure: T=1396.0993412024761 and X_NI=0.42, X_TI=0.19\n",
      "X_NI=0.27-X_TI=0.22\n",
      "A1: 0.0000\n",
      "A2: 0.0000\n",
      "A3: 0.0000\n",
      "BCC2: 0.0000\n",
      "C14: 0.5277\n",
      "FCC4: 0.4401\n",
      "NI3TI: 0.0321\n",
      "NITI2: 0.0000\n",
      "X_NI=0.28-X_TI=0.19\n",
      "Convergence failure: T=1396.0993412024761 and X_NI=0.42, X_TI=0.19\n",
      "X_NI=0.28-X_TI=0.19\n",
      "A1: 0.0000\n",
      "A2: 0.0000\n",
      "A3: 0.0000\n",
      "BCC2: 0.0000\n",
      "C14: 0.4217\n",
      "FCC4: 0.5454\n",
      "NI3TI: 0.0329\n",
      "NITI2: 0.0000\n",
      "X_NI=0.29-X_TI=0.17\n",
      "Convergence failure: T=1396.0993412024761 and X_NI=0.42, X_TI=0.19\n",
      "X_NI=0.29-X_TI=0.17\n",
      "A1: 0.0000\n",
      "A2: 0.0000\n",
      "A3: 0.0000\n",
      "BCC2: 0.0000\n",
      "C14: 0.3064\n",
      "FCC4: 0.6602\n",
      "NI3TI: 0.0334\n",
      "NITI2: 0.0000\n",
      "X_NI=0.30-X_TI=0.15\n",
      "Convergence failure: T=1396.0993412024761 and X_NI=0.42, X_TI=0.19\n",
      "X_NI=0.30-X_TI=0.15\n",
      "A1: 0.0000\n",
      "A2: 0.0000\n",
      "A3: 0.0000\n",
      "BCC2: 0.0000\n",
      "C14: 0.1872\n",
      "FCC4: 0.7792\n",
      "NI3TI: 0.0336\n",
      "NITI2: 0.0000\n",
      "X_NI=0.30-X_TI=0.13\n",
      "Convergence failure: T=1396.0993412024761 and X_NI=0.42, X_TI=0.19\n",
      "X_NI=0.30-X_TI=0.13\n",
      "A1: 0.0000\n",
      "A2: 0.0000\n",
      "A3: 0.0000\n",
      "BCC2: 0.0000\n",
      "C14: 0.1035\n",
      "FCC4: 0.8644\n",
      "NI3TI: 0.0321\n",
      "NITI2: 0.0000\n",
      "X_NI=0.31-X_TI=0.10\n",
      "Convergence failure: T=1396.0993412024761 and X_NI=0.42, X_TI=0.19\n",
      "X_NI=0.31-X_TI=0.10\n",
      "A1: 0.0000\n",
      "A2: 0.0000\n",
      "A3: 0.0000\n",
      "BCC2: 0.0000\n",
      "C14: 0.0507\n",
      "FCC4: 0.9210\n",
      "NI3TI: 0.0283\n",
      "NITI2: 0.0000\n",
      "X_NI=0.32-X_TI=0.08\n",
      "Convergence failure: T=1396.0993412024761 and X_NI=0.42, X_TI=0.19\n",
      "X_NI=0.32-X_TI=0.08\n",
      "A1: 0.0000\n",
      "A2: 0.0000\n",
      "A3: 0.0000\n",
      "BCC2: 0.0000\n",
      "C14: 0.0206\n",
      "FCC4: 0.9575\n",
      "NI3TI: 0.0219\n",
      "NITI2: 0.0000\n",
      "X_NI=0.33-X_TI=0.06\n",
      "X_NI=0.33-X_TI=0.06\n",
      "A1: 0.0000\n",
      "A2: 0.0000\n",
      "A3: 0.0000\n",
      "BCC2: 0.0000\n",
      "C14: 0.0041\n",
      "FCC4: 0.9771\n",
      "NI3TI: 0.0187\n",
      "NITI2: 0.0000\n",
      "X_NI=0.34-X_TI=0.04\n",
      "X_NI=0.34-X_TI=0.04\n",
      "A1: 0.0000\n",
      "A2: 0.0000\n",
      "A3: 0.0000\n",
      "BCC2: 0.0000\n",
      "C14: 0.0006\n",
      "FCC4: 0.9931\n",
      "NI3TI: 0.0063\n",
      "NITI2: 0.0000\n",
      "X_NI=0.34-X_TI=0.01\n",
      "X_NI=0.34-X_TI=0.01\n",
      "A1: 0.0000\n",
      "A2: 0.0000\n",
      "A3: 0.0000\n",
      "BCC2: 0.0000\n",
      "C14: 0.0000\n",
      "FCC4: 0.9995\n",
      "NI3TI: 0.0005\n",
      "NITI2: 0.0000\n"
     ]
    }
   ],
   "source": [
    "dT = 5\n",
    "for composition in all_comps:\n",
    "    formatted_name = fmt_comps(composition)\n",
    "    print(formatted_name)\n",
    "    res = simulate_scheil_solidification(dbf, comps, phases, composition, start_temperature=2000, step_temperature=dT, verbose=False, eq_kwargs={'calc_opts': {'points': pts_dict}})\n",
    "    print(formatted_name)\n",
    "    for ph, amnts in res.phase_amounts.items():\n",
    "        print(f'{ph}: {amnts[-1]:0.4f}')\n",
    "#     plt.figure()\n",
    "#     num_plt = np.sum(np.array(res.fraction_solid) > 0)\n",
    "#     xTi = [z[v.X('TI')] for z in res.x_liquid][-num_plt:]\n",
    "#     xNi = [z[v.X('NI')] for z in res.x_liquid][-num_plt:]\n",
    "#     T = res.temperatures[-num_plt:]\n",
    "#     plt.plot(xTi, T, label='Ti')\n",
    "#     plt.plot(xNi, T, label='Ni')\n",
    "#     plt.title(formatted_name)\n",
    "#     plt.legend()\n",
    "#     plt.show()\n",
    "\n",
    "#     fig = plt.figure()\n",
    "#     ax = fig.gca(projection='triangular')\n",
    "#     ax.plot(xNi, xTi)\n",
    "#     ax.set_xlabel('Ni')\n",
    "#     ax.set_ylabel('Ti')\n",
    "#     ax.set_title(formatted_name)\n",
    "#     fig.show()\n",
    "\n",
    "    serialize(res, f'{prefix}_dT={dT}{formatted_name}.json')"
   ]
  },
  {
   "cell_type": "markdown",
   "metadata": {},
   "source": [
    "# Energy surface plotting\n"
   ]
  },
  {
   "cell_type": "code",
   "execution_count": 34,
   "metadata": {},
   "outputs": [],
   "source": [
    "import ipyvolume as ipv\n",
    "from pycalphad import calculate, Database, variables as v"
   ]
  },
  {
   "cell_type": "code",
   "execution_count": 45,
   "metadata": {},
   "outputs": [],
   "source": [
    "# ipvolume helpers\n",
    "from scipy.interpolate import griddata\n",
    "import numpy as np\n",
    "def gridit(x,y,z,lingrid):\n",
    "    \"\"\"\n",
    "    Put linear x, y, z on a grid of lingrid (also 1d), returning X, Y, Z, each of shape (N, N) where N = lingrid.size\n",
    "    \"\"\"\n",
    "    X, Y = np.meshgrid(lingrid, lingrid)\n",
    "    Z = griddata(np.array([x,y]).T, z, (X, Y))\n",
    "    return X, Y, Z\n",
    "\n",
    "def transf(x, y):\n",
    "    \"\"\"Transform x and y into triangular x and y\"\"\"\n",
    "    xx = x + 0.5*y\n",
    "    yy = np.sqrt(3.0)/2.0*y\n",
    "    return xx, yy\n",
    "from matplotlib import cm\n",
    "def get_cmap(cmap, Z, scale=None):\n",
    "    scale = scale if scale is not None else Z\n",
    "    scaled_vals = Z - np.nanmin(scale)\n",
    "    scaled_vals /= scale[~np.isnan(scale)].ptp()\n",
    "    try:\n",
    "        colormap = getattr(cm, cmap)\n",
    "    except AttributeError:\n",
    "        return cmap\n",
    "    return colormap(scaled_vals)\n",
    "\n",
    "\n",
    "# for plotting, sample the whole surface, to prove that the local points are near the minimum\n",
    "cr_c14 = calculate(dbf, comps, 'C14', T=1660, P=101325, N=1, pdens=50)\n",
    "cr_c14_adapted = calculate(dbf, comps, 'C14', T=1660, P=101325, N=1, points=pts_dict)\n",
    "# cr_add = calculate(dbf, comps, 'C14', T=1660, P=101325, N=1, points={'C14': loc_pts})\n",
    "cr_liquid = calculate(dbf, comps, 'LIQUID', T=1660, P=101325, N=1, pdens=10000)"
   ]
  },
  {
   "cell_type": "code",
   "execution_count": 56,
   "metadata": {},
   "outputs": [],
   "source": [
    "ipv.figure()\n",
    "\n",
    "\n",
    "x_comp_idx = 1\n",
    "y_comp_idx = 2\n",
    "prop = 'GM'\n",
    "\n",
    "# Plot C14 with pdens\n",
    "cr = cr_c14\n",
    "\n",
    "x = cr.X.isel(component=x_comp_idx).values.squeeze()\n",
    "y = cr.X.isel(component=y_comp_idx).values.squeeze()\n",
    "x, y =  transf(x, y)\n",
    "z = cr[prop].values.squeeze()\n",
    "\n",
    "color=get_cmap('plasma', -z)\n",
    "ipv.scatter(x, y, z, color=color, size=1)\n",
    "\n",
    "# Set plot data\n",
    "ipv.xlabel(str(cr.component[x_comp_idx].values.squeeze()))\n",
    "ipv.ylabel(str(cr.component[y_comp_idx].values.squeeze()))\n",
    "ipv.zlabel(prop)\n",
    "\n",
    "# # Plot C14 additonal points\n",
    "cr = cr_c14_adapted\n",
    "x = cr.X.isel(component=x_comp_idx).values.squeeze()\n",
    "y = cr.X.isel(component=y_comp_idx).values.squeeze()\n",
    "x, y =  transf(x, y)\n",
    "prev_z = z\n",
    "z = cr[prop].values.squeeze()\n",
    "color=get_cmap('plasma', -z, -prev_z)\n",
    "ipv.scatter(x, y, z, color=color, size=1)\n",
    "\n",
    "# Plot liquid\n",
    "cr = cr_liquid\n",
    "x = cr.X.isel(component=x_comp_idx).values.squeeze()\n",
    "y = cr.X.isel(component=y_comp_idx).values.squeeze()\n",
    "x, y =  transf(x, y)\n",
    "z = cr[prop].values.squeeze()\n",
    "color='blue'\n",
    "ipv.scatter(x, y, z, color=color, size=1)\n",
    "\n",
    "\n",
    "#\n",
    "ipv.save('interactive-output/all-surf.html', offline=True)"
   ]
  },
  {
   "cell_type": "code",
   "execution_count": 54,
   "metadata": {},
   "outputs": [],
   "source": [
    "ipv.figure()\n",
    "\n",
    "\n",
    "x_comp_idx = 1\n",
    "y_comp_idx = 2\n",
    "prop = 'GM'\n",
    "\n",
    "# Plot C14 with pdens\n",
    "cr = cr_c14\n",
    "\n",
    "x = cr.X.isel(component=x_comp_idx).values.squeeze()\n",
    "y = cr.X.isel(component=y_comp_idx).values.squeeze()\n",
    "x, y =  transf(x, y)\n",
    "z = cr[prop].values.squeeze()\n",
    "\n",
    "color=get_cmap('plasma', -z)\n",
    "ipv.scatter(x, y, z, color=color, size=1)\n",
    "\n",
    "# Set plot data\n",
    "ipv.xlabel(str(cr.component[x_comp_idx].values.squeeze()))\n",
    "ipv.ylabel(str(cr.component[y_comp_idx].values.squeeze()))\n",
    "ipv.zlabel(prop)\n",
    "\n",
    "# # Plot C14 additonal points\n",
    "# cr = cr_c14_adapted\n",
    "# x = cr.X.isel(component=x_comp_idx).values.squeeze()\n",
    "# y = cr.X.isel(component=y_comp_idx).values.squeeze()\n",
    "# x, y =  transf(x, y)\n",
    "# prev_z = z\n",
    "# z = cr[prop].values.squeeze()\n",
    "# color=get_cmap('plasma', -z, -prev_z)\n",
    "# ipv.scatter(x, y, z, color=color, size=1)\n",
    "\n",
    "# Plot liquid\n",
    "cr = cr_liquid\n",
    "x = cr.X.isel(component=x_comp_idx).values.squeeze()\n",
    "y = cr.X.isel(component=y_comp_idx).values.squeeze()\n",
    "x, y =  transf(x, y)\n",
    "z = cr[prop].values.squeeze()\n",
    "color='blue'\n",
    "ipv.scatter(x, y, z, color=color, size=1)\n",
    "\n",
    "\n",
    "#\n",
    "ipv.save('interactive-output/c14-liquid-surf.html', offline=True)"
   ]
  },
  {
   "cell_type": "markdown",
   "metadata": {},
   "source": [
    "# Read data and plot NP vs. X figure"
   ]
  },
  {
   "cell_type": "code",
   "execution_count": 99,
   "metadata": {},
   "outputs": [],
   "source": [
    "import json\n",
    "from glob import glob\n",
    "solid_phases = [ph for ph in phases if ph != 'LIQUID']\n",
    "phase_fractions = {ph: [] for ph in solid_phases if ph != solid_phases}\n",
    "for filename in sorted(glob(f'{prefix}*')):\n",
    "    with open(filename) as fp:\n",
    "        data = json.load(fp)\n",
    "    for ph in solid_phases:\n",
    "        phase_fractions[ph].append(data['phase_amounts'][ph][-1])\n",
    "phase_fractions = {ph: np.array(fracs) for ph, fracs in phase_fractions.items() if np.max(fracs) > 1e-6}\n"
   ]
  },
  {
   "cell_type": "code",
   "execution_count": 119,
   "metadata": {},
   "outputs": [],
   "source": [
    "phase_fractions2 = {ph: [] for ph in solid_phases if ph != solid_phases}\n",
    "for filename in sorted(glob(f'{prefix}*')):\n",
    "    with open(filename) as fp:\n",
    "        data = json.load(fp)\n",
    "    for ph in solid_phases:\n",
    "        phase_fractions2[ph].append(data['phase_amounts'][ph][-1])\n",
    "phase_fractions2 = {ph: np.array(fracs) for ph, fracs in phase_fractions.items() if np.max(fracs) > 1e-6}\n",
    "\n"
   ]
  },
  {
   "cell_type": "code",
   "execution_count": 71,
   "metadata": {},
   "outputs": [],
   "source": [
    "import matplotlib\n",
    "\n",
    "# Say, \"the default sans-serif font is COMIC SANS\"\n",
    "matplotlib.rcParams['font.sans-serif'] = \"Arial\"\n",
    "# Then, \"ALWAYS use sans-serif fonts\"\n",
    "matplotlib.rcParams['font.family'] = \"sans-serif\"\n"
   ]
  },
  {
   "cell_type": "code",
   "execution_count": 120,
   "metadata": {},
   "outputs": [
    {
     "data": {
      "image/png": "[encoded data removed]",
      "text/plain": [
       "<Figure size 432x288 with 1 Axes>"
      ]
     },
     "metadata": {
      "needs_background": "light"
     },
     "output_type": "display_data"
    }
   ],
   "source": [
    "path_xs = np.linspace(0, 1, list(phase_fractions.values())[0].size)\n",
    "from pycalphad.plot.utils import phase_legend\n",
    "leg, col = phase_legend(phase_fractions.keys())\n",
    "\n",
    "\n",
    "fig = plt.figure()\n",
    "ax = fig.gca()\n",
    "for ph, fracs in phase_fractions.items():\n",
    "    ax.plot(path_xs, fracs, color=col[ph])\n",
    "path_xs2 = np.linspace(0.6, 0.8, list(phase_fractions.values())[0].size)\n",
    "for ph, fracs in phase_fractions2.items():\n",
    "    ax.plot(path_xs2, fracs, color=col[ph])\n",
    "\n",
    "\n",
    "ax.set_xlabel('Fraction Invar', fontsize=16)\n",
    "ax.set_ylabel('Phase Fraction', fontsize=16)\n",
    "ax.legend(leg, col, loc=(1.02,0.2))\n",
    "ax.set_xlim(0, 1)\n",
    "ax.set_ylim(0, 1)\n",
    "fig.savefig('NP-solidification.svg')"
   ]
  },
  {
   "cell_type": "markdown",
   "metadata": {},
   "source": [
    "## Test additional points in NP vs. T "
   ]
  },
  {
   "cell_type": "code",
   "execution_count": 24,
   "metadata": {},
   "outputs": [],
   "source": [
    "eq_res = equilibrium(dbf, comps, phases, {v.P: 101325.0, v.N: 1.0, v.T: (1600, 1700, 5), v.X('NI'): 0.264503, v.X('TI'):0.267340 }, calc_opts={'points': pts_dict})"
   ]
  },
  {
   "cell_type": "code",
   "execution_count": 60,
   "metadata": {},
   "outputs": [
    {
     "data": {
      "text/plain": [
       "<matplotlib.legend.Legend at 0x129af4a90>"
      ]
     },
     "execution_count": 60,
     "metadata": {},
     "output_type": "execute_result"
    },
    {
     "data": {
      "image/png": "[encoded data removed]",
      "text/plain": [
       "<Figure size 432x288 with 1 Axes>"
      ]
     },
     "metadata": {
      "needs_background": "light"
     },
     "output_type": "display_data"
    }
   ],
   "source": [
    "from pycalphad.plot.utils import phase_legend\n",
    "phase_handles, phasemap = phase_legend(phases)\n",
    "\n",
    "# plt.gca().set_title('Al-Ni: Phase fractions vs T [X(AL)=0.1]')\n",
    "ax = plt.gca()\n",
    "ax.set_xlabel('Temperature (K)')\n",
    "ax.set_ylabel('Phase Fraction')\n",
    "ax.set_ylim(0, 1.0)\n",
    "ax.set_xlim(1600, 1700)\n",
    "\n",
    "for name in phases:\n",
    "    masked = eq_res.where(eq_res.Phase == name, drop=True)\n",
    "    plt.scatter(masked.T, masked.NP, color=phasemap[name])\n",
    "plt.gca().legend(phase_handles, phases, loc='lower right')\n"
   ]
  },
  {
   "cell_type": "code",
   "execution_count": 86,
   "metadata": {},
   "outputs": [],
   "source": [
    "eq_res = equilibrium(dbf, comps, phases, {v.P: 101325.0, v.N: 1.0, v.T: (1500, 1620, 5), v.X('NI'): 0.050264, v.X('TI'):0.85641 }, calc_opts={'points': pts_dict})"
   ]
  },
  {
   "cell_type": "code",
   "execution_count": 88,
   "metadata": {},
   "outputs": [
    {
     "data": {
      "text/plain": [
       "<matplotlib.legend.Legend at 0x12dc82be0>"
      ]
     },
     "execution_count": 88,
     "metadata": {},
     "output_type": "execute_result"
    },
    {
     "data": {
      "image/png": "[encoded data removed]",
      "text/plain": [
       "<Figure size 432x288 with 1 Axes>"
      ]
     },
     "metadata": {
      "needs_background": "light"
     },
     "output_type": "display_data"
    }
   ],
   "source": [
    "ax = plt.gca()\n",
    "ax.set_xlabel('Temperature (K)')\n",
    "ax.set_ylabel('Phase Fraction')\n",
    "ax.set_ylim(0, 1.0)\n",
    "ax.set_xlim(eq_res.T.min(), eq_res.T.max())\n",
    "\n",
    "for name in phases:\n",
    "    masked = eq_res.where(eq_res.Phase == name, drop=True)\n",
    "    plt.scatter(masked.T, masked.NP, color=phasemap[name])\n",
    "plt.gca().legend(phase_handles, phases, loc='lower right')\n",
    "\n"
   ]
  },
  {
   "cell_type": "code",
   "execution_count": null,
   "metadata": {},
   "outputs": [],
   "source": []
  },
  {
   "cell_type": "markdown",
   "metadata": {},
   "source": [
    "## Test Scheil simulation for binary Fe-Ti system"
   ]
  },
  {
   "cell_type": "code",
   "execution_count": 3,
   "metadata": {},
   "outputs": [
    {
     "name": "stdout",
     "output_type": "stream",
     "text": [
      "building callables... done\n",
      "T=1720.000, X_TI=0.35, ΔT=10.000, NL: 1.000, NP(LIQUID)=1.000\n",
      "T=1710.000, X_TI=0.35, ΔT=10.000, NL: 1.000, NP(LIQUID)=1.000\n",
      "New phases seen: {'C14'}. Resetting step size\n",
      "T=1700.000, X_TI=0.35, ΔT=10.000, NL: 0.345, NP(LIQUID)=0.345 NP(C14)=0.655\n",
      "T=1690.000, X_TI=0.37, ΔT=10.000, NL: 0.205, NP(LIQUID)=0.595 NP(C14)=0.405\n",
      "T=1680.000, X_TI=0.40, ΔT=10.000, NL: 0.156, NP(LIQUID)=0.760 NP(C14)=0.240\n",
      "T=1670.000, X_TI=0.41, ΔT=10.000, NL: 0.129, NP(LIQUID)=0.829 NP(C14)=0.171\n",
      "T=1660.000, X_TI=0.43, ΔT=10.000, NL: 0.112, NP(LIQUID)=0.867 NP(C14)=0.133\n",
      "T=1650.000, X_TI=0.44, ΔT=10.000, NL: 0.100, NP(LIQUID)=0.892 NP(C14)=0.108\n",
      "T=1640.000, X_TI=0.45, ΔT=10.000, NL: 0.091, NP(LIQUID)=0.909 NP(C14)=0.091\n",
      "T=1630.000, X_TI=0.46, ΔT=10.000, NL: 0.084, NP(LIQUID)=0.921 NP(C14)=0.079\n",
      "T=1620.000, X_TI=0.47, ΔT=10.000, NL: 0.078, NP(LIQUID)=0.931 NP(C14)=0.069\n",
      "T=1610.000, X_TI=0.47, ΔT=10.000, NL: 0.073, NP(LIQUID)=0.938 NP(C14)=0.062\n",
      "T=1600.000, X_TI=0.48, ΔT=10.000, NL: 0.069, NP(LIQUID)=0.944 NP(C14)=0.056\n",
      "T=1590.000, X_TI=0.49, ΔT=10.000, NL: 0.065, NP(LIQUID)=0.949 NP(C14)=0.051\n",
      "T=1580.000, X_TI=0.50, ΔT=10.000, NL: 0.062, NP(LIQUID)=0.954 NP(C14)=0.046\n",
      "New phases seen: {'BCC2'}. Resetting step size\n",
      "T=1570.000, X_TI=0.50, ΔT=10.000, NL: 0.001, NP(LIQUID)=0.022 NP(BCC2)=0.978\n",
      "T=1560.000, X_TI=0.54, ΔT=10.000, NL: 9.21E-04, NP(LIQUID)=0.659 NP(BCC2)=0.341\n",
      "T=1550.000, X_TI=0.56, ΔT=10.000, NL: 7.32E-04, NP(LIQUID)=0.795 NP(BCC2)=0.205\n",
      "T=1540.000, X_TI=0.58, ΔT=10.000, NL: 6.24E-04, NP(LIQUID)=0.853 NP(BCC2)=0.147\n",
      "T=1530.000, X_TI=0.59, ΔT=10.000, NL: 5.53E-04, NP(LIQUID)=0.885 NP(BCC2)=0.115\n",
      "T=1520.000, X_TI=0.60, ΔT=10.000, NL: 5.01E-04, NP(LIQUID)=0.906 NP(BCC2)=0.094\n",
      "T=1510.000, X_TI=0.61, ΔT=10.000, NL: 4.61E-04, NP(LIQUID)=0.921 NP(BCC2)=0.079\n",
      "T=1500.000, X_TI=0.62, ΔT=10.000, NL: 4.30E-04, NP(LIQUID)=0.931 NP(BCC2)=0.069\n",
      "T=1490.000, X_TI=0.63, ΔT=10.000, NL: 4.04E-04, NP(LIQUID)=0.939 NP(BCC2)=0.061\n",
      "T=1480.000, X_TI=0.64, ΔT=10.000, NL: 3.82E-04, NP(LIQUID)=0.946 NP(BCC2)=0.054\n",
      "T=1470.000, X_TI=0.65, ΔT=10.000, NL: 3.63E-04, NP(LIQUID)=0.951 NP(BCC2)=0.049\n",
      "T=1460.000, X_TI=0.65, ΔT=10.000, NL: 3.47E-04, NP(LIQUID)=0.955 NP(BCC2)=0.045\n",
      "T=1450.000, X_TI=0.66, ΔT=10.000, NL: 3.33E-04, NP(LIQUID)=0.959 NP(BCC2)=0.041\n",
      "T=1440.000, X_TI=0.67, ΔT=10.000, NL: 3.20E-04, NP(LIQUID)=0.962 NP(BCC2)=0.038\n",
      "T=1430.000, X_TI=0.67, ΔT=10.000, NL: 3.09E-04, NP(LIQUID)=0.965 NP(BCC2)=0.035\n",
      "T=1420.000, X_TI=0.68, ΔT=10.000, NL: 2.99E-04, NP(LIQUID)=0.967 NP(BCC2)=0.033\n",
      "T=1410.000, X_TI=0.69, ΔT=10.000, NL: 2.89E-04, NP(LIQUID)=0.969 NP(BCC2)=0.031\n",
      "T=1400.000, X_TI=0.69, ΔT=10.000, NL: 2.81E-04, NP(LIQUID)=0.971 NP(BCC2)=0.029\n",
      "T=1390.000, X_TI=0.70, ΔT=10.000, NL: 2.73E-04, NP(LIQUID)=0.972 NP(BCC2)=0.028\n",
      "T=1380.000, X_TI=0.70, ΔT=10.000, NL: 2.66E-04, NP(LIQUID)=0.974 NP(BCC2)=0.026\n",
      "T=1370.000, X_TI=0.71, ΔT=10.000, NL: 2.59E-04, NP(LIQUID)=0.975 NP(BCC2)=0.025\n",
      "T=1360.000, X_TI=0.71, ΔT=10.000, NL: 2.53E-04, NP(LIQUID)=0.976 NP(BCC2)=0.024\n",
      "No liquid phase found at T=1350, X_TI=0.72 (Found ['BCC2' 'BCC2' '']). Stepping back and reducing step size.\n",
      "T=1360.000, X_TI=0.72, ΔT=9.091, NL: 2.53E-04, NP(LIQUID)=1.000\n",
      "No liquid phase found at T=1350.909090909091, X_TI=0.72 (Found ['BCC2' 'BCC2' '']). Stepping back and reducing step size.\n",
      "T=1360.000, X_TI=0.72, ΔT=8.264, NL: 2.53E-04, NP(LIQUID)=1.000\n",
      "No liquid phase found at T=1351.7355371900826, X_TI=0.72 (Found ['BCC2' 'BCC2' '']). Stepping back and reducing step size.\n",
      "T=1360.000, X_TI=0.72, ΔT=7.513, NL: 2.53E-04, NP(LIQUID)=1.000\n",
      "No liquid phase found at T=1352.4868519909842, X_TI=0.72 (Found ['BCC2' 'BCC2' '']). Stepping back and reducing step size.\n",
      "T=1360.000, X_TI=0.72, ΔT=6.830, NL: 2.53E-04, NP(LIQUID)=1.000\n",
      "No liquid phase found at T=1353.1698654463494, X_TI=0.72 (Found ['BCC2' 'BCC2' '']). Stepping back and reducing step size.\n",
      "T=1360.000, X_TI=0.72, ΔT=6.209, NL: 2.53E-04, NP(LIQUID)=1.000\n",
      "No liquid phase found at T=1353.7907867694084, X_TI=0.72 (Found ['BCC2' 'BCC2' '']). Stepping back and reducing step size.\n",
      "T=1360.000, X_TI=0.72, ΔT=5.645, NL: 2.53E-04, NP(LIQUID)=1.000\n",
      "No liquid phase found at T=1354.3552606994622, X_TI=0.72 (Found ['BCC2' 'BCC2' '']). Stepping back and reducing step size.\n",
      "T=1360.000, X_TI=0.72, ΔT=5.132, NL: 2.53E-04, NP(LIQUID)=1.000\n",
      "T=1354.868, X_TI=0.72, ΔT=5.132, NL: 2.50E-04, NP(LIQUID)=0.988 NP(BCC2)=0.012\n",
      "No liquid phase found at T=1349.7368376353857, X_TI=0.72 (Found ['BCC2' 'BCC2' '']). Stepping back and reducing step size.\n",
      "T=1354.868, X_TI=0.72, ΔT=4.665, NL: 2.50E-04, NP(LIQUID)=1.000\n",
      "No liquid phase found at T=1350.2033450155955, X_TI=0.72 (Found ['BCC2' 'BCC2' '']). Stepping back and reducing step size.\n",
      "T=1354.868, X_TI=0.72, ΔT=4.241, NL: 2.50E-04, NP(LIQUID)=1.000\n",
      "No liquid phase found at T=1350.627442633968, X_TI=0.72 (Found ['BCC2' 'BCC2' '']). Stepping back and reducing step size.\n",
      "T=1354.868, X_TI=0.72, ΔT=3.855, NL: 2.50E-04, NP(LIQUID)=1.000\n",
      "No liquid phase found at T=1351.0129859233975, X_TI=0.72 (Found ['BCC2' 'BCC2' '']). Stepping back and reducing step size.\n",
      "T=1354.868, X_TI=0.72, ΔT=3.505, NL: 2.50E-04, NP(LIQUID)=1.000\n",
      "No liquid phase found at T=1351.3634798228788, X_TI=0.72 (Found ['BCC2' 'BCC2' '']). Stepping back and reducing step size.\n",
      "T=1354.868, X_TI=0.72, ΔT=3.186, NL: 2.50E-04, NP(LIQUID)=1.000\n",
      "No liquid phase found at T=1351.6821106405894, X_TI=0.72 (Found ['BCC2' 'BCC2' '']). Stepping back and reducing step size.\n",
      "T=1354.868, X_TI=0.72, ΔT=2.897, NL: 2.50E-04, NP(LIQUID)=1.000\n",
      "No liquid phase found at T=1351.971775020326, X_TI=0.72 (Found ['BCC2' 'BCC2' '']). Stepping back and reducing step size.\n",
      "T=1354.868, X_TI=0.72, ΔT=2.633, NL: 2.50E-04, NP(LIQUID)=1.000\n",
      "No liquid phase found at T=1352.235106274632, X_TI=0.72 (Found ['BCC2' 'BCC2' '']). Stepping back and reducing step size.\n",
      "T=1354.868, X_TI=0.72, ΔT=2.394, NL: 2.50E-04, NP(LIQUID)=1.000\n",
      "No liquid phase found at T=1352.4744983240012, X_TI=0.72 (Found ['BCC2' 'BCC2' '']). Stepping back and reducing step size.\n",
      "T=1354.868, X_TI=0.72, ΔT=2.176, NL: 2.50E-04, NP(LIQUID)=1.000\n",
      "No liquid phase found at T=1352.6921274597914, X_TI=0.72 (Found ['BCC2' 'BCC2' '']). Stepping back and reducing step size.\n",
      "T=1354.868, X_TI=0.72, ΔT=1.978, NL: 2.50E-04, NP(LIQUID)=1.000\n",
      "No liquid phase found at T=1352.8899721286914, X_TI=0.72 (Found ['BCC2' 'BCC2' '']). Stepping back and reducing step size.\n",
      "T=1354.868, X_TI=0.72, ΔT=1.799, NL: 2.50E-04, NP(LIQUID)=1.000\n",
      "No liquid phase found at T=1353.0698309186007, X_TI=0.72 (Found ['BCC2' 'BCC2' '']). Stepping back and reducing step size.\n",
      "T=1354.868, X_TI=0.72, ΔT=1.635, NL: 2.50E-04, NP(LIQUID)=1.000\n",
      "No liquid phase found at T=1353.2333389094272, X_TI=0.72 (Found ['BCC2' 'BCC2' '']). Stepping back and reducing step size.\n",
      "T=1354.868, X_TI=0.72, ΔT=1.486, NL: 2.50E-04, NP(LIQUID)=1.000\n",
      "No liquid phase found at T=1353.3819825374514, X_TI=0.72 (Found ['BCC2' 'BCC2' '']). Stepping back and reducing step size.\n",
      "T=1354.868, X_TI=0.72, ΔT=1.351, NL: 2.50E-04, NP(LIQUID)=1.000\n",
      "No liquid phase found at T=1353.5171131083825, X_TI=0.72 (Found ['BCC2' 'BCC2' '']). Stepping back and reducing step size.\n",
      "T=1354.868, X_TI=0.72, ΔT=1.228, NL: 2.50E-04, NP(LIQUID)=1.000\n",
      "No liquid phase found at T=1353.639959081956, X_TI=0.72 (Found ['BCC2' 'BCC2' '']). Stepping back and reducing step size.\n",
      "T=1354.868, X_TI=0.72, ΔT=1.117, NL: 2.50E-04, NP(LIQUID)=1.000\n",
      "No liquid phase found at T=1353.7516372397504, X_TI=0.72 (Found ['BCC2' 'BCC2' '']). Stepping back and reducing step size.\n",
      "T=1354.868, X_TI=0.72, ΔT=1.015, NL: 2.50E-04, NP(LIQUID)=1.000\n",
      "No liquid phase found at T=1353.8531628377452, X_TI=0.72 (Found ['BCC2' 'BCC2' '']). Stepping back and reducing step size.\n",
      "T=1354.868, X_TI=0.72, ΔT=0.923, NL: 2.50E-04, NP(LIQUID)=1.000\n",
      "No liquid phase found at T=1353.9454588359222, X_TI=0.72 (Found ['BCC2' 'BCC2' '']). Maximum step size reduction exceeded. Stopping.\n"
     ]
    }
   ],
   "source": [
    "# Ficticious to show A2/B2 distinction \n",
    "res = simulate_scheil_solidification(dbf, ['FE', 'TI', 'VA'], phases, {v.X('TI'): 0.48}, start_temperature=1640, step_temperature=10, verbose=True)\n",
    "for ph, amnts in res.phase_amounts.items():\n",
    "    print(f'{ph}: {amnts[-1]:0.4f}')"
   ]
  },
  {
   "cell_type": "code",
   "execution_count": 6,
   "metadata": {},
   "outputs": [
    {
     "data": {
      "text/plain": [
       "[<matplotlib.lines.Line2D at 0x121a1dcf8>]"
      ]
     },
     "execution_count": 6,
     "metadata": {},
     "output_type": "execute_result"
    },
    {
     "data": {
      "image/png": "[encoded data removed]",
      "text/plain": [
       "<Figure size 432x288 with 1 Axes>"
      ]
     },
     "metadata": {
      "needs_background": "light"
     },
     "output_type": "display_data"
    }
   ],
   "source": [
    "num_plt = np.sum(np.array(binres.fraction_solid) > 0)\n",
    "x = [z[v.X('TI')] for z in binres.x_liquid][-num_plt:]\n",
    "T = binres.temperatures[-num_plt:]\n",
    "plt.plot(x, T)"
   ]
  },
  {
   "cell_type": "code",
   "execution_count": null,
   "metadata": {},
   "outputs": [],
   "source": []
  }
 ],
 "metadata": {
  "kernelspec": {
   "display_name": "Python [conda env:calphad-dev-2]",
   "language": "python",
   "name": "conda-env-calphad-dev-2-py"
  },
  "language_info": {
   "codemirror_mode": {
    "name": "ipython",
    "version": 3
   },
   "file_extension": ".py",
   "mimetype": "text/x-python",
   "name": "python",
   "nbconvert_exporter": "python",
   "pygments_lexer": "ipython3",
   "version": "3.7.3"
  }
 },
 "nbformat": 4,
 "nbformat_minor": 4
}
