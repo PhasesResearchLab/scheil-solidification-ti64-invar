{
 "cells": [
  {
   "cell_type": "code",
   "execution_count": null,
   "metadata": {},
   "outputs": [],
   "source": [
    "import os\n",
    "import json\n",
    "import copy\n",
    "from glob import glob\n",
    "import matplotlib.pyplot as plt\n",
    "import numpy as np\n",
    "from pycalphad import calculate, equilibrium, Database, variables as v\n",
    "from pycalphad.core.utils import filter_phases\n",
    "from pycalphad.plot.utils import phase_legend\n",
    "from scheil import simulate_scheil_solidification, simulate_equilibrium_solidification, SolidificationResult\n",
    "from scheil.utils import order_disorder_dict, order_disorder_eq_phases\n",
    "# local helpers.py file\n",
    "# monkey patches pycalphad variables with weights, should be imported *after* pycalphad\n",
    "from helpers import sample_phase_points, W_to_X, comp_interp "
   ]
  },
  {
   "cell_type": "markdown",
   "metadata": {},
   "source": [
    "Load the database file for this system"
   ]
  },
  {
   "cell_type": "code",
   "execution_count": null,
   "metadata": {},
   "outputs": [],
   "source": [
    "dbf = Database('Fe-Ni-Ti_DeKeyzer.tdb')\n",
    "comps = ['FE', 'NI', 'TI', 'VA']\n",
    "phases = list(dbf.phases.keys())"
   ]
  },
  {
   "cell_type": "code",
   "execution_count": null,
   "metadata": {},
   "outputs": [],
   "source": [
    "# Compute a map from ordered to disorderd phases, to determine equilibrium solidification phase amounts.\n",
    "ord_disord_map = order_disorder_dict(dbf, comps, phases)"
   ]
  },
  {
   "cell_type": "markdown",
   "metadata": {},
   "source": [
    "## Add points near the convex hull manually\n",
    "\n",
    "In this system, the phases are modeled with many sublattices. Sampling over the single phase energy surfaces to find and sample phase constitutions around equilibrium composition sets can greatly increase the speed and accuracy of the solver during the solidification simulations.\n",
    "\n",
    "Here, several temperatures are sampled."
   ]
  },
  {
   "cell_type": "code",
   "execution_count": null,
   "metadata": {},
   "outputs": [],
   "source": [
    "TEMPERATURES = [1400, 1660]\n",
    "pts_dict = {}\n",
    "active_phases = ['A3', 'BCC2', 'FCC4', 'NI3TI', 'NITI2', 'LIQUID', 'C14']\n",
    "for phase_name in filter_phases(dbf, list(map(v.Species, comps)), phases):\n",
    "    print(phase_name, end=': T= ')\n",
    "    phase_pts = []\n",
    "    for T in TEMPERATURES:\n",
    "        print(T, end=' ')\n",
    "        phase_pts.append(sample_phase_points(dbf, comps, phase_name, {v.T: T, v.P: 101325, v.N: 1, v.X('FE'): (0, 1.01, 0.1), v.X('NI'): (0, 1.01, 0.1)}, 500, 100))\n",
    "    pts_dict[phase_name] = np.concatenate(phase_pts)\n",
    "    print(f'- {pts_dict[phase_name].shape[0]} points')"
   ]
  },
  {
   "cell_type": "markdown",
   "metadata": {},
   "source": [
    "# Individual layers\n",
    "\n",
    "Note that in all simulations, the point dictionary will be copied. This means that each simulation will not be affected by others regardless of the number of times/order of the simulations. At the same time, the added points won't be able to accumulate through the simulations. They will be reproducible.\n",
    "\n",
    "Common parameters for all simulations."
   ]
  },
  {
   "cell_type": "code",
   "execution_count": null,
   "metadata": {},
   "outputs": [],
   "source": [
    "RESULTS_DIR = os.path.join('results')\n",
    "if not os.path.exists(RESULTS_DIR):\n",
    "    os.mkdir(RESULTS_DIR)\n",
    "LAYERS_DIR = os.path.join(RESULTS_DIR, 'layers')\n",
    "if not os.path.exists(LAYERS_DIR):\n",
    "    os.mkdir(LAYERS_DIR)"
   ]
  },
  {
   "cell_type": "code",
   "execution_count": null,
   "metadata": {},
   "outputs": [],
   "source": [
    "step_temperature = 10.0\n",
    "verbose = True"
   ]
  },
  {
   "cell_type": "markdown",
   "metadata": {},
   "source": [
    "## CP Ti\n",
    "\n",
    "### Layer 24"
   ]
  },
  {
   "cell_type": "code",
   "execution_count": null,
   "metadata": {},
   "outputs": [],
   "source": [
    "composition = {v.W('NI'): 0.060, v.W('TI'): 0.834}\n",
    "composition = W_to_X(composition, dbf, comps)\n",
    "start_temperature = 1620\n",
    "res = simulate_scheil_solidification(dbf, comps, phases, composition, start_temperature=start_temperature, step_temperature=step_temperature, verbose=verbose, eq_kwargs={'calc_opts': {'points': copy.deepcopy(pts_dict)}})\n",
    "print(res)\n",
    "with open(os.path.join(LAYERS_DIR, 'CPTi-L24.json'), 'w') as fp:\n",
    "    json.dump(res.to_dict(), fp)\n",
    "print(\", \".join([f\"({ph}: {vals[-1]:0.4f})\" for ph, vals in res.cum_phase_amounts.items() if not np.isclose(vals[-1], 0)]))"
   ]
  },
  {
   "cell_type": "code",
   "execution_count": null,
   "metadata": {},
   "outputs": [],
   "source": [
    "eq_sol = simulate_equilibrium_solidification(dbf, comps, phases, composition, start_temperature=start_temperature, step_temperature=step_temperature, verbose=verbose, eq_kwargs={'calc_opts': {'points': copy.deepcopy(pts_dict)}})\n",
    "eq_res = equilibrium(dbf, comps, phases, {v.P: 101325, v.N: 1.0, v.T: eq_sol.temperatures[-1], **composition})\n",
    "print(\", \".join([f\"({ph}: {val:0.4f})\" for ph, val in zip(order_disorder_eq_phases(eq_res, ord_disord_map), eq_res.NP.values.squeeze()) if ph != '']))"
   ]
  },
  {
   "cell_type": "markdown",
   "metadata": {},
   "source": [
    "### Layer 32"
   ]
  },
  {
   "cell_type": "code",
   "execution_count": null,
   "metadata": {},
   "outputs": [],
   "source": [
    "composition = {v.W('NI'): 0.165, v.W('TI'): 0.533}\n",
    "composition = W_to_X(composition, dbf, comps)\n",
    "start_temperature = 1600\n",
    "res = simulate_scheil_solidification(dbf, comps, phases, composition, start_temperature=start_temperature, step_temperature=step_temperature, verbose=verbose, eq_kwargs={'calc_opts': {'points': copy.deepcopy(pts_dict)}})\n",
    "print(res)\n",
    "with open(os.path.join(LAYERS_DIR, 'CPTi-L32.json'), 'w') as fp:\n",
    "    json.dump(res.to_dict(), fp)\n",
    "print(\", \".join([f\"({ph}: {vals[-1]:0.4f})\" for ph, vals in res.cum_phase_amounts.items() if not np.isclose(vals[-1], 0)]))"
   ]
  },
  {
   "cell_type": "code",
   "execution_count": null,
   "metadata": {},
   "outputs": [],
   "source": [
    "eq_sol = simulate_equilibrium_solidification(dbf, comps, phases, composition, start_temperature=start_temperature, step_temperature=step_temperature, verbose=verbose, eq_kwargs={'calc_opts': {'points': copy.deepcopy(pts_dict)}})\n",
    "eq_res = equilibrium(dbf, comps, phases, {v.P: 101325, v.N: 1.0, v.T: eq_sol.temperatures[-1], **composition})\n",
    "print(\", \".join([f\"({ph}: {val:0.4f})\" for ph, val in zip(order_disorder_eq_phases(eq_res, ord_disord_map), eq_res.NP.values.squeeze()) if ph != '']))"
   ]
  },
  {
   "cell_type": "markdown",
   "metadata": {},
   "source": [
    "## Ti-6Al-4V\n",
    "\n",
    "### Layer 26"
   ]
  },
  {
   "cell_type": "code",
   "execution_count": null,
   "metadata": {},
   "outputs": [],
   "source": [
    "composition = {v.W('NI'): 0.127, v.W('TI'): 0.647}\n",
    "composition = W_to_X(composition, dbf, comps)\n",
    "start_temperature = 1400\n",
    "res = simulate_scheil_solidification(dbf, comps, phases, composition, start_temperature=start_temperature, step_temperature=step_temperature, verbose=verbose, eq_kwargs={'calc_opts': {'points': copy.deepcopy(pts_dict)}})\n",
    "print(res)\n",
    "with open(os.path.join(LAYERS_DIR, 'Ti64-L26.json'), 'w') as fp:\n",
    "    json.dump(res.to_dict(), fp)\n",
    "print(\", \".join([f\"({ph}: {vals[-1]:0.4f})\" for ph, vals in res.cum_phase_amounts.items() if not np.isclose(vals[-1], 0)]))"
   ]
  },
  {
   "cell_type": "code",
   "execution_count": null,
   "metadata": {},
   "outputs": [],
   "source": [
    "eq_sol = simulate_equilibrium_solidification(dbf, comps, phases, composition, start_temperature=start_temperature, step_temperature=step_temperature, verbose=verbose, eq_kwargs={'calc_opts': {'points': copy.deepcopy(pts_dict)}})\n",
    "eq_res = equilibrium(dbf, comps, phases, {v.P: 101325, v.N: 1.0, v.T: eq_sol.temperatures[-1], **composition})\n",
    "print(\", \".join([f\"({ph}: {val:0.4f})\" for ph, val in zip(order_disorder_eq_phases(eq_res, ord_disord_map), eq_res.NP.values.squeeze()) if ph != '']))"
   ]
  },
  {
   "cell_type": "markdown",
   "metadata": {},
   "source": [
    "### Layer 33"
   ]
  },
  {
   "cell_type": "code",
   "execution_count": null,
   "metadata": {},
   "outputs": [],
   "source": [
    "composition = {v.W('NI'): 0.249, v.W('TI'): 0.328}\n",
    "composition = W_to_X(composition, dbf, comps)\n",
    "start_temperature = 1700\n",
    "res = simulate_scheil_solidification(dbf, comps, phases, composition, start_temperature=start_temperature, step_temperature=step_temperature, verbose=verbose, eq_kwargs={'calc_opts': {'points': copy.deepcopy(pts_dict)}})\n",
    "print(res)\n",
    "with open(os.path.join(LAYERS_DIR, 'Ti64-L33.json'), 'w') as fp:\n",
    "    json.dump(res.to_dict(), fp)\n",
    "print(\", \".join([f\"({ph}: {vals[-1]:0.4f})\" for ph, vals in res.cum_phase_amounts.items() if not np.isclose(vals[-1], 0)]))"
   ]
  },
  {
   "cell_type": "code",
   "execution_count": null,
   "metadata": {},
   "outputs": [],
   "source": [
    "eq_sol = simulate_equilibrium_solidification(dbf, comps, phases, composition, start_temperature=start_temperature, step_temperature=step_temperature, verbose=verbose, eq_kwargs={'calc_opts': {'points': copy.deepcopy(pts_dict)}})\n",
    "eq_res = equilibrium(dbf, comps, phases, {v.P: 101325, v.N: 1.0, v.T: eq_sol.temperatures[-1], **composition})\n",
    "print(\", \".join([f\"({ph}: {val:0.4f})\" for ph, val in zip(order_disorder_eq_phases(eq_res, ord_disord_map), eq_res.NP.values.squeeze()) if ph != '']))"
   ]
  },
  {
   "cell_type": "markdown",
   "metadata": {},
   "source": [
    "### Layer 35"
   ]
  },
  {
   "cell_type": "code",
   "execution_count": null,
   "metadata": {},
   "outputs": [],
   "source": [
    "composition = {v.W('NI'): 0.285, v.W('TI'): 0.235}\n",
    "composition = W_to_X(composition, dbf, comps)\n",
    "start_temperature = 1700\n",
    "res = simulate_scheil_solidification(dbf, comps, phases, composition, start_temperature=start_temperature, step_temperature=step_temperature, verbose=verbose, eq_kwargs={'calc_opts': {'points': copy.deepcopy(pts_dict)}})\n",
    "print(res)\n",
    "with open(os.path.join(LAYERS_DIR, 'Ti64-L35.json'), 'w') as fp:\n",
    "    json.dump(res.to_dict(), fp)\n",
    "print(\", \".join([f\"({ph}: {vals[-1]:0.4f})\" for ph, vals in res.cum_phase_amounts.items() if not np.isclose(vals[-1], 0)]))"
   ]
  },
  {
   "cell_type": "code",
   "execution_count": null,
   "metadata": {},
   "outputs": [],
   "source": [
    "eq_sol = simulate_equilibrium_solidification(dbf, comps, phases, composition, start_temperature=start_temperature, step_temperature=step_temperature, verbose=verbose, eq_kwargs={'calc_opts': {'points': copy.deepcopy(pts_dict)}})\n",
    "eq_res = equilibrium(dbf, comps, phases, {v.P: 101325, v.N: 1.0, v.T: eq_sol.temperatures[-1], **composition})\n",
    "print(\", \".join([f\"({ph}: {val:0.4f})\" for ph, val in zip(order_disorder_eq_phases(eq_res, ord_disord_map), eq_res.NP.values.squeeze()) if ph != '']))"
   ]
  },
  {
   "cell_type": "markdown",
   "metadata": {},
   "source": [
    "#### Visualizations\n",
    "\n",
    "##### Phase fractions through solidification"
   ]
  },
  {
   "cell_type": "code",
   "execution_count": null,
   "metadata": {},
   "outputs": [],
   "source": [
    "for phase_name, amounts in res.cum_phase_amounts.items():\n",
    "    if amounts[-1] > 0:  # If the total phase fraction is non-zero\n",
    "        plt.plot(res.temperatures, amounts, label=phase_name)\n",
    "plt.legend()\n",
    "plt.xlabel('Temperature (K)')\n",
    "plt.ylabel('Phase Fraction')"
   ]
  },
  {
   "cell_type": "markdown",
   "metadata": {},
   "source": [
    "##### Solidification path"
   ]
  },
  {
   "cell_type": "code",
   "execution_count": null,
   "metadata": {},
   "outputs": [],
   "source": [
    "fig = plt.figure(figsize=(8,6))\n",
    "ax = fig.gca(projection='triangular')\n",
    "ax.plot(res.x_liquid['NI'], res.x_liquid['TI'])\n",
    "ax.scatter([res.x_liquid['NI'][0]], [res.x_liquid['TI'][0]], label='Start', zorder=10)\n",
    "ax.scatter([res.x_liquid['NI'][-2]], [res.x_liquid['TI'][-2]], label='End', zorder=10)\n",
    "ax.set_xlabel('X(NI)', size=15)\n",
    "ax.set_ylabel('X(TI)', rotation=60, labelpad=-80, size=15)\n",
    "ax.set_title('Solidification Path', size=20)\n",
    "ax.legend()"
   ]
  },
  {
   "cell_type": "markdown",
   "metadata": {},
   "source": [
    "### Layer 45"
   ]
  },
  {
   "cell_type": "code",
   "execution_count": null,
   "metadata": {},
   "outputs": [],
   "source": [
    "composition = {v.W('NI'): 0.332, v.W('TI'): 0.120}\n",
    "composition = W_to_X(composition, dbf, comps)\n",
    "start_temperature = 1540\n",
    "res = simulate_scheil_solidification(dbf, comps, phases, composition, start_temperature=start_temperature, step_temperature=step_temperature, verbose=verbose, eq_kwargs={'calc_opts': {'points': copy.deepcopy(pts_dict)}})\n",
    "print(res)\n",
    "with open(os.path.join(LAYERS_DIR, 'Ti64-L45.json'), 'w') as fp:\n",
    "    json.dump(res.to_dict(), fp)\n",
    "print(\", \".join([f\"({ph}: {vals[-1]:0.4f})\" for ph, vals in res.cum_phase_amounts.items() if not np.isclose(vals[-1], 0)]))"
   ]
  },
  {
   "cell_type": "code",
   "execution_count": null,
   "metadata": {},
   "outputs": [],
   "source": [
    "eq_sol = simulate_equilibrium_solidification(dbf, comps, phases, composition, start_temperature=start_temperature, step_temperature=step_temperature, verbose=verbose, eq_kwargs={'calc_opts': {'points': copy.deepcopy(pts_dict)}})\n",
    "eq_res = equilibrium(dbf, comps, phases, {v.P: 101325, v.N: 1.0, v.T: eq_sol.temperatures[-1], **composition})\n",
    "print(\", \".join([f\"({ph}: {val:0.4f})\" for ph, val in zip(order_disorder_eq_phases(eq_res, ord_disord_map), eq_res.NP.values.squeeze()) if ph != '']))"
   ]
  },
  {
   "cell_type": "markdown",
   "metadata": {},
   "source": [
    "# Gradient Path Solidification\n",
    "## Path construction\n",
    "\n",
    "Build a composition path from pure Ti to Invar-36 (Fe-36 wt% Ni). Weight fractions are converted to mole fractions (as used by pycalphad).\n",
    "\n",
    "Scheil-Gulliver and equilibrium solidification simulations will loop over this linear path."
   ]
  },
  {
   "cell_type": "code",
   "execution_count": null,
   "metadata": {},
   "outputs": [],
   "source": [
    "start = {v.W('NI'): 0.0, v.W('TI'): 1.0} # pure Ti\n",
    "end = {v.W('NI'): 0.36, v.W('TI'): 0.0}  # Invar-36\n",
    "def fmt_comps(comp_conds):\n",
    "    return '-'.join([f'{c}={val:0.3f}' for c, val in comp_conds.items()])\n",
    "\n",
    "all_comps = []  # mole fraction\n",
    "for mix in np.linspace(1e-3, 1, 50):\n",
    "    all_comps.append(W_to_X(comp_interp(start, end, mix), dbf, comps))\n",
    "\n",
    "# Note, compositions here are in mole fraction, but input were mass fraction.\n",
    "print(f\"Start: {fmt_comps(all_comps[0])}\")\n",
    "print(f\"End  : {fmt_comps(all_comps[-1])}\")"
   ]
  },
  {
   "cell_type": "markdown",
   "metadata": {},
   "source": [
    "## Scheil-Gulliver\n",
    "### Settings\n",
    "\n",
    "Save the results in a local results directory and set the main controlling.\n",
    "\n",
    "The start temperature should be the highest temperature that is pure liquid along the whole path. Titanium has a melting point of about 1940 K, so 2000 K is chosen."
   ]
  },
  {
   "cell_type": "code",
   "execution_count": null,
   "metadata": {},
   "outputs": [],
   "source": [
    "RESULTS_DIR = os.path.join('results')\n",
    "if not os.path.exists(RESULTS_DIR):\n",
    "    os.mkdir(RESULTS_DIR)\n",
    "PATH_DIR = os.path.join(RESULTS_DIR, 'scheil-path')\n",
    "if not os.path.exists(PATH_DIR):\n",
    "    os.mkdir(PATH_DIR)\n",
    "START_TEMPERATURE = 2000.0  # global start temperature\n",
    "STEP_TEMPERATURE = 10.0  # temperature step size\n",
    "VERBOSE = False"
   ]
  },
  {
   "cell_type": "markdown",
   "metadata": {},
   "source": [
    "### Simulations\n",
    "\n",
    "Typically each simulation on the path finishes in ~7 minutes on average for a 2015 MacBook Pro with an Intel i7 processor.\n",
    "50 compositions gives a total time of about 6 hours."
   ]
  },
  {
   "cell_type": "code",
   "execution_count": null,
   "metadata": {},
   "outputs": [],
   "source": [
    "prefix = 'Fe-Ni-Ti_path'  # file name prefix\n",
    "# copy points at first for reproducibilty, but use along the whole path for speed and accuracy\n",
    "path_pts = copy.deepcopy(pts_dict)\n",
    "for i, composition in enumerate(all_comps):\n",
    "    formatted_name = fmt_comps(composition)\n",
    "    print(formatted_name, end='  ==  ')\n",
    "    res = simulate_scheil_solidification(dbf, comps, phases, composition, start_temperature=START_TEMPERATURE, adaptive=True, step_temperature=STEP_TEMPERATURE, verbose=VERBOSE, eq_kwargs={'calc_opts': {'points': path_pts}})\n",
    "    for ph, amnts in res.cum_phase_amounts.items():\n",
    "        print(f'{ph}: {amnts[-1]:0.4f}', end=', ')\n",
    "    print()\n",
    "    with open(os.path.join(PATH_DIR, f'{prefix}_i={i:03d}_{formatted_name}.json'), 'w') as fp:\n",
    "        json.dump(res.to_dict(), fp)"
   ]
  },
  {
   "cell_type": "markdown",
   "metadata": {},
   "source": [
    "### Plotting\n",
    "Load the data for the path from the results directory and create a dictionary mapping a phase to the fractions along the path."
   ]
  },
  {
   "cell_type": "code",
   "execution_count": null,
   "metadata": {},
   "outputs": [],
   "source": [
    "MIN_PHASE_FRACTION = 1e-6\n",
    "solid_phases = [ph for ph in phases if ph != 'LIQUID']\n",
    "phase_fractions = {ph: [] for ph in solid_phases if ph != solid_phases}\n",
    "for filename in sorted(glob(os.path.join(f'{PATH_DIR}', '*'))):\n",
    "    with open(filename) as fp:\n",
    "        data = json.load(fp)\n",
    "    sol_res = SolidificationResult.from_dict(data)\n",
    "    for ph in solid_phases:\n",
    "        phase_fractions[ph].append(sol_res.cum_phase_amounts[ph][-1])\n",
    "# Only include phases that have *some* amount greater than MIN_PHASE_FRACTION\n",
    "phase_fractions = {ph: np.array(fracs) for ph, fracs in phase_fractions.items() if np.max(fracs) > MIN_PHASE_FRACTION}"
   ]
  },
  {
   "cell_type": "markdown",
   "metadata": {},
   "source": [
    "Manually set the line styles and coloring."
   ]
  },
  {
   "cell_type": "code",
   "execution_count": null,
   "metadata": {},
   "outputs": [],
   "source": [
    "LINE_STYLES = {\n",
    "    'A1': 'dotted',\n",
    "    'A2': (0, (3, 5, 1, 5)),\n",
    "    'A3': (0, (3, 10, 1, 10)),\n",
    "    'BCC2': (0, (5, 5)),\n",
    "    'C14': 'dashed',\n",
    "    'FCC4': (0, (5, 10)),\n",
    "    'NI3TI': 'solid',\n",
    "    'NITI2': 'dashdot'\n",
    "}\n",
    "COLORS = {\n",
    "    'A1': '#000000',\n",
    "    'A2': '#000075',\n",
    "    'A3': '#808000',\n",
    "    'BCC2': '#911eb4',\n",
    "    'C14': '#f58231',\n",
    "    'FCC4': '#800000',\n",
    "    'NI3TI': '#3cb44b',\n",
    "    'NITI2': '#9A6324'\n",
    "}"
   ]
  },
  {
   "cell_type": "markdown",
   "metadata": {},
   "source": [
    "Plot the phase fractions."
   ]
  },
  {
   "cell_type": "code",
   "execution_count": null,
   "metadata": {},
   "outputs": [],
   "source": [
    "path_xs = np.linspace(0, 1, list(phase_fractions.values())[0].size) # plotting along the fraction of Invar\n",
    "fig = plt.figure()\n",
    "ax = fig.gca()\n",
    "for ph, fracs in phase_fractions.items():\n",
    "    ax.plot(path_xs, fracs, color=COLORS[ph], ls=LINE_STYLES[ph], label=ph)\n",
    "\n",
    "\n",
    "ax.set_xlabel('Fraction Invar', fontsize=14)\n",
    "ax.set_ylabel('Phase Fraction\\nScheil Solidification', fontsize=14)\n",
    "#ax.legend(legend_handles, {ph: COLORS[ph] for ph in sorted(phase_fractions.keys())}, loc=(1.02,0.2))\n",
    "ax.legend(loc=(1.02,0.2), handlelength=4)\n",
    "ax.set_xlim(0, 1)\n",
    "ax.set_ylim(-0.01, 1.01)\n",
    "fig.savefig('scheil-gulliver-path-solidification.tiff', bbox_inches='tight')"
   ]
  },
  {
   "cell_type": "markdown",
   "metadata": {},
   "source": [
    "## Calculating equilibrium solidification phase fraction \n",
    "\n",
    "### Settings\n",
    "\n",
    "Since the phase fractions we are interested in plotting are at the end of the simulations and the equilibrium solidification simulations do a binary search at the end, we don't need as fine of a step size."
   ]
  },
  {
   "cell_type": "code",
   "execution_count": null,
   "metadata": {},
   "outputs": [],
   "source": [
    "RESULTS_DIR = os.path.join('results')\n",
    "if not os.path.exists(RESULTS_DIR):\n",
    "    os.mkdir(RESULTS_DIR)\n",
    "PATH_DIR = os.path.join(RESULTS_DIR, 'eq-path')\n",
    "if not os.path.exists(PATH_DIR):\n",
    "    os.mkdir(PATH_DIR)\n",
    "START_TEMPERATURE = 2000.0  # global start temperature\n",
    "STEP_TEMPERATURE = 10.0  # temperature step size\n",
    "VERBOSE = False"
   ]
  },
  {
   "cell_type": "markdown",
   "metadata": {},
   "source": [
    "### Simulations\n",
    "\n",
    "Typically each simulation on the path finishes in ~4 minutes on average for a 2015 MacBook Pro with an Intel i7 processor."
   ]
  },
  {
   "cell_type": "code",
   "execution_count": null,
   "metadata": {},
   "outputs": [],
   "source": [
    "prefix = 'Fe-Ni-Ti_path'\n",
    "# copy points at first for reproducibilty, but use along the whole path for speed\n",
    "path_pts = copy.deepcopy(pts_dict)\n",
    "for i, composition in enumerate(all_comps):\n",
    "    formatted_name = fmt_comps(composition)\n",
    "    print(formatted_name, end='  ==  ')\n",
    "    res = simulate_equilibrium_solidification(dbf, comps, phases, composition, start_temperature=START_TEMPERATURE, adaptive=True, step_temperature=STEP_TEMPERATURE, verbose=VERBOSE, eq_kwargs={'calc_opts': {'points': path_pts}})\n",
    "    for ph, amnts in res.cum_phase_amounts.items():\n",
    "        print(f'{ph}: {amnts[-1]:0.4f}', end=', ')\n",
    "    print()\n",
    "    with open(os.path.join(PATH_DIR, f'{prefix}_i={i:03d}_{formatted_name}.json'), 'w') as fp:\n",
    "        json.dump(res.to_dict(), fp)"
   ]
  },
  {
   "cell_type": "code",
   "execution_count": null,
   "metadata": {},
   "outputs": [],
   "source": [
    "MIN_PHASE_FRACTION = 1e-6\n",
    "solid_phases = [ph for ph in phases if ph != 'LIQUID']\n",
    "phase_fractions = {ph: [] for ph in solid_phases if ph != solid_phases}\n",
    "for filename in sorted(glob(os.path.join(f'{PATH_DIR}', '*'))):\n",
    "    with open(filename) as fp:\n",
    "        data = json.load(fp)\n",
    "    sol_res = SolidificationResult.from_dict(data)\n",
    "    for ph in solid_phases:\n",
    "        phase_fractions[ph].append(sol_res.cum_phase_amounts[ph][-1])\n",
    "# Only include phases that have *some* amount greater than MIN_PHASE_FRACTION\n",
    "phase_fractions = {ph: np.array(fracs) for ph, fracs in phase_fractions.items() if np.max(fracs) > MIN_PHASE_FRACTION}"
   ]
  },
  {
   "cell_type": "code",
   "execution_count": null,
   "metadata": {},
   "outputs": [],
   "source": [
    "# Same styles and colors as in the Scheil-Gulliver path plot\n",
    "LINE_STYLES = {\n",
    "    'A1': 'dotted',\n",
    "    'A2': (0, (3, 5, 1, 5)),\n",
    "    'A3': (0, (3, 10, 1, 10)),\n",
    "    'BCC2': (0, (5, 5)),\n",
    "    'C14': 'dashed',\n",
    "    'FCC4': (0, (5, 10)),\n",
    "    'NI3TI': 'solid',\n",
    "    'NITI2': 'dashdot'\n",
    "}\n",
    "COLORS = {\n",
    "    'A1': '#000000',\n",
    "    'A2': '#000075',\n",
    "    'A3': '#808000',\n",
    "    'BCC2': '#911eb4',\n",
    "    'C14': '#f58231',\n",
    "    'FCC4': '#800000',\n",
    "    'NI3TI': '#3cb44b',\n",
    "    'NITI2': '#9A6324'\n",
    "}"
   ]
  },
  {
   "cell_type": "code",
   "execution_count": null,
   "metadata": {},
   "outputs": [],
   "source": [
    "path_xs = np.linspace(0, 1, list(phase_fractions.values())[0].size) # plotting along the fraction of Invar\n",
    "fig = plt.figure()\n",
    "ax = fig.gca()\n",
    "for ph, fracs in phase_fractions.items():\n",
    "    ax.plot(path_xs, fracs, color=COLORS[ph], ls=LINE_STYLES[ph], label=ph)\n",
    "\n",
    "\n",
    "ax.set_xlabel('Fraction Invar', fontsize=14)\n",
    "ax.set_ylabel('Phase Fraction\\nEquilibrium Solidification', fontsize=14)\n",
    "ax.legend(loc=(1.02,0.2), handlelength=4)\n",
    "ax.set_xlim(0, 1)\n",
    "ax.set_ylim(-0.01, 1.01)\n",
    "fig.savefig('eq-path-solidification.tiff', bbox_inches='tight')"
   ]
  }
 ],
 "metadata": {
  "kernelspec": {
   "display_name": "Python [conda env:calphad-dev-2]",
   "language": "python",
   "name": "conda-env-calphad-dev-2-py"
  },
  "language_info": {
   "codemirror_mode": {
    "name": "ipython",
    "version": 3
   },
   "file_extension": ".py",
   "mimetype": "text/x-python",
   "name": "python",
   "nbconvert_exporter": "python",
   "pygments_lexer": "ipython3",
   "version": "3.7.3"
  }
 },
 "nbformat": 4,
 "nbformat_minor": 4
}
